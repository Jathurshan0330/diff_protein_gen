{
 "cells": [
  {
   "cell_type": "code",
   "execution_count": 1,
   "id": "f8094e0c-ff04-4fb0-8d81-84c248f47f5b",
   "metadata": {},
   "outputs": [
    {
     "name": "stdout",
     "output_type": "stream",
     "text": [
      "1 1 0\n"
     ]
    }
   ],
   "source": [
    "import os\n",
    "os.environ[\"CUDA_DEVICE_ORDER\"] = \"PCI_BUS_ID\"\n",
    "os.environ[\"CUDA_VISIBLE_DEVICES\"] = \"1\"\n",
    "import torch\n",
    "device = torch.device(\"cuda\" if torch.cuda.is_available() else \"cpu\")\n",
    "print(os.environ[\"CUDA_VISIBLE_DEVICES\"],torch.cuda.device_count(), torch.cuda.current_device())"
   ]
  },
  {
   "cell_type": "code",
   "execution_count": 2,
   "id": "1b6c8be6-f95d-4d49-89f7-5f9770665211",
   "metadata": {},
   "outputs": [
    {
     "name": "stdout",
     "output_type": "stream",
     "text": [
      "1.12.0+cu102\n"
     ]
    }
   ],
   "source": [
    "import os\n",
    "import torch\n",
    "import torch.nn as nn\n",
    "from matplotlib import pyplot as plt\n",
    "from tqdm import tqdm\n",
    "from torch import optim\n",
    "# from utils import *\n",
    "# from modules import UNet\n",
    "import logging\n",
    "from torch.utils.tensorboard import SummaryWriter\n",
    "\n",
    "import torch\n",
    "import torchvision\n",
    "from torchvision import transforms, datasets\n",
    "import torch.nn as nn\n",
    "from torch.nn import init\n",
    "import torch.nn.functional as F\n",
    "from torch import optim as optim\n",
    "from torch.utils.data import Dataset, DataLoader\n",
    "import numpy as np\n",
    "import matplotlib.pyplot as plt\n",
    "import glob\n",
    "import os\n",
    "from mpl_toolkits.axes_grid1 import make_axes_locatable\n",
    "import time\n",
    "import math\n",
    "\n",
    "print(torch.__version__)\n",
    "torch.cuda.is_available()\n",
    "\n",
    "import h5py\n"
   ]
  },
  {
   "cell_type": "code",
   "execution_count": 3,
   "id": "4e256dc1-8ad0-41b7-9fbc-58bc72cdd62e",
   "metadata": {},
   "outputs": [],
   "source": [
    "### Diffusion class\n",
    "class Diffusion:\n",
    "    def __init__(self, noise_steps=1000, beta_start=1e-4, beta_end=0.02, img_size=[32, 16, 16], device=\"cuda\"):\n",
    "        self.noise_steps = noise_steps\n",
    "        self.beta_start = beta_start\n",
    "        self.beta_end = beta_end\n",
    "        self.img_size = img_size\n",
    "        self.device = device\n",
    "\n",
    "        self.beta = self.prepare_noise_schedule().to(device)\n",
    "        self.alpha = 1. - self.beta\n",
    "        self.alpha_hat = torch.cumprod(self.alpha, dim=0)\n",
    "\n",
    "    def prepare_noise_schedule(self):\n",
    "        return torch.linspace(self.beta_start, self.beta_end, self.noise_steps)\n",
    "\n",
    "    def noise_images(self, x, t):\n",
    "        sqrt_alpha_hat = torch.sqrt(self.alpha_hat[t])[:, None, None, None]\n",
    "        sqrt_one_minus_alpha_hat = torch.sqrt(1 - self.alpha_hat[t])[:, None, None, None]\n",
    "        Ɛ = torch.randn_like(x)\n",
    "        return sqrt_alpha_hat * x + sqrt_one_minus_alpha_hat * Ɛ, Ɛ\n",
    "\n",
    "    def sample_timesteps(self, n):\n",
    "        return torch.randint(low=1, high=self.noise_steps, size=(n,))\n",
    "\n",
    "    def sample(self, model, n):\n",
    "        logging.info(f\"Sampling {n} new images....\")\n",
    "        model.eval()\n",
    "        with torch.no_grad():\n",
    "            x = torch.randn((n, self.img_size[0], self.img_size[1],self.img_size[2])).to(self.device)\n",
    "            for i in tqdm(reversed(range(1, self.noise_steps)), position=0):\n",
    "                t = (torch.ones(n) * i).long().to(self.device)\n",
    "                predicted_noise = model(x, t)\n",
    "                alpha = self.alpha[t][:, None, None, None]\n",
    "                alpha_hat = self.alpha_hat[t][:, None, None, None]\n",
    "                beta = self.beta[t][:, None, None, None]\n",
    "                if i > 1:\n",
    "                    noise = torch.randn_like(x)\n",
    "                else:\n",
    "                    noise = torch.zeros_like(x)\n",
    "                x = 1 / torch.sqrt(alpha) * (x - ((1 - alpha) / (torch.sqrt(1 - alpha_hat))) * predicted_noise) + torch.sqrt(beta) * noise\n",
    "        model.train()\n",
    "        # x = (x.clamp(-1, 1) + 1) / 2\n",
    "        # x = x.clamp(min=0)\n",
    "        # x = (x * 255).type(torch.uint8)\n",
    "        return x\n",
    "    \n",
    "    # def sample(self, model, n, labels, cfg_scale=3):\n",
    "    #     logging.info(f\"Sampling {n} new images....\")\n",
    "    #     model.eval()\n",
    "    #     with torch.no_grad():\n",
    "    #         x = torch.randn((n, self.img_size[0], self.img_size[1],self.img_size[2])).to(self.device)\n",
    "    #         for i in tqdm(reversed(range(1, self.noise_steps)), position=0):\n",
    "    #             t = (torch.ones(n) * i).long().to(self.device)\n",
    "    #             predicted_noise = model(x, t, labels)\n",
    "    #             if cfg_scale > 0:\n",
    "    #                 uncond_predicted_noise = model(x, t, None)\n",
    "    #                 predicted_noise = torch.lerp(uncond_predicted_noise, predicted_noise, cfg_scale)\n",
    "    #             alpha = self.alpha[t][:, None, None, None]\n",
    "    #             alpha_hat = self.alpha_hat[t][:, None, None, None]\n",
    "    #             beta = self.beta[t][:, None, None, None]\n",
    "    #             if i > 1:\n",
    "    #                 noise = torch.randn_like(x)\n",
    "    #             else:\n",
    "    #                 noise = torch.zeros_like(x)\n",
    "    #             x = 1 / torch.sqrt(alpha) * (x - ((1 - alpha) / (torch.sqrt(1 - alpha_hat))) * predicted_noise) + torch.sqrt(beta) * noise\n",
    "    #     model.train()\n",
    "    #     # x = (x.clamp(-1, 1) + 1) / 2\n",
    "    #     # x = (x * 255).type(torch.uint8)\n",
    "        # x = x.clamp(0, 1)\n",
    "    #     return x"
   ]
  },
  {
   "cell_type": "code",
   "execution_count": 4,
   "id": "e70221c9-1bd6-47c6-920c-9d630dd35254",
   "metadata": {},
   "outputs": [
    {
     "name": "stderr",
     "output_type": "stream",
     "text": [
      "Failed to detect the name of this notebook, you can set it manually with the WANDB_NOTEBOOK_NAME environment variable to enable code saving.\n",
      "\u001b[34m\u001b[1mwandb\u001b[0m: Currently logged in as: \u001b[33mjathurshan_0330\u001b[0m. Use \u001b[1m`wandb login --relogin`\u001b[0m to force relogin\n",
      "/usr/bin/nvidia-modprobe: unrecognized option: \"-s\"\n",
      "\n",
      "ERROR: Invalid commandline, please run `/usr/bin/nvidia-modprobe --help` for usage information.\n",
      "\n",
      "\n",
      "/usr/bin/nvidia-modprobe: unrecognized option: \"-s\"\n",
      "\n",
      "ERROR: Invalid commandline, please run `/usr/bin/nvidia-modprobe --help` for usage information.\n",
      "\n",
      "\n"
     ]
    },
    {
     "data": {
      "text/html": [
       "wandb version 0.14.0 is available!  To upgrade, please run:\n",
       " $ pip install wandb --upgrade"
      ],
      "text/plain": [
       "<IPython.core.display.HTML object>"
      ]
     },
     "metadata": {},
     "output_type": "display_data"
    },
    {
     "data": {
      "text/html": [
       "Tracking run with wandb version 0.13.1"
      ],
      "text/plain": [
       "<IPython.core.display.HTML object>"
      ]
     },
     "metadata": {},
     "output_type": "display_data"
    },
    {
     "data": {
      "text/html": [
       "Run data is saved locally in <code>/home/jupyter-jathurshan/diff_protein_gen/wandb/run-20230322_153442-ralofpep</code>"
      ],
      "text/plain": [
       "<IPython.core.display.HTML object>"
      ]
     },
     "metadata": {},
     "output_type": "display_data"
    },
    {
     "data": {
      "text/html": [
       "Syncing run <strong><a href=\"https://wandb.ai/jathurshan_0330/diff_protein_gen/runs/ralofpep\" target=\"_blank\">easy-wildflower-56</a></strong> to <a href=\"https://wandb.ai/jathurshan_0330/diff_protein_gen\" target=\"_blank\">Weights & Biases</a> (<a href=\"https://wandb.me/run\" target=\"_blank\">docs</a>)<br/>"
      ],
      "text/plain": [
       "<IPython.core.display.HTML object>"
      ]
     },
     "metadata": {},
     "output_type": "display_data"
    },
    {
     "name": "stderr",
     "output_type": "stream",
     "text": [
      "\u001b[34m\u001b[1mwandb\u001b[0m: \u001b[33mWARNING\u001b[0m Calling wandb.run.save without any arguments is deprecated.Changes to attributes are automatically persisted.\n"
     ]
    }
   ],
   "source": [
    "is_wandb = True\n",
    "if is_wandb:\n",
    "    import wandb\n",
    "    wandb.init(project=\"diff_protein_gen\", entity=\"jathurshan_0330\")\n",
    "    wandb.run.name = \"New_Data_Dist_binned_generation_disto+allAngles(Diffusion)_unconditional\"\n",
    "    wandb.run.save()\n",
    "    # \"Finetuning only classification head Ki67 using SIMCLR Pretrained Model\"\n",
    "    exp_path = f\"./model_checkpoints/{wandb.run.name}\"\n",
    "    if not os.path.exists(exp_path):\n",
    "        os.mkdir(exp_path)"
   ]
  },
  {
   "cell_type": "markdown",
   "id": "221b7ca6-6580-490b-b96d-175577ef6765",
   "metadata": {},
   "source": [
    "## Data Loading"
   ]
  },
  {
   "cell_type": "code",
   "execution_count": 5,
   "id": "6efbba38-3994-4839-adbc-a47bca4d786e",
   "metadata": {},
   "outputs": [
    {
     "name": "stdout",
     "output_type": "stream",
     "text": [
      "9058\n",
      "6109\n",
      "0.0 309.6966314479636\n"
     ]
    }
   ],
   "source": [
    "### Load dataset\n",
    "file_list = glob.glob(\"/ssd/Protein_extracted_data/*.h5\")\n",
    "file_list.sort()\n",
    "print(len(file_list))\n",
    "\n",
    "\n",
    "new_list = []\n",
    "for i in file_list:\n",
    "    with h5py.File(i, \"r\") as f:\n",
    "            # dist_ref = np.array(f.get('dist_ref'))\n",
    "            sse = np.array(f.get('sse'))\n",
    "            # seq = np.array(f.get('seq'))\n",
    "            # mask = np.array(f.get('mask'))\n",
    "            f.close()\n",
    "    if len(sse.shape)!=0:\n",
    "        if sse.shape[-1]!=0:\n",
    "            new_list.append(i)\n",
    "print(len(new_list))#,error_list)\n",
    "\n",
    "\n",
    "c = 0\n",
    "max_value = 0\n",
    "min_value = 100000\n",
    "\n",
    "for i in new_list:\n",
    "    with h5py.File(i, \"r\") as f:\n",
    "            dist_ref = np.expand_dims(np.array(f.get('dist_ref')),axis=0)\n",
    "    if dist_ref.max()>max_value:\n",
    "        max_value = dist_ref.max()\n",
    "    if dist_ref.min()<min_value:\n",
    "        min_value = dist_ref.min()\n",
    "print(min_value,max_value)"
   ]
  },
  {
   "cell_type": "code",
   "execution_count": 6,
   "id": "75a4b351-d802-4643-8048-4644fb63e1bc",
   "metadata": {},
   "outputs": [
    {
     "name": "stdout",
     "output_type": "stream",
     "text": [
      "4887 611 611\n"
     ]
    }
   ],
   "source": [
    "# Split dataset into train val and test\n",
    "file_list = new_list#glob.glob(\"/home/jupyter-jathurshan/Protein_extracted_data/*.h5\")\n",
    "# file_list.sort()\n",
    "# print(len(file_list))\n",
    "\n",
    "train_file_list = file_list[:int(len(file_list)*0.8)]\n",
    "val_file_list = file_list[int(len(file_list)*0.8):int(len(file_list)*0.9)]\n",
    "test_file_list = file_list[int(len(file_list)*0.9):]\n",
    "\n",
    "print(len(train_file_list),len(val_file_list),len(test_file_list))"
   ]
  },
  {
   "cell_type": "code",
   "execution_count": 7,
   "id": "ae364b80-ae98-4de7-a512-08358d45df71",
   "metadata": {},
   "outputs": [],
   "source": [
    "## function to plot subplots\n",
    "def plot_sub_plots(rows,columns,img_list,title_list,cmap = 'inferno'):\n",
    "    fig, axs = plt.subplots(rows, columns, figsize = (columns*10,rows*10))\n",
    "    if rows == 1:\n",
    "        for i in range(len(img_list)):\n",
    "            im1 = axs[i].imshow(img_list[i],cmap=cmap)\n",
    "            axs[i].set_title(f\"{title_list[i]}\")\n",
    "            plt.colorbar(im1, ax=axs[i])#,shrink = 0.3\n",
    "    else:\n",
    "        for i in range(len(img_list)):\n",
    "            im1 = axs[i//columns][i%columns].imshow(img_list[i],cmap=cmap)\n",
    "            axs[i//columns][i%columns].set_title(f\"{title_list[i]}\")\n",
    "            plt.colorbar(im1, ax=axs[i//columns][i%columns])#,shrink = 0.3)\n",
    "    # plt.show()\n",
    "    return fig\n"
   ]
  },
  {
   "cell_type": "markdown",
   "id": "9596bcd7-f6b7-4790-9978-b1448de69760",
   "metadata": {
    "tags": []
   },
   "source": [
    "## Disto ref"
   ]
  },
  {
   "cell_type": "code",
   "execution_count": 8,
   "id": "73a90348-5a4d-48c3-a9d4-0634d06eaac1",
   "metadata": {},
   "outputs": [],
   "source": [
    "# import h5py\n",
    "# ### Using Distant Ref\n",
    "# class Protein_Dataset(Dataset):\n",
    "#     def __init__(self,file_list, device,pro_len = 64):\n",
    "      \n",
    "#         self.file_list = file_list\n",
    "#         self.pro_len = pro_len\n",
    "#         self.device = device\n",
    "        \n",
    "#         self.device = device\n",
    "        \n",
    "#         print(f\"Data_size : {len(self.file_list)}\") \n",
    "        \n",
    "#     def __len__(self):\n",
    "#         return len(self.file_list )\n",
    "\n",
    "#     def __getitem__(self, idx):\n",
    "        \n",
    "#         with h5py.File(self.file_list[idx], \"r\") as f:\n",
    "#             dist_ref = np.array(f.get('dist_ref'))\n",
    "#             dist_ref[np.isnan(dist_ref)] = 0\n",
    "#             sse = np.array(f.get('sse'))\n",
    "#             # seq = np.array(f.get('seq'))\n",
    "#             mask = np.array(f.get('mask'))\n",
    "#             f.close()\n",
    "        \n",
    "       \n",
    "        \n",
    "#         dist_ref = torch.from_numpy(dist_ref).unsqueeze(0).clamp(max=50)\n",
    "#         dist_ref =dist_ref/50\n",
    "#         sse = torch.from_numpy(sse).unsqueeze(0).float()\n",
    "#         # seq = np.array(f.get('seq'))\n",
    "#         mask = torch.from_numpy(mask).squeeze().unsqueeze(0)\n",
    "#         ref_len = dist_ref.shape[-1]\n",
    "#         # print(self.file_list[idx],dist_ref.shape,sse.shape)\n",
    "        \n",
    "#         # print(self.file_list[idx],dist_ref.shape,mask.shape,sse.shape)\n",
    "        \n",
    "# #         if dist_ref.shape[-1]<self.pro_len:\n",
    "# #             pad = ((self.pro_len-dist_ref.shape[-1])//2,(self.pro_len-dist_ref.shape[-1])//2,(self.pro_len-dist_ref.shape[-1])//2,(self.pro_len-dist_ref.shape[-1])//2)\n",
    "# #             dist_ref =  F.pad(dist_ref, pad, mode='reflect')\n",
    "# #             mask =  F.pad(mask, pad, mode='constant')\n",
    "            \n",
    "# #             pad = ((self.pro_len-sse.shape[-1])//2,(self.pro_len-sse.shape[-1])//2)\n",
    "# #             sse =  F.pad(sse, pad, mode='reflect')\n",
    "# #         elif dist_ref.shape[-1]>self.pro_len:\n",
    "# #             crop = transforms.CenterCrop(self.pro_len)\n",
    "# #             dist_ref = crop(dist_ref)\n",
    "# #             mask = crop(mask)\n",
    "# #             crop = transforms.CenterCrop((3,self.pro_len))\n",
    "# #             sse = crop(sse)\n",
    "         \n",
    "#         if dist_ref.shape[-1]!=self.pro_len:\n",
    "#             crop = transforms.CenterCrop(self.pro_len)\n",
    "#             dist_ref = crop(dist_ref)\n",
    "#             mask = crop(mask)\n",
    "#             crop = transforms.CenterCrop((3,self.pro_len))\n",
    "#             sse = crop(sse)\n",
    "           \n",
    "        \n",
    "# #         \n",
    "#         return dist_ref.to(self.device).float(), mask.to(self.device).float(), sse.to(self.device).float(),ref_len"
   ]
  },
  {
   "cell_type": "markdown",
   "id": "b11da1eb-4384-4ed7-bfcc-65889f787d29",
   "metadata": {},
   "source": [
    "## Disto Binned"
   ]
  },
  {
   "cell_type": "code",
   "execution_count": 9,
   "id": "d60c341c-f8f0-4e90-ad4e-7a204b4b6e1d",
   "metadata": {},
   "outputs": [],
   "source": [
    "## Dataset class for binned representations\n",
    "import h5py\n",
    "### Using Distant binned\n",
    "def mtx2bins(x_ref, start, end, nbins, mask):\n",
    "    bins = np.linspace(start, end, nbins)\n",
    "    x_true = np.digitize(x_ref, bins).astype(np.uint8)\n",
    "    x_true[mask] = 0\n",
    "    return np.eye(nbins+1)[x_true][...,:-1]\n",
    "class Protein_Dataset(Dataset):\n",
    "    def __init__(self,file_list, device,pro_len = 64):\n",
    "      \n",
    "        self.file_list = file_list\n",
    "        self.pro_len = pro_len\n",
    "        self.device = device\n",
    "        \n",
    "        self.device = device\n",
    "        \n",
    "        print(f\"Data_size : {len(self.file_list)}\") \n",
    "        \n",
    "    def __len__(self):\n",
    "        return len(self.file_list )\n",
    "\n",
    "    def __getitem__(self, idx):\n",
    "        \n",
    "        with h5py.File(self.file_list[idx], \"r\") as f:\n",
    "            # print(f.keys())\n",
    "            dist_ref = np.array(f.get('dist_ref'))\n",
    "            dist_ref[np.isnan(dist_ref)] = 0\n",
    "            \n",
    "            omega_ref = np.array(f.get('omega_ref'))\n",
    "            # omega_ref[np.isnan(omega_ref)] = 0\n",
    "            \n",
    "            phi_ref = np.array(f.get('phi_ref'))\n",
    "            # phi_ref[np.isnan(phi_ref)] = 0\n",
    "            \n",
    "            theta_ref = np.array(f.get('theta_ref'))\n",
    "            # theta_ref[np.isnan(theta_ref)] = 0\n",
    "            \n",
    "            sse = np.array(f.get('sse'))\n",
    "            # seq = np.array(f.get('seq'))\n",
    "            mask = np.array(f.get('mask'))\n",
    "            f.close()\n",
    "        \n",
    "       \n",
    "        \n",
    "        # dist_ref = torch.from_numpy(dist_ref).unsqueeze(0)#.clamp(max=50)\n",
    "        # dist_ref =dist_ref/50\n",
    "        dist_ref  = mtx2bins(dist_ref,2.0,  20.0, 37, mask=(dist_ref > 20))#),-1,0)\n",
    "        omega_ref  = torch.moveaxis(torch.from_numpy(mtx2bins(omega_ref, -np.pi, np.pi, 25, mask=(dist_ref[...,0]==1))),-1,0)\n",
    "        theta_ref  = torch.moveaxis(torch.from_numpy(mtx2bins(theta_ref, -np.pi, np.pi, 25, mask=(dist_ref[...,0]==1))),-1,0)\n",
    "        phi_ref  = torch.moveaxis(torch.from_numpy(mtx2bins(phi_ref,0.0, np.pi, 13, mask=(dist_ref[...,0]==1))),-1,0)\n",
    "        \n",
    "        dist_ref = torch.moveaxis(torch.from_numpy(dist_ref),-1,0)\n",
    "        \n",
    "        # print(dist_ref.shape)\n",
    "        sse = torch.from_numpy(sse).unsqueeze(0).float()\n",
    "        # seq = np.array(f.get('seq'))\n",
    "        mask = torch.from_numpy(mask).squeeze().unsqueeze(0)\n",
    "        ref_len = dist_ref.shape[-1]\n",
    "    \n",
    "         \n",
    "        if dist_ref.shape[-1]!=self.pro_len:\n",
    "            crop = transforms.CenterCrop(self.pro_len)\n",
    "            dist_ref = crop(dist_ref)\n",
    "            omega_ref = crop(omega_ref)\n",
    "            theta_ref = crop(theta_ref)\n",
    "            phi_ref = crop(phi_ref)\n",
    "            mask = crop(mask)\n",
    "            crop = transforms.CenterCrop((3,self.pro_len))\n",
    "            sse = crop(sse)\n",
    "           \n",
    "        \n",
    "#         \n",
    "        return [dist_ref.to(self.device).float(),omega_ref.to(self.device).float(),theta_ref.to(self.device).float(),phi_ref.to(self.device).float()], mask.to(self.device).float(), sse.to(self.device).float(),ref_len"
   ]
  },
  {
   "cell_type": "code",
   "execution_count": 10,
   "id": "672c935d-e085-4e56-8a15-ea4322806f39",
   "metadata": {},
   "outputs": [
    {
     "name": "stdout",
     "output_type": "stream",
     "text": [
      "Data_size : 4887\n",
      "Data_size : 611\n"
     ]
    }
   ],
   "source": [
    "train_dataset = Protein_Dataset(train_file_list, device = device) \n",
    "val_dataset = Protein_Dataset(val_file_list, device = device)"
   ]
  },
  {
   "cell_type": "code",
   "execution_count": 11,
   "id": "0b251823-566a-4012-b9d0-2598f3a2a950",
   "metadata": {},
   "outputs": [],
   "source": [
    "train_data_loader = torch.utils.data.DataLoader(train_dataset, batch_size=32, shuffle=True)\n",
    "val_data_loader = torch.utils.data.DataLoader(val_dataset, batch_size=32, shuffle=False)"
   ]
  },
  {
   "cell_type": "code",
   "execution_count": 12,
   "id": "396cf7a7-d4fe-41d0-898b-b5eb457bd7b0",
   "metadata": {},
   "outputs": [
    {
     "name": "stdout",
     "output_type": "stream",
     "text": [
      "torch.Size([32, 37, 64, 64]) torch.Size([32, 25, 64, 64]) torch.Size([32, 25, 64, 64]) torch.Size([32, 13, 64, 64]) torch.Size([32, 1, 64, 64]) torch.Size([32, 1, 3, 64]) tensor([134, 140,  72, 368, 325, 264, 168, 204, 391, 129, 209, 180, 138,  88,\n",
      "        194, 314, 160, 118, 135, 268, 814, 384, 293, 215,  67, 110, 341, 120,\n",
      "        460, 124,  59,  90])\n",
      "\n"
     ]
    },
    {
     "data": {
      "image/png": "[encoded data removed]",
      "text/plain": [
       "<Figure size 4320x720 with 12 Axes>"
      ]
     },
     "metadata": {
      "needs_background": "light"
     },
     "output_type": "display_data"
    }
   ],
   "source": [
    "[dist_ref,omega_ref,theta_ref,phi_ref],mask,sse,ref_len   = next(iter(train_data_loader))\n",
    "\n",
    "print(dist_ref.shape,omega_ref.shape,theta_ref.shape,phi_ref.shape,mask.shape,sse.shape,ref_len) \n",
    "ind = 0\n",
    "img_list = [dist_ref[ind].argmax(0).squeeze().detach().cpu().numpy(),\n",
    "            omega_ref[ind].argmax(0).squeeze().detach().cpu().numpy(),\n",
    "            theta_ref[ind].argmax(0).squeeze().detach().cpu().numpy(),\n",
    "            phi_ref[ind].argmax(0).squeeze().detach().cpu().numpy(),\n",
    "           mask[ind].squeeze().detach().cpu().numpy(),\n",
    "           sse[ind].squeeze().detach().cpu().numpy(),\n",
    "           ]\n",
    "\n",
    "title_list = ['dist_ref','omega_ref','theta_ref','phi_ref','Mask','sse']\n",
    "plot_sub_plots(1,6,img_list,title_list,cmap = 'inferno')\n",
    "print('')"
   ]
  },
  {
   "cell_type": "markdown",
   "id": "f1595d6c-e2eb-4964-8fc0-830b2f88e371",
   "metadata": {},
   "source": [
    "## Autoencoder Model"
   ]
  },
  {
   "cell_type": "code",
   "execution_count": 13,
   "id": "e1672a25-3732-4fed-8a7d-6e750afce067",
   "metadata": {},
   "outputs": [],
   "source": [
    "### Autoencoder class used to train on binned representations\n",
    "class CNN_Encoder(nn.Module):\n",
    "    \n",
    "    def __init__(self, input_nc=1, ngf = 16):\n",
    "        super(CNN_Encoder, self).__init__()\n",
    "        self.enc1 = self.enc_block(in_ch = input_nc, out_ch = ngf, kernel_size=4, stride=2, padding = 1,bias = True, innermost = False  )\n",
    "        self.enc2 = self.enc_block(in_ch = ngf, out_ch = ngf*2, kernel_size=4, stride=2, padding = 1,bias = True, innermost = False  )\n",
    "        # self.enc3 = self.enc_block(in_ch = ngf*2, out_ch = ngf*4, kernel_size=4, stride=2, padding = 1,bias = True, innermost = False  )\n",
    "        # self.enc4 = self.enc_block(in_ch = ngf*4, out_ch = ngf*8, kernel_size=4, stride=2, padding = 1,bias = True, innermost = False  )\n",
    "        # self.enc5 = self.enc_block(in_ch = ngf*8, out_ch = ngf*16, kernel_size=4, stride=2, padding = 1,bias = True, innermost = False  )\n",
    "        \n",
    "        \n",
    "    def enc_block(self, in_ch, out_ch, kernel_size=4, stride=2, padding = 1,bias = True, innermost = False):\n",
    "            return nn.Sequential(\n",
    "                nn.Conv2d(in_ch, out_ch, kernel_size=kernel_size,stride=stride, padding=padding, bias=bias),\n",
    "                # nn.ReLU()\n",
    "                )\n",
    "      \n",
    "            \n",
    "    def forward(self, x):\n",
    "        x = self.enc1(x)\n",
    "        x = self.enc2(x)\n",
    "        # x = self.enc3(x)\n",
    "        # x = self.enc4(x)\n",
    "        # x = self.enc5(x)\n",
    "        return x\n",
    "    \n",
    "\n",
    "class CNN_Decoder(nn.Module):\n",
    "    \n",
    "    def __init__(self, lat_chan=128,out_ch = 1, ngf = 16 ):\n",
    "        super(CNN_Decoder, self).__init__()\n",
    "        self.dec1 = self.conv_up_block(in_ch = lat_chan , out_ch = ngf*8, \n",
    "                                       kernel_size=4, stride=2, padding = 1,bias = True)\n",
    "        self.dec2 = self.conv_up_block(in_ch = ngf*8 , out_ch = out_ch, \n",
    "                                       kernel_size=4, stride=2, padding = 1,bias = True)\n",
    "        # self.dec3 = self.conv_up_block(in_ch = ngf*4 , out_ch = ngf*2, \n",
    "        #                                kernel_size=4, stride=2, padding = 1,bias = True)\n",
    "        # self.dec4 = self.conv_up_block(in_ch = ngf*2 , out_ch = 1, \n",
    "        #                                kernel_size=4, stride=2, padding = 1,bias = True)\n",
    "        # self.dec5 = self.conv_up_block(in_ch = ngf , out_ch = 1, \n",
    "                                       # kernel_size=4, stride=2, padding = 1,bias = True)\n",
    "        # self.final = nn.Linear(16,out_ch)\n",
    "        \n",
    "        \n",
    "    def conv_up_block(self,  in_ch, out_ch, kernel_size=4, stride=2, padding = 1,bias = True,outermost = False):\n",
    "            return nn.Sequential(\n",
    "                nn.ConvTranspose2d( in_ch, out_ch, kernel_size=kernel_size, stride=stride, padding = padding,bias = bias),\n",
    "                # nn.ReLU()\n",
    "                )\n",
    "        \n",
    "    def forward(self,x): \n",
    "        x = self.dec1(x)\n",
    "        \n",
    "        x = self.dec2(x)\n",
    "        \n",
    "        \n",
    "#         x = self.dec3(x)\n",
    "        \n",
    "#         x = self.dec4(x)\n",
    "        # x = self.dec5(x)\n",
    "        # x = self.final(x)\n",
    "        # x = torch.moveaxis(x,-1,1)\n",
    "        return x"
   ]
  },
  {
   "cell_type": "code",
   "execution_count": 14,
   "id": "e3dcbeab-b1d8-4de0-aa6d-301c4223da09",
   "metadata": {},
   "outputs": [],
   "source": [
    "class Multi_CNN_Encoder(nn.Module):\n",
    "    \n",
    "    def __init__(self, input_nc=1, ngf = 16):\n",
    "        super(Multi_CNN_Encoder, self).__init__()\n",
    "        self.dist_enc = CNN_Encoder(input_nc = 37,ngf = 16)#.to(device)\n",
    "        self.omega_enc = CNN_Encoder(input_nc = 25,ngf = 16)#.to(device)\n",
    "        self.theta_enc = CNN_Encoder(input_nc = 25,ngf = 16)#.to(device)\n",
    "        self.phi_enc = CNN_Encoder(input_nc = 13,ngf = 16)#.to(device)\n",
    "        \n",
    "    def forward(self,x):\n",
    "        dist_1 = self.dist_enc(x[0])\n",
    "        omega_1 = self.omega_enc(x[1])\n",
    "        theta_1 = self.theta_enc(x[2])\n",
    "        phi_1 = self.phi_enc(x[3])\n",
    "        \n",
    "        lat_c = dist_1+omega_1+theta_1+phi_1\n",
    "        return lat_c\n",
    "    \n",
    "    \n",
    "class Multi_CNN_Decoder(nn.Module):\n",
    "    \n",
    "    def __init__(self, lat_chan=32):\n",
    "        super(Multi_CNN_Decoder, self).__init__()\n",
    "        self.dist_dec = CNN_Decoder(lat_chan=32,out_ch=37)#.to(device)\n",
    "        self.omega_dec = CNN_Decoder(lat_chan=32,out_ch=25)\n",
    "        self.theta_dec = CNN_Decoder(lat_chan=32,out_ch=25)\n",
    "        self.phi_dec =CNN_Decoder(lat_chan=32,out_ch=13)\n",
    "        \n",
    "    def forward(self,x):\n",
    "        dist_1 = self.dist_dec(x)\n",
    "        omega_1 = self.omega_dec(x)\n",
    "        theta_1 = self.theta_dec(x)\n",
    "        phi_1 = self.phi_dec(x)\n",
    "        \n",
    "\n",
    "        return [dist_1,omega_1,theta_1,phi_1]"
   ]
  },
  {
   "cell_type": "code",
   "execution_count": 15,
   "id": "58a1c9a0-6218-4535-8a18-974c4e40d09d",
   "metadata": {},
   "outputs": [
    {
     "name": "stdout",
     "output_type": "stream",
     "text": [
      "58560\n",
      "467556\n"
     ]
    }
   ],
   "source": [
    "### Load pretrained autoencoders\n",
    "enc_path = f'./model_checkpoints/Autoencoder Training Using All Binned Distograms+Angles (Only ones without Masks)/encoder_dist.pth.tar'\n",
    "\n",
    "### Disto ref autoencoder\n",
    "# enc_path = f'./model_checkpoints/Autoencoder Training Using Distoref/encoder_dist.pth.tar'\n",
    "encoder = torch.load(enc_path).to(device)#CNN_Encoder(ngf = 16).to(device)#torch.load(enc_path).to(device)\n",
    "encoder.eval()\n",
    "print(sum([np.prod(p.size()) for p in encoder.parameters()]))\n",
    "\n",
    "####Autoencoder Training Using Binned Distograms Masked loss\n",
    "dec_path = f'./model_checkpoints/Autoencoder Training Using All Binned Distograms+Angles (Only ones without Masks)/decoder_dist.pth.tar'\n",
    "### Disto ref autoencoder\n",
    "# dec_path = f'./model_checkpoints/Autoencoder Training Using Distoref/decoder_dist.pth.tar'\n",
    "decoder = torch.load(dec_path).to(device)#CNN_Decoder(lat_chan=32).to(device)#torch.load(dec_path).to(device)\n",
    "decoder.eval()\n",
    "print(sum([np.prod(p.size()) for p in decoder.parameters()]))"
   ]
  },
  {
   "cell_type": "markdown",
   "id": "4ceda76a-cd41-4fab-bf3a-c436e39b7456",
   "metadata": {},
   "source": [
    "## UNet"
   ]
  },
  {
   "cell_type": "code",
   "execution_count": 16,
   "id": "b70d752f-24dc-409b-bf0b-902eb0f42d0b",
   "metadata": {},
   "outputs": [],
   "source": [
    "## Denoising Unet Model\n",
    "class EMA:\n",
    "    def __init__(self, beta):\n",
    "        super().__init__()\n",
    "        self.beta = beta\n",
    "        self.step = 0\n",
    "\n",
    "    def update_model_average(self, ma_model, current_model):\n",
    "        for current_params, ma_params in zip(current_model.parameters(), ma_model.parameters()):\n",
    "            old_weight, up_weight = ma_params.data, current_params.data\n",
    "            ma_params.data = self.update_average(old_weight, up_weight)\n",
    "\n",
    "    def update_average(self, old, new):\n",
    "        if old is None:\n",
    "            return new\n",
    "        return old * self.beta + (1 - self.beta) * new\n",
    "\n",
    "    def step_ema(self, ema_model, model, step_start_ema=2000):\n",
    "        if self.step < step_start_ema:\n",
    "            self.reset_parameters(ema_model, model)\n",
    "            self.step += 1\n",
    "            return\n",
    "        self.update_model_average(ema_model, model)\n",
    "        self.step += 1\n",
    "\n",
    "    def reset_parameters(self, ema_model, model):\n",
    "        ema_model.load_state_dict(model.state_dict())\n",
    "\n",
    "\n",
    "class SelfAttention(nn.Module):\n",
    "    def __init__(self, channels, size):\n",
    "        super(SelfAttention, self).__init__()\n",
    "        self.channels = channels\n",
    "        self.size = size\n",
    "        self.mha = nn.MultiheadAttention(channels, 4, batch_first=True)\n",
    "        self.ln = nn.LayerNorm([channels])\n",
    "        self.ff_self = nn.Sequential(\n",
    "            nn.LayerNorm([channels]),\n",
    "            nn.Linear(channels, channels),\n",
    "            nn.GELU(),\n",
    "            nn.Linear(channels, channels),\n",
    "        )\n",
    "\n",
    "    def forward(self, x):\n",
    "        x = x.view(-1, self.channels, self.size * self.size).swapaxes(1, 2)\n",
    "        x_ln = self.ln(x)\n",
    "        attention_value, _ = self.mha(x_ln, x_ln, x_ln)\n",
    "        attention_value = attention_value + x\n",
    "        attention_value = self.ff_self(attention_value) + attention_value\n",
    "        return attention_value.swapaxes(2, 1).view(-1, self.channels, self.size, self.size)\n",
    "\n",
    "\n",
    "class DoubleConv(nn.Module):\n",
    "    def __init__(self, in_channels, out_channels, mid_channels=None, residual=False):\n",
    "        super().__init__()\n",
    "        self.residual = residual\n",
    "        if not mid_channels:\n",
    "            mid_channels = out_channels\n",
    "        self.double_conv = nn.Sequential(\n",
    "            nn.Conv2d(in_channels, mid_channels, kernel_size=3, padding=1, bias=False),\n",
    "            nn.GroupNorm(1, mid_channels),\n",
    "            nn.GELU(),\n",
    "            nn.Conv2d(mid_channels, out_channels, kernel_size=3, padding=1, bias=False),\n",
    "            nn.GroupNorm(1, out_channels),\n",
    "        )\n",
    "\n",
    "    def forward(self, x):\n",
    "        if self.residual:\n",
    "            return F.gelu(x + self.double_conv(x))\n",
    "        else:\n",
    "            return self.double_conv(x)\n",
    "\n",
    "\n",
    "class Down(nn.Module):\n",
    "    def __init__(self, in_channels, out_channels, emb_dim=256):\n",
    "        super().__init__()\n",
    "        self.maxpool_conv = nn.Sequential(\n",
    "            nn.MaxPool2d(2),\n",
    "            DoubleConv(in_channels, in_channels, residual=True),\n",
    "            DoubleConv(in_channels, out_channels),\n",
    "        )\n",
    "\n",
    "        self.emb_layer = nn.Sequential(\n",
    "            nn.SiLU(),\n",
    "            nn.Linear(\n",
    "                emb_dim,\n",
    "                out_channels\n",
    "            ),\n",
    "        )\n",
    "\n",
    "    def forward(self, x, t):\n",
    "        x = self.maxpool_conv(x)\n",
    "        emb = self.emb_layer(t)[:, :, None, None].repeat(1, 1, x.shape[-2], x.shape[-1])\n",
    "        return x + emb\n",
    "\n",
    "\n",
    "class Up(nn.Module):\n",
    "    def __init__(self, in_channels, out_channels, emb_dim=256):\n",
    "        super().__init__()\n",
    "\n",
    "        self.up = nn.Upsample(scale_factor=2, mode=\"bilinear\", align_corners=True)\n",
    "        self.conv = nn.Sequential(\n",
    "            DoubleConv(in_channels, in_channels, residual=True),\n",
    "            DoubleConv(in_channels, out_channels, in_channels // 2),\n",
    "        )\n",
    "\n",
    "        self.emb_layer = nn.Sequential(\n",
    "            nn.SiLU(),\n",
    "            nn.Linear(\n",
    "                emb_dim,\n",
    "                out_channels\n",
    "            ),\n",
    "        )\n",
    "\n",
    "    def forward(self, x, skip_x, t):\n",
    "        x = self.up(x)\n",
    "        x = torch.cat([skip_x, x], dim=1)\n",
    "        x = self.conv(x)\n",
    "        emb = self.emb_layer(t)[:, :, None, None].repeat(1, 1, x.shape[-2], x.shape[-1])\n",
    "        return x + emb\n",
    "\n",
    "\n",
    "class UNet(nn.Module):\n",
    "    def __init__(self, c_in=3, c_out=3, time_dim=256, device=\"cuda\"):\n",
    "        super().__init__()\n",
    "        self.device = device\n",
    "        self.time_dim = time_dim\n",
    "        self.inc = DoubleConv(c_in, 64)\n",
    "        self.down1 = Down(64, 128)\n",
    "        self.sa1 = SelfAttention(128, 8)\n",
    "        self.down2 = Down(128, 256)\n",
    "        self.sa2 = SelfAttention(256, 4)\n",
    "        self.down3 = Down(256, 256)\n",
    "        self.sa3 = SelfAttention(256, 2)\n",
    "\n",
    "        self.bot1 = DoubleConv(256, 512)\n",
    "        self.bot2 = DoubleConv(512, 512)\n",
    "        self.bot3 = DoubleConv(512, 256)\n",
    "\n",
    "        self.up1 = Up(512, 128)\n",
    "        self.sa4 = SelfAttention(128, 4)\n",
    "        self.up2 = Up(256, 64)\n",
    "        self.sa5 = SelfAttention(64, 8)\n",
    "        self.up3 = Up(128, 64)\n",
    "        self.sa6 = SelfAttention(64, 16)\n",
    "        self.outc = nn.Conv2d(64, c_out, kernel_size=1)\n",
    "\n",
    "    def pos_encoding(self, t, channels):\n",
    "        inv_freq = 1.0 / (\n",
    "            10000\n",
    "            ** (torch.arange(0, channels, 2, device=self.device).float() / channels)\n",
    "        )\n",
    "        pos_enc_a = torch.sin(t.repeat(1, channels // 2) * inv_freq)\n",
    "        pos_enc_b = torch.cos(t.repeat(1, channels // 2) * inv_freq)\n",
    "        pos_enc = torch.cat([pos_enc_a, pos_enc_b], dim=-1)\n",
    "        return pos_enc\n",
    "\n",
    "    def forward(self, x, t):\n",
    "        t = t.unsqueeze(-1).type(torch.float)\n",
    "        t = self.pos_encoding(t, self.time_dim)\n",
    "\n",
    "        x1 = self.inc(x)\n",
    "        x2 = self.down1(x1, t)\n",
    "        # print(f\"x2: {x2.shape}\")\n",
    "        x2 = self.sa1(x2)\n",
    "        x3 = self.down2(x2, t)\n",
    "        # print(f\"x3: {x3.shape}\")\n",
    "        x3 = self.sa2(x3)\n",
    "        x4 = self.down3(x3, t)\n",
    "        # print(f\"x4: {x4.shape}\")\n",
    "        x4 = self.sa3(x4)\n",
    "        \n",
    "        # print(f\"x4: {x4.shape}\")\n",
    "        x4 = self.bot1(x4)\n",
    "        x4 = self.bot2(x4)\n",
    "        x4 = self.bot3(x4)\n",
    "        \n",
    "        # print(f\"x4: {x4.shape}\")\n",
    "        x = self.up1(x4, x3, t)\n",
    "        # print(f\"x: {x.shape}\")\n",
    "        x = self.sa4(x)\n",
    "        # print(f\"x: {x.shape}\")\n",
    "        x = self.up2(x, x2, t)\n",
    "        x = self.sa5(x)\n",
    "        x = self.up3(x, x1, t)\n",
    "        x = self.sa6(x)\n",
    "        output = self.outc(x)\n",
    "        return output\n",
    "    \n",
    "    \n",
    "class UNet_Conditional(nn.Module):\n",
    "    def __init__(self, c_in=3, c_out=3, time_dim=256, device=\"cuda\"):#,num_classes = None):\n",
    "        super().__init__()\n",
    "        self.device = device\n",
    "        self.time_dim = time_dim\n",
    "        self.inc = DoubleConv(c_in, 64)\n",
    "        self.down1 = Down(64, 128)\n",
    "        self.sa1 = SelfAttention(128, 8)\n",
    "        self.down2 = Down(128, 256)\n",
    "        self.sa2 = SelfAttention(256, 4)\n",
    "        self.down3 = Down(256, 256)\n",
    "        self.sa3 = SelfAttention(256, 2)\n",
    "\n",
    "        self.bot1 = DoubleConv(256, 512)\n",
    "        self.bot2 = DoubleConv(512, 512)\n",
    "        self.bot3 = DoubleConv(512, 256)\n",
    "\n",
    "        self.up1 = Up(512, 128)\n",
    "        self.sa4 = SelfAttention(128, 4)\n",
    "        self.up2 = Up(256, 64)\n",
    "        self.sa5 = SelfAttention(64, 8)\n",
    "        self.up3 = Up(128, 64)\n",
    "        self.sa6 = SelfAttention(64, 16)\n",
    "        self.outc = nn.Conv2d(64, c_out, kernel_size=1)\n",
    "        \n",
    "#         if num_classes is not None:\n",
    "#             self.label_emb = nn.Embedding(num_classes, time_dim)\n",
    "        \n",
    "\n",
    "    def pos_encoding(self, t, channels):\n",
    "        inv_freq = 1.0 / (\n",
    "            10000\n",
    "            ** (torch.arange(0, channels, 2, device=self.device).float() / channels)\n",
    "        )\n",
    "        pos_enc_a = torch.sin(t.repeat(1, channels // 2) * inv_freq)\n",
    "        pos_enc_b = torch.cos(t.repeat(1, channels // 2) * inv_freq)\n",
    "        pos_enc = torch.cat([pos_enc_a, pos_enc_b], dim=-1)\n",
    "        return pos_enc\n",
    "\n",
    "    def forward(self, x, t,labels):\n",
    "        t = t.unsqueeze(-1).type(torch.float)\n",
    "        t = self.pos_encoding(t, self.time_dim)\n",
    "        # print(f\"t:{t.shape}\")\n",
    "        if labels!=None:\n",
    "            # print(self.label_emb(labels).shape)\n",
    "            t = t+ labels\n",
    "        \n",
    "        x1 = self.inc(x)\n",
    "        x2 = self.down1(x1, t)\n",
    "        # print(f\"x2: {x2.shape}\")\n",
    "        x2 = self.sa1(x2)\n",
    "        x3 = self.down2(x2, t)\n",
    "        # print(f\"x3: {x3.shape}\")\n",
    "        x3 = self.sa2(x3)\n",
    "        x4 = self.down3(x3, t)\n",
    "        # print(f\"x4: {x4.shape}\")\n",
    "        x4 = self.sa3(x4)\n",
    "        \n",
    "        # print(f\"x4: {x4.shape}\")\n",
    "        x4 = self.bot1(x4)\n",
    "        x4 = self.bot2(x4)\n",
    "        x4 = self.bot3(x4)\n",
    "        \n",
    "        # print(f\"x4: {x4.shape}\")\n",
    "        x = self.up1(x4, x3, t)\n",
    "        # print(f\"x: {x.shape}\")\n",
    "        x = self.sa4(x)\n",
    "        # print(f\"x: {x.shape}\")\n",
    "        x = self.up2(x, x2, t)\n",
    "        x = self.sa5(x)\n",
    "        x = self.up3(x, x1, t)\n",
    "        x = self.sa6(x)\n",
    "        output = self.outc(x)\n",
    "        return output"
   ]
  },
  {
   "cell_type": "code",
   "execution_count": 17,
   "id": "d6b0dc9e-1837-4a02-a7b5-3a6f9928667a",
   "metadata": {},
   "outputs": [
    {
     "name": "stdout",
     "output_type": "stream",
     "text": [
      "torch.Size([32, 32, 16, 16]) torch.Size([32])\n",
      "torch.Size([32, 32, 16, 16])\n"
     ]
    }
   ],
   "source": [
    "## Initiate Denoising Unet Model\n",
    "# model = UNet(c_in=32, c_out=32, time_dim=256, device=\"cuda\").to(device)\n",
    "model = torch.load(\"./model_checkpoints/New_Data_Dist_binned_generation_disto+allAngles(Diffusion)_unconditional/u_net_diff_checkpoint.pth.tar\").to(device)\n",
    "\n",
    "# cond_enc = Cond_Encoder().to(device)\n",
    "#testing\n",
    "dist_ref,mask,sse,ref_len   = next(iter(train_data_loader))\n",
    "# print(digit_labels.shape)\n",
    "\n",
    "lat_c = encoder(dist_ref)\n",
    "t = torch.randint(low=1, high=1000, size=(dist_ref[0].shape[0],)).to(device)\n",
    "# labels = encoder_sse(sse.squeeze(1))\n",
    "print(lat_c.shape,t.shape)#,labels.shape)\n",
    "\n",
    "denoised_lat_c = model(lat_c,t)\n",
    "\n",
    "print(denoised_lat_c.shape)"
   ]
  },
  {
   "cell_type": "markdown",
   "id": "4146e97f-ce5b-446c-aaad-6ea6b61cd4f7",
   "metadata": {},
   "source": [
    "## Training"
   ]
  },
  {
   "cell_type": "code",
   "execution_count": 18,
   "id": "7ea208cb-1715-4c8e-8f83-6bde0824a67d",
   "metadata": {},
   "outputs": [],
   "source": [
    "# optimizer = optim.AdamW(list(model.parameters())+list(cond_enc.parameters()), lr=3e-4)\n",
    "optimizer = optim.AdamW(model.parameters(), lr=3e-4)\n",
    "mse = nn.MSELoss()\n",
    "diffusion = Diffusion(img_size=[32,16,16], device=device)"
   ]
  },
  {
   "cell_type": "code",
   "execution_count": 19,
   "id": "db363e4d-8974-43ac-848d-c44604ad4ec5",
   "metadata": {},
   "outputs": [],
   "source": [
    "def recon_loss(x_hat,x):\n",
    "    criterion = nn.L1Loss()\n",
    "    return criterion(x_hat,x)\n",
    "class AverageMeter(object):\n",
    "    \"\"\"Computes and stores the average and current value\"\"\"\n",
    "    def __init__(self):\n",
    "        self.reset()\n",
    "\n",
    "    def reset(self):\n",
    "        self.val = 0\n",
    "        self.avg = 0\n",
    "        self.sum = 0\n",
    "        self.count = 0\n",
    "\n",
    "    def update(self, val, n=1):\n",
    "        self.val = val\n",
    "        self.sum += val * n\n",
    "        self.count += n\n",
    "        self.avg = self.sum / self.count if self.count != 0 else 0\n",
    "        \n",
    "def plot_sub_plots(rows,columns,img_list,title_list,cmap = 'inferno'):\n",
    "    fig, axs = plt.subplots(rows, columns, figsize = (columns*10,rows*10))\n",
    "    if rows == 1:\n",
    "        for i in range(len(img_list)):\n",
    "            im1 = axs[i].imshow(img_list[i],cmap=cmap)\n",
    "            axs[i].set_title(f\"{title_list[i]}\")\n",
    "            plt.colorbar(im1, ax=axs[i])#,shrink = 0.3\n",
    "    else:\n",
    "        for i in range(len(img_list)):\n",
    "            im1 = axs[i//columns][i%columns].imshow(img_list[i],cmap=cmap)\n",
    "            axs[i//columns][i%columns].set_title(f\"{title_list[i]}\")\n",
    "            plt.colorbar(im1, ax=axs[i//columns][i%columns])#,shrink = 0.3)\n",
    "    # plt.show()\n",
    "    return fig"
   ]
  },
  {
   "cell_type": "code",
   "execution_count": 20,
   "id": "f3101d7f-4bac-4805-afdb-a39c3958159b",
   "metadata": {},
   "outputs": [],
   "source": [
    "\n",
    "# Training script\n",
    "def train(model,diffusion,encoder,decoder,optimizer,data_loader,is_wandb=False,verbose_freq = 500,is_verbose = False):\n",
    "    encoder.eval()\n",
    "    decoder.eval()\n",
    "    model.train()\n",
    "    # cond_enc.train()\n",
    "    train_losses = AverageMeter()\n",
    "    for batch_idx, (x,m,sse,_ ) in enumerate(data_loader):\n",
    "        x = encoder(x)#*m)\n",
    "        \n",
    "        \n",
    "        t = diffusion.sample_timesteps(x.shape[0]).to(device)\n",
    "        x_t, noise = diffusion.noise_images(x, t)\n",
    "        predicted_noise = model(x_t, t)\n",
    "        \n",
    "        loss = mse(noise, predicted_noise) #+ recon_loss()\n",
    "\n",
    "        optimizer.zero_grad()\n",
    "        loss.backward()\n",
    "        optimizer.step()\n",
    "        # break\n",
    "      \n",
    "        train_losses.update(loss.data.item())\n",
    "        if is_wandb:\n",
    "            wandb.log({\"batch_loss\": loss.data.item()})\n",
    "    \n",
    "    \n",
    "    if is_wandb:\n",
    "            wandb.log({\"train_epoch_loss\": train_losses.avg})\n",
    "            \n",
    "    if is_verbose:\n",
    "        print(f\"Training Epoch Loss: {train_losses.avg}\")\n",
    "    \n",
    "    \n",
    "    '''\n",
    "    Inference Script to randomly sample from gaussian and generate structures\n",
    "    '''\n",
    "    x,m,sse,ref_len   = next(iter(data_loader))\n",
    "    # cond_enc.eval()\n",
    "    # digit_labels_2 = F.one_hot(digit_labels, num_classes=10).unsqueeze(1).float()\n",
    "    # cond_vec = cond_enc(digit_labels_2.to(device))\n",
    "    \n",
    "    sampled_images = diffusion.sample(model, n=x[0].shape[0])\n",
    "    sampled_images = decoder(sampled_images.float())#.clamp(min=0,max=1)\n",
    "    # sampled_images = sampled_images.argmax(1).squeeze().detach().cpu().numpy()\n",
    "    # print(sampled_images.shape)\n",
    "    sse = sse.squeeze().detach().cpu().numpy()\n",
    "    \n",
    "    \n",
    "    \n",
    "    img_list = []\n",
    "    title_list = []\n",
    "    for i in range(8):\n",
    "        img_list.append(sampled_images[0][i].argmax(0).squeeze().detach().cpu().numpy())\n",
    "        img_list.append(sampled_images[1][i].argmax(0).squeeze().detach().cpu().numpy())\n",
    "        img_list.append(sampled_images[2][i].argmax(0).squeeze().detach().cpu().numpy())\n",
    "        img_list.append(sampled_images[3][i].argmax(0).squeeze().detach().cpu().numpy())\n",
    "        title_list+=['dist_ref','omega_ref','theta_ref','phi_ref']\n",
    "    # title_list = [ref_len[0].item(),ref_len[0].item(),ref_len[1].item(),ref_len[1].item(),\n",
    "    #               ref_len[2].item(),ref_len[2].item(),ref_len[3].item(),ref_len[3].item(),\n",
    "    #               ref_len[4].item(),ref_len[4].item(),ref_len[5].item(),ref_len[5].item(),\n",
    "    #               ref_len[6].item(),ref_len[6].item(),ref_len[7].item(),ref_len[7].item(),]\n",
    "    \n",
    "    fig = plot_sub_plots(8,4,img_list,title_list,cmap = 'inferno')\n",
    "    if is_wandb:\n",
    "            wandb.log({\"examples\": wandb.Image(fig)})\n",
    "    \n",
    "    return train_losses.avg\n",
    "\n",
    "\n",
    "\n",
    "\n",
    "\n",
    "    # sampled_images = diffusion.sample(model, n=images.shape[0])\n",
    "    # save_images(sampled_images, os.path.join(\"results\", args.run_name, f\"{epoch}.jpg\"))\n",
    "    # torch.save(model.state_dict(), os.path.join(\"models\", args.run_name, f\"ckpt.pt\"))\n"
   ]
  },
  {
   "cell_type": "code",
   "execution_count": null,
   "id": "23b30d82-2a67-447e-8ba8-81ebbc959f87",
   "metadata": {},
   "outputs": [
    {
     "name": "stderr",
     "output_type": "stream",
     "text": [
      "999it [00:08, 118.50it/s]\n"
     ]
    },
    {
     "name": "stdout",
     "output_type": "stream",
     "text": [
      "Epoch 1: 0.3692386399686726 \n"
     ]
    },
    {
     "name": "stderr",
     "output_type": "stream",
     "text": [
      "999it [00:08, 116.71it/s]\n"
     ]
    },
    {
     "name": "stdout",
     "output_type": "stream",
     "text": [
      "Epoch 2: 0.37358061443356905 \n"
     ]
    },
    {
     "name": "stderr",
     "output_type": "stream",
     "text": [
      "999it [00:08, 118.87it/s]\n"
     ]
    },
    {
     "name": "stdout",
     "output_type": "stream",
     "text": [
      "Epoch 3: 0.3699685477353389 \n"
     ]
    },
    {
     "name": "stderr",
     "output_type": "stream",
     "text": [
      "999it [00:08, 118.22it/s]\n"
     ]
    },
    {
     "name": "stdout",
     "output_type": "stream",
     "text": [
      "Epoch 4: 0.3658307411896637 \n"
     ]
    },
    {
     "name": "stderr",
     "output_type": "stream",
     "text": [
      "999it [00:08, 118.29it/s]\n"
     ]
    },
    {
     "name": "stdout",
     "output_type": "stream",
     "text": [
      "Epoch 5: 0.36814584607392353 \n"
     ]
    },
    {
     "name": "stderr",
     "output_type": "stream",
     "text": [
      "999it [00:08, 118.54it/s]\n"
     ]
    },
    {
     "name": "stdout",
     "output_type": "stream",
     "text": [
      "Epoch 6: 0.3661205901039971 \n"
     ]
    },
    {
     "name": "stderr",
     "output_type": "stream",
     "text": [
      "999it [00:08, 117.68it/s]\n"
     ]
    },
    {
     "name": "stdout",
     "output_type": "stream",
     "text": [
      "Epoch 7: 0.3675406830373153 \n"
     ]
    },
    {
     "name": "stderr",
     "output_type": "stream",
     "text": [
      "999it [00:08, 118.19it/s]\n"
     ]
    },
    {
     "name": "stdout",
     "output_type": "stream",
     "text": [
      "Epoch 8: 0.37286011942851 \n"
     ]
    },
    {
     "name": "stderr",
     "output_type": "stream",
     "text": [
      "999it [00:08, 117.90it/s]\n"
     ]
    },
    {
     "name": "stdout",
     "output_type": "stream",
     "text": [
      "Epoch 9: 0.3737970033502267 \n"
     ]
    },
    {
     "name": "stderr",
     "output_type": "stream",
     "text": [
      "999it [00:08, 118.75it/s]\n"
     ]
    },
    {
     "name": "stdout",
     "output_type": "stream",
     "text": [
      "Epoch 10: 0.3756263698238173 \n"
     ]
    },
    {
     "name": "stderr",
     "output_type": "stream",
     "text": [
      "999it [00:08, 117.52it/s]\n"
     ]
    },
    {
     "name": "stdout",
     "output_type": "stream",
     "text": [
      "Epoch 11: 0.36878572988743874 \n"
     ]
    },
    {
     "name": "stderr",
     "output_type": "stream",
     "text": [
      "999it [00:08, 118.03it/s]\n"
     ]
    },
    {
     "name": "stdout",
     "output_type": "stream",
     "text": [
      "Epoch 12: 0.3738635581692839 \n"
     ]
    },
    {
     "name": "stderr",
     "output_type": "stream",
     "text": [
      "999it [00:08, 119.71it/s]\n"
     ]
    },
    {
     "name": "stdout",
     "output_type": "stream",
     "text": [
      "Epoch 13: 0.36365611880433324 \n"
     ]
    },
    {
     "name": "stderr",
     "output_type": "stream",
     "text": [
      "999it [00:08, 122.74it/s]\n"
     ]
    },
    {
     "name": "stdout",
     "output_type": "stream",
     "text": [
      "Epoch 14: 0.36829201029796227 \n"
     ]
    },
    {
     "name": "stderr",
     "output_type": "stream",
     "text": [
      "999it [00:08, 124.56it/s]\n"
     ]
    },
    {
     "name": "stdout",
     "output_type": "stream",
     "text": [
      "Epoch 15: 0.36577048001725687 \n"
     ]
    },
    {
     "name": "stderr",
     "output_type": "stream",
     "text": [
      "999it [00:08, 121.91it/s]\n"
     ]
    },
    {
     "name": "stdout",
     "output_type": "stream",
     "text": [
      "Epoch 16: 0.37357470928843506 \n"
     ]
    },
    {
     "name": "stderr",
     "output_type": "stream",
     "text": [
      "999it [00:08, 117.71it/s]\n"
     ]
    },
    {
     "name": "stdout",
     "output_type": "stream",
     "text": [
      "Epoch 17: 0.36881919809026653 \n"
     ]
    },
    {
     "name": "stderr",
     "output_type": "stream",
     "text": [
      "999it [00:08, 117.98it/s]\n"
     ]
    },
    {
     "name": "stdout",
     "output_type": "stream",
     "text": [
      "Epoch 18: 0.3731084327682171 \n"
     ]
    },
    {
     "name": "stderr",
     "output_type": "stream",
     "text": [
      "999it [00:08, 119.07it/s]\n"
     ]
    },
    {
     "name": "stdout",
     "output_type": "stream",
     "text": [
      "Epoch 19: 0.3677605297051224 \n"
     ]
    },
    {
     "name": "stderr",
     "output_type": "stream",
     "text": [
      "999it [00:08, 117.47it/s]\n"
     ]
    },
    {
     "name": "stdout",
     "output_type": "stream",
     "text": [
      "Epoch 20: 0.36755135441138076 \n"
     ]
    },
    {
     "name": "stderr",
     "output_type": "stream",
     "text": [
      "999it [00:08, 118.14it/s]\n",
      "/opt/tljh/user/lib/python3.7/site-packages/ipykernel_launcher.py:22: RuntimeWarning: More than 20 figures have been opened. Figures created through the pyplot interface (`matplotlib.pyplot.figure`) are retained until explicitly closed and may consume too much memory. (To control this warning, see the rcParam `figure.max_open_warning`).\n"
     ]
    },
    {
     "name": "stdout",
     "output_type": "stream",
     "text": [
      "Epoch 21: 0.36525753607936934 \n"
     ]
    },
    {
     "name": "stderr",
     "output_type": "stream",
     "text": [
      "999it [00:08, 118.05it/s]\n"
     ]
    },
    {
     "name": "stdout",
     "output_type": "stream",
     "text": [
      "Epoch 22: 0.3619508355661155 \n"
     ]
    },
    {
     "name": "stderr",
     "output_type": "stream",
     "text": [
      "999it [00:08, 117.65it/s]\n"
     ]
    },
    {
     "name": "stdout",
     "output_type": "stream",
     "text": [
      "Epoch 23: 0.36872614462391223 \n"
     ]
    },
    {
     "name": "stderr",
     "output_type": "stream",
     "text": [
      "999it [00:08, 118.10it/s]\n"
     ]
    },
    {
     "name": "stdout",
     "output_type": "stream",
     "text": [
      "Epoch 24: 0.3708217451774996 \n"
     ]
    },
    {
     "name": "stderr",
     "output_type": "stream",
     "text": [
      "999it [00:08, 118.35it/s]\n"
     ]
    },
    {
     "name": "stdout",
     "output_type": "stream",
     "text": [
      "Epoch 25: 0.36830569268052094 \n"
     ]
    },
    {
     "name": "stderr",
     "output_type": "stream",
     "text": [
      "999it [00:08, 117.94it/s]\n"
     ]
    },
    {
     "name": "stdout",
     "output_type": "stream",
     "text": [
      "Epoch 26: 0.3672974871264564 \n"
     ]
    },
    {
     "name": "stderr",
     "output_type": "stream",
     "text": [
      "999it [00:08, 118.34it/s]\n"
     ]
    },
    {
     "name": "stdout",
     "output_type": "stream",
     "text": [
      "Epoch 27: 0.3646585171908335 \n"
     ]
    },
    {
     "name": "stderr",
     "output_type": "stream",
     "text": [
      "999it [00:14, 66.64it/s] \n"
     ]
    },
    {
     "name": "stdout",
     "output_type": "stream",
     "text": [
      "Epoch 28: 0.3649689679831461 \n"
     ]
    },
    {
     "name": "stderr",
     "output_type": "stream",
     "text": [
      "999it [00:08, 117.74it/s]\n"
     ]
    },
    {
     "name": "stdout",
     "output_type": "stream",
     "text": [
      "Epoch 29: 0.3700280871266633 \n"
     ]
    },
    {
     "name": "stderr",
     "output_type": "stream",
     "text": [
      "999it [00:08, 118.00it/s]\n"
     ]
    },
    {
     "name": "stdout",
     "output_type": "stream",
     "text": [
      "Epoch 30: 0.36676903974776176 \n"
     ]
    },
    {
     "name": "stderr",
     "output_type": "stream",
     "text": [
      "999it [00:08, 120.78it/s]\n"
     ]
    },
    {
     "name": "stdout",
     "output_type": "stream",
     "text": [
      "Epoch 31: 0.3586371726070354 \n"
     ]
    },
    {
     "name": "stderr",
     "output_type": "stream",
     "text": [
      "999it [00:08, 123.97it/s]\n"
     ]
    },
    {
     "name": "stdout",
     "output_type": "stream",
     "text": [
      "Epoch 32: 0.36771653193274356 \n"
     ]
    },
    {
     "name": "stderr",
     "output_type": "stream",
     "text": [
      "999it [00:08, 122.57it/s]\n"
     ]
    },
    {
     "name": "stdout",
     "output_type": "stream",
     "text": [
      "Epoch 33: 0.3675585614115584 \n"
     ]
    },
    {
     "name": "stderr",
     "output_type": "stream",
     "text": [
      "999it [00:08, 117.77it/s]\n"
     ]
    },
    {
     "name": "stdout",
     "output_type": "stream",
     "text": [
      "Epoch 34: 0.36736906899346244 \n"
     ]
    },
    {
     "name": "stderr",
     "output_type": "stream",
     "text": [
      "999it [00:08, 118.35it/s]\n"
     ]
    },
    {
     "name": "stdout",
     "output_type": "stream",
     "text": [
      "Epoch 35: 0.3669178887130388 \n"
     ]
    },
    {
     "name": "stderr",
     "output_type": "stream",
     "text": [
      "999it [00:08, 117.67it/s]\n"
     ]
    },
    {
     "name": "stdout",
     "output_type": "stream",
     "text": [
      "Epoch 36: 0.3630638142037236 \n"
     ]
    },
    {
     "name": "stderr",
     "output_type": "stream",
     "text": [
      "999it [00:08, 117.81it/s]\n"
     ]
    },
    {
     "name": "stdout",
     "output_type": "stream",
     "text": [
      "Epoch 37: 0.3671782651757882 \n"
     ]
    },
    {
     "name": "stderr",
     "output_type": "stream",
     "text": [
      "999it [00:08, 118.11it/s]\n"
     ]
    },
    {
     "name": "stdout",
     "output_type": "stream",
     "text": [
      "Epoch 38: 0.3645858338066176 \n"
     ]
    },
    {
     "name": "stderr",
     "output_type": "stream",
     "text": [
      "999it [00:08, 117.68it/s]\n"
     ]
    },
    {
     "name": "stdout",
     "output_type": "stream",
     "text": [
      "Epoch 39: 0.366960791980519 \n"
     ]
    },
    {
     "name": "stderr",
     "output_type": "stream",
     "text": [
      "999it [00:08, 117.71it/s]\n"
     ]
    },
    {
     "name": "stdout",
     "output_type": "stream",
     "text": [
      "Epoch 40: 0.36892808652391623 \n"
     ]
    },
    {
     "name": "stderr",
     "output_type": "stream",
     "text": [
      "999it [00:08, 119.07it/s]\n"
     ]
    },
    {
     "name": "stdout",
     "output_type": "stream",
     "text": [
      "Epoch 41: 0.36132676110548134 \n"
     ]
    },
    {
     "name": "stderr",
     "output_type": "stream",
     "text": [
      "999it [00:08, 117.60it/s]\n"
     ]
    },
    {
     "name": "stdout",
     "output_type": "stream",
     "text": [
      "Epoch 42: 0.37072673186757205 \n"
     ]
    },
    {
     "name": "stderr",
     "output_type": "stream",
     "text": [
      "999it [00:08, 117.85it/s]\n"
     ]
    },
    {
     "name": "stdout",
     "output_type": "stream",
     "text": [
      "Epoch 43: 0.3661387601709054 \n"
     ]
    },
    {
     "name": "stderr",
     "output_type": "stream",
     "text": [
      "999it [00:08, 118.10it/s]\n"
     ]
    },
    {
     "name": "stdout",
     "output_type": "stream",
     "text": [
      "Epoch 44: 0.3624580239548403 \n"
     ]
    },
    {
     "name": "stderr",
     "output_type": "stream",
     "text": [
      "999it [00:08, 118.08it/s]\n"
     ]
    },
    {
     "name": "stdout",
     "output_type": "stream",
     "text": [
      "Epoch 45: 0.36111532025087895 \n"
     ]
    },
    {
     "name": "stderr",
     "output_type": "stream",
     "text": [
      "999it [00:08, 117.77it/s]\n"
     ]
    },
    {
     "name": "stdout",
     "output_type": "stream",
     "text": [
      "Epoch 46: 0.3640274551569247 \n"
     ]
    },
    {
     "name": "stderr",
     "output_type": "stream",
     "text": [
      "999it [00:08, 118.71it/s]\n"
     ]
    },
    {
     "name": "stdout",
     "output_type": "stream",
     "text": [
      "Epoch 47: 0.36643174972409515 \n"
     ]
    },
    {
     "name": "stderr",
     "output_type": "stream",
     "text": [
      "999it [00:08, 124.06it/s]\n"
     ]
    },
    {
     "name": "stdout",
     "output_type": "stream",
     "text": [
      "Epoch 48: 0.3654272372231764 \n"
     ]
    },
    {
     "name": "stderr",
     "output_type": "stream",
     "text": [
      "999it [00:08, 121.49it/s]\n"
     ]
    },
    {
     "name": "stdout",
     "output_type": "stream",
     "text": [
      "Epoch 49: 0.36580469094070733 \n"
     ]
    },
    {
     "name": "stderr",
     "output_type": "stream",
     "text": [
      "999it [00:08, 119.42it/s]\n"
     ]
    },
    {
     "name": "stdout",
     "output_type": "stream",
     "text": [
      "Epoch 50: 0.3632696384892744 \n"
     ]
    },
    {
     "name": "stderr",
     "output_type": "stream",
     "text": [
      "999it [00:08, 118.14it/s]\n"
     ]
    },
    {
     "name": "stdout",
     "output_type": "stream",
     "text": [
      "Epoch 51: 0.36783213952397986 \n"
     ]
    },
    {
     "name": "stderr",
     "output_type": "stream",
     "text": [
      "999it [00:08, 118.10it/s]\n"
     ]
    },
    {
     "name": "stdout",
     "output_type": "stream",
     "text": [
      "Epoch 52: 0.36557017782934353 \n"
     ]
    },
    {
     "name": "stderr",
     "output_type": "stream",
     "text": [
      "999it [00:08, 117.50it/s]\n"
     ]
    },
    {
     "name": "stdout",
     "output_type": "stream",
     "text": [
      "Epoch 53: 0.36276114094101525 \n"
     ]
    },
    {
     "name": "stderr",
     "output_type": "stream",
     "text": [
      "999it [00:08, 118.20it/s]\n"
     ]
    },
    {
     "name": "stdout",
     "output_type": "stream",
     "text": [
      "Epoch 54: 0.36452562006470424 \n"
     ]
    }
   ],
   "source": [
    "best_loss = 10000000\n",
    "train_loss_list = []\n",
    "n_epochs = 5000\n",
    "\n",
    "# if not os.path.exists(exp_path):\n",
    "#     os.mkdir(exp_path)\n",
    "# print(\"Training \", end='')\n",
    "for epoch_idx in range(n_epochs):\n",
    "    # print('=', end='')\n",
    "    \n",
    "    train_loss = train(model,diffusion,encoder,decoder,optimizer,train_data_loader,is_wandb=is_wandb)     \n",
    "\n",
    "    train_loss_list.append(train_loss)\n",
    "    \n",
    "    \n",
    "    print(f\"Epoch {epoch_idx+1}: {train_loss} \")\n",
    "    if (train_loss < best_loss): \n",
    "        best_loss = train_loss\n",
    "        # print(\"Saving Best Model =======================================>\")\n",
    "        torch.save(model, f'{exp_path}/u_net_diff_best_loss.pth.tar')\n",
    "        # torch.save(cond_enc, f'{exp_path}/cond_enc_diff.pth.tar')\n",
    "    if (epoch_idx+1)%10 == 0:\n",
    "        torch.save(model, f'{exp_path}/u_net_diff_checkpoint.pth.tar')\n",
    "                       \n",
    "                       "
   ]
  },
  {
   "cell_type": "code",
   "execution_count": null,
   "id": "bec11e9a-af42-4dcd-b9e2-aff1d7291207",
   "metadata": {},
   "outputs": [],
   "source": []
  },
  {
   "cell_type": "code",
   "execution_count": null,
   "id": "96715009-70c7-4ec9-8553-9abe71af56ca",
   "metadata": {},
   "outputs": [],
   "source": []
  }
 ],
 "metadata": {
  "kernelspec": {
   "display_name": "Python 3 (ipykernel)",
   "language": "python",
   "name": "python3"
  },
  "language_info": {
   "codemirror_mode": {
    "name": "ipython",
    "version": 3
   },
   "file_extension": ".py",
   "mimetype": "text/x-python",
   "name": "python",
   "nbconvert_exporter": "python",
   "pygments_lexer": "ipython3",
   "version": "3.7.11"
  }
 },
 "nbformat": 4,
 "nbformat_minor": 5
}
