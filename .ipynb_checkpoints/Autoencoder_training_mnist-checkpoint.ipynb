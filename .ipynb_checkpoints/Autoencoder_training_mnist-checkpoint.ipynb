{
 "cells": [
  {
   "cell_type": "code",
   "execution_count": 1,
   "id": "d244d992-03d7-41f5-b7d7-2b2958d40058",
   "metadata": {},
   "outputs": [
    {
     "name": "stdout",
     "output_type": "stream",
     "text": [
      "2 1 0\n"
     ]
    }
   ],
   "source": [
    "import os\n",
    "os.environ[\"CUDA_DEVICE_ORDER\"] = \"PCI_BUS_ID\"\n",
    "os.environ[\"CUDA_VISIBLE_DEVICES\"] = \"2\"\n",
    "import torch\n",
    "device = torch.device(\"cuda\" if torch.cuda.is_available() else \"cpu\")\n",
    "print(os.environ[\"CUDA_VISIBLE_DEVICES\"],torch.cuda.device_count(), torch.cuda.current_device())"
   ]
  },
  {
   "cell_type": "code",
   "execution_count": 2,
   "id": "245aa7f6-07e6-4e46-b932-69e6725f58d4",
   "metadata": {},
   "outputs": [
    {
     "name": "stdout",
     "output_type": "stream",
     "text": [
      "1.12.0+cu102\n"
     ]
    }
   ],
   "source": [
    "import torch\n",
    "import torchvision\n",
    "from torchvision import transforms, datasets\n",
    "import torch.nn as nn\n",
    "from torch.nn import init\n",
    "import torch.nn.functional as F\n",
    "from torch import optim as optim\n",
    "from torch.utils.data import Dataset, DataLoader\n",
    "import numpy as np\n",
    "import matplotlib.pyplot as plt\n",
    "import glob\n",
    "import os\n",
    "from mpl_toolkits.axes_grid1 import make_axes_locatable\n",
    "import time\n",
    "import math\n",
    "\n",
    "print(torch.__version__)\n",
    "torch.cuda.is_available()\n",
    "\n",
    "import h5py\n"
   ]
  },
  {
   "cell_type": "markdown",
   "id": "3f039492-6add-4cb4-a4f4-cd9bea34fb8f",
   "metadata": {},
   "source": [
    "## Data loading"
   ]
  },
  {
   "cell_type": "code",
   "execution_count": 3,
   "id": "87ac07a5-190f-4539-a9af-8eced1362364",
   "metadata": {},
   "outputs": [],
   "source": [
    "from torchvision.transforms import ToTensor \n",
    "mnist_train_dataset = datasets.MNIST(\n",
    "    root = 'data',\n",
    "    train = True,                         \n",
    "    transform = transforms.Compose([ToTensor(), transforms.Resize(32)]),\n",
    "    download = True,            \n",
    ")\n",
    "mnist_test_dataset = datasets.MNIST(\n",
    "    root = 'data', \n",
    "    train = False, \n",
    "    transform = transforms.Compose([ToTensor(), transforms.Resize(32)]),\n",
    ")"
   ]
  },
  {
   "cell_type": "code",
   "execution_count": 4,
   "id": "d3c42423-9902-4f36-9621-bc8c73106038",
   "metadata": {},
   "outputs": [],
   "source": [
    "train_data_loader = torch.utils.data.DataLoader(mnist_train_dataset, batch_size=32, shuffle=True)\n",
    "val_data_loader = torch.utils.data.DataLoader(mnist_test_dataset, batch_size=32, shuffle=False)"
   ]
  },
  {
   "cell_type": "code",
   "execution_count": 5,
   "id": "068a31d5-14cb-451b-8d8a-cbb61d1224e0",
   "metadata": {},
   "outputs": [
    {
     "name": "stdout",
     "output_type": "stream",
     "text": [
      "Image batch shape: torch.Size([32, 1, 32, 32])\n",
      "Labels batch shape: torch.Size([32])\n"
     ]
    },
    {
     "data": {
      "image/png": "[encoded data removed]",
      "text/plain": [
       "<Figure size 432x288 with 2 Axes>"
      ]
     },
     "metadata": {
      "needs_background": "light"
     },
     "output_type": "display_data"
    },
    {
     "name": "stdout",
     "output_type": "stream",
     "text": [
      "Minimum :0.0\n",
      "Maximum :0.9950827360153198\n"
     ]
    }
   ],
   "source": [
    "digit_imgs,digit_labels   = next(iter(train_data_loader))\n",
    "\n",
    "print(f\"Image batch shape: {digit_imgs.size()}\")\n",
    "print(f\"Labels batch shape: {digit_labels.size()}\")\n",
    "ind = 0\n",
    "img = digit_imgs[ind].squeeze()\n",
    "# label = train_labels[0]\n",
    "plt.figure()\n",
    "plt.imshow(img)\n",
    "plt.title(\"Real Image\")\n",
    "plt.colorbar()\n",
    "plt.show()\n",
    "# print(f\"Label: {label}\")\n",
    "print(f\"Minimum :{img.min()}\")\n",
    "print(f\"Maximum :{img.max()}\")"
   ]
  },
  {
   "cell_type": "markdown",
   "id": "a5ed5348-e87b-45b8-831e-d11736079a53",
   "metadata": {},
   "source": [
    "## Model"
   ]
  },
  {
   "cell_type": "code",
   "execution_count": 6,
   "id": "3eb4e74b-bfff-40b5-a37d-b00261b33248",
   "metadata": {},
   "outputs": [],
   "source": [
    "class CNN_Encoder(nn.Module):\n",
    "    \n",
    "    def __init__(self, input_nc=1, ngf = 16):\n",
    "        super(CNN_Encoder, self).__init__()\n",
    "        self.enc1 = self.enc_block(in_ch = input_nc, out_ch = ngf, kernel_size=4, stride=2, padding = 1,bias = True, innermost = False  )\n",
    "        self.enc2 = self.enc_block(in_ch = ngf, out_ch = ngf*2, kernel_size=4, stride=2, padding = 1,bias = True, innermost = False  )\n",
    "        self.enc3 = self.enc_block(in_ch = ngf*2, out_ch = ngf*4, kernel_size=4, stride=2, padding = 1,bias = True, innermost = False  )\n",
    "        self.enc4 = self.enc_block(in_ch = ngf*4, out_ch = ngf*8, kernel_size=4, stride=2, padding = 1,bias = True, innermost = False  )\n",
    "        self.enc5 = self.enc_block(in_ch = ngf*8, out_ch = ngf*16, kernel_size=4, stride=2, padding = 1,bias = True, innermost = False  )\n",
    "        \n",
    "        \n",
    "    def enc_block(self, in_ch, out_ch, kernel_size=4, stride=2, padding = 1,bias = True, innermost = False):\n",
    "            return nn.Sequential(\n",
    "                nn.Conv2d(in_ch, out_ch, kernel_size=kernel_size,stride=stride, padding=padding, bias=bias),\n",
    "                nn.ReLU()\n",
    "                )\n",
    "      \n",
    "            \n",
    "    def forward(self, x):\n",
    "        x = self.enc1(x)\n",
    "        x = self.enc2(x)\n",
    "        x = self.enc3(x)\n",
    "        x = self.enc4(x)\n",
    "        x = self.enc5(x)\n",
    "        return x\n",
    "    \n",
    "\n",
    "class CNN_Decoder(nn.Module):\n",
    "    \n",
    "    def __init__(self, lat_chan=256,out_ch = 1, ngf = 16 ):\n",
    "        super(CNN_Decoder, self).__init__()\n",
    "        self.dec1 = self.conv_up_block(in_ch = lat_chan , out_ch = ngf*8, \n",
    "                                       kernel_size=4, stride=2, padding = 1,bias = True)\n",
    "        self.dec2 = self.conv_up_block(in_ch = ngf*8 , out_ch = ngf*4, \n",
    "                                       kernel_size=4, stride=2, padding = 1,bias = True)\n",
    "        self.dec3 = self.conv_up_block(in_ch = ngf*4 , out_ch = ngf*2, \n",
    "                                       kernel_size=4, stride=2, padding = 1,bias = True)\n",
    "        self.dec4 = self.conv_up_block(in_ch = ngf*2 , out_ch = ngf, \n",
    "                                       kernel_size=4, stride=2, padding = 1,bias = True)\n",
    "        self.dec5 = self.conv_up_block(in_ch = ngf , out_ch = 1, \n",
    "                                       kernel_size=4, stride=2, padding = 1,bias = True)\n",
    "        # self.final = nn.Linear(16,out_ch)\n",
    "        \n",
    "        \n",
    "    def conv_up_block(self,  in_ch, out_ch, kernel_size=4, stride=2, padding = 1,bias = True,outermost = False):\n",
    "            return nn.Sequential(\n",
    "                nn.ConvTranspose2d( in_ch, out_ch, kernel_size=kernel_size, stride=stride, padding = padding,bias = bias),\n",
    "                nn.ReLU()\n",
    "                )\n",
    "        \n",
    "    def forward(self,x): \n",
    "        x = self.dec1(x)\n",
    "        \n",
    "        x = self.dec2(x)\n",
    "        \n",
    "        \n",
    "        x = self.dec3(x)\n",
    "        \n",
    "        x = self.dec4(x)\n",
    "        x = self.dec5(x)\n",
    "        # x = self.final(x)\n",
    "        # x = torch.moveaxis(x,-1,1)\n",
    "        return x"
   ]
  },
  {
   "cell_type": "code",
   "execution_count": 7,
   "id": "b9307203-44eb-40e7-bb5e-75b9d6123bbd",
   "metadata": {},
   "outputs": [
    {
     "name": "stdout",
     "output_type": "stream",
     "text": [
      "torch.Size([32, 1, 32, 32]) torch.Size([32, 256, 1, 1]) torch.Size([32, 1, 32, 32])\n"
     ]
    }
   ],
   "source": [
    "encoder = CNN_Encoder().to(device)\n",
    "decoder = CNN_Decoder().to(device)\n",
    "\n",
    "lat_c = encoder(digit_imgs.to(device))\n",
    "out = decoder(lat_c)\n",
    "print(digit_imgs.shape,lat_c.shape,out.shape)"
   ]
  },
  {
   "cell_type": "code",
   "execution_count": 8,
   "id": "d3e57a01-452e-4732-8be6-a93b5862d74b",
   "metadata": {},
   "outputs": [],
   "source": [
    "is_wandb = False\n",
    "criterion = nn.L1Loss()\n",
    "lr  = 0.001   \n",
    "beta_1 = 0.9\n",
    "beta_2 = 0.999\n",
    "n_epochs = 100 \n",
    "opt =  torch.optim.Adam(list(encoder.parameters()) + list(decoder.parameters()), lr=lr, betas=(beta_1, beta_2))"
   ]
  },
  {
   "cell_type": "code",
   "execution_count": 9,
   "id": "cd61d7dc-0235-4423-96aa-0d7d9eee096c",
   "metadata": {},
   "outputs": [],
   "source": [
    "def recon_loss(x_hat,x):\n",
    "    criterion = nn.MSELoss()\n",
    "    return criterion(x_hat,x)\n",
    "\n",
    "class AverageMeter(object):\n",
    "    \"\"\"Computes and stores the average and current value\"\"\"\n",
    "    def __init__(self):\n",
    "        self.reset()\n",
    "\n",
    "    def reset(self):\n",
    "        self.val = 0\n",
    "        self.avg = 0\n",
    "        self.sum = 0\n",
    "        self.count = 0\n",
    "\n",
    "    def update(self, val, n=1):\n",
    "        self.val = val\n",
    "        self.sum += val * n\n",
    "        self.count += n\n",
    "        self.avg = self.sum / self.count if self.count != 0 else 0"
   ]
  },
  {
   "cell_type": "code",
   "execution_count": 10,
   "id": "41ad5f37-8df1-4275-b47d-140ac4cb66a4",
   "metadata": {},
   "outputs": [],
   "source": [
    "def train(encoder,decoder,opt,data_loader,is_wandb=False,verbose_freq = 500,is_verbose = False):\n",
    "    encoder.train()\n",
    "    decoder.train()\n",
    "    \n",
    "    batch_time = AverageMeter()\n",
    "    data_time = AverageMeter()\n",
    "    train_losses = AverageMeter()\n",
    "    end = time.time()\n",
    "    \n",
    "    for batch_idx, (x,_ ) in enumerate(data_loader): \n",
    "        data_time.update(time.time() - end)\n",
    "        \n",
    "        opt.zero_grad()\n",
    "        c_hat = encoder(x.to(device))\n",
    "        x_hat = decoder(c_hat)\n",
    "        \n",
    "        loss = recon_loss(x_hat,x.to(device))\n",
    "        \n",
    "        loss.backward()\n",
    "        opt.step()\n",
    "        \n",
    "        train_losses.update(loss.data.item())\n",
    "        batch_time.update(time.time() - end)\n",
    "        end = time.time()\n",
    "        \n",
    "        if is_verbose:\n",
    "            if (batch_idx+1) % verbose_freq == 0:\n",
    "                msg = 'Epoch: [{0}/{3}][{1}/{2}]\\t' \\\n",
    "                      'Time {batch_time.val:.3f}s ({batch_time.avg:.3f}s)\\t' \\\n",
    "                      'Speed {speed:.1f} samples/s\\t' \\\n",
    "                      'Data {data_time.val:.3f}s ({data_time.avg:.3f}s)\\t' \\\n",
    "                      'Loss {train_loss.val:.5f} ({train_loss.avg:.5f})\\t'.format(\n",
    "                          epoch_idx+1, batch_idx,len(data_loader), n_epochs , batch_time=batch_time,\n",
    "                          speed=x.size(0)/batch_time.val,\n",
    "                          data_time=data_time, train_loss=train_losses)\n",
    "                print(msg)\n",
    "        \n",
    "        if is_wandb:\n",
    "            wandb.log({\"batch_loss\": loss.data.item()})\n",
    "    \n",
    "    \n",
    "    if is_wandb:\n",
    "            wandb.log({\"train_epoch_loss\": train_losses.avg})\n",
    "            wandb.log({\"training time/Iter\": batch_time.sum/len(data_loader)})\n",
    "    \n",
    "    \n",
    "    # print(f\"Evaluation   Epoch : {epoch_idx+1}  =====================>\")\n",
    "    if is_verbose:\n",
    "        print(f\"Training Epoch Loss: {train_losses.avg}\")\n",
    "    return train_losses.avg\n",
    "        \n",
    "        \n",
    "def validate(encoder,decoder,data_loader,is_wandb=False,is_verbose = False):\n",
    "    encoder.eval()\n",
    "    decoder.eval()\n",
    "    \n",
    "    val_losses = AverageMeter()\n",
    "    \n",
    "    \n",
    "    with torch.no_grad():\n",
    "        for batch_idx, (x,_) in enumerate(data_loader): \n",
    "            c_hat = encoder(x.to(device))\n",
    "            x_hat = decoder(c_hat)\n",
    "\n",
    "            loss = recon_loss(x_hat,x.to(device)) \n",
    "            \n",
    "            val_losses.update(loss.data.item())\n",
    "    \n",
    "    if is_wandb:\n",
    "            wandb.log({\"val_epoch_loss\": val_losses.avg})\n",
    "    \n",
    "    \n",
    "    # print(f\"Evaluation   Epoch : {epoch_idx+1}  =====================>\")\n",
    "    if is_verbose:\n",
    "        print(f\"Val Epoch Loss: {val_losses.avg}\")\n",
    "    return val_losses.avg"
   ]
  },
  {
   "cell_type": "code",
   "execution_count": 11,
   "id": "f5a52cfb-cbbb-4882-af95-fcb2beb23602",
   "metadata": {},
   "outputs": [],
   "source": [
    "exp_path = \"./model_checkpoints/autoencoder_MNIST/\"\n",
    "if not os.path.exists(exp_path):\n",
    "    os.mkdir(exp_path)"
   ]
  },
  {
   "cell_type": "code",
   "execution_count": null,
   "id": "a31c393e-c8f2-4d5b-b5cf-3bc1616bdaef",
   "metadata": {},
   "outputs": [
    {
     "name": "stdout",
     "output_type": "stream",
     "text": [
      "Training ="
     ]
    }
   ],
   "source": [
    "val_best_loss = 10000000\n",
    "train_loss_list = []\n",
    "val_loss_list = []\n",
    "\n",
    "if not os.path.exists(exp_path):\n",
    "    os.mkdir(exp_path)\n",
    "print(\"Training \", end='')\n",
    "for epoch_idx in range(n_epochs):\n",
    "    print('=', end='')\n",
    "    # print(f\"Training Epoch : [{epoch_idx+1}/{n_epochs}]===============================================================================\")\n",
    "    \n",
    "    train_loss = train(encoder,decoder,opt,train_data_loader)    \n",
    "    val_losses = validate(encoder,decoder,val_data_loader) \n",
    "\n",
    "    train_loss_list.append(val_losses)\n",
    "    val_loss_list.append(val_losses)\n",
    "    if (val_losses < val_best_loss): \n",
    "        val_best_loss = val_losses\n",
    "        # print(\"Saving Best Model =======================================>\")\n",
    "        torch.save(encoder, f'{exp_path}/encoder.pth.tar')\n",
    "        torch.save(decoder, f'{exp_path}/decoder.pth.tar')\n",
    "    \n",
    "    \n",
    "plt.figure()\n",
    "plt.plot(train_loss_list)\n",
    "plt.title(\"Train Loss\")\n",
    "\n",
    "plt.figure()\n",
    "plt.plot(val_loss_list)\n",
    "plt.title(\"Val Loss\")"
   ]
  },
  {
   "cell_type": "markdown",
   "id": "fe4efe74-ef3f-4354-986d-af766268efad",
   "metadata": {},
   "source": [
    "## Latent Space Visualization"
   ]
  },
  {
   "cell_type": "code",
   "execution_count": null,
   "id": "b1568024-8c87-45f0-b055-b35f96558419",
   "metadata": {},
   "outputs": [],
   "source": [
    "from sklearn.manifold import TSNE"
   ]
  },
  {
   "cell_type": "code",
   "execution_count": null,
   "id": "b329026b-a0a9-4ccf-9455-af95f6c6cce7",
   "metadata": {},
   "outputs": [],
   "source": [
    "enc_path = f'{exp_path}/encoder.pth.tar'\n",
    "encoder = torch.load(enc_path).to(device)\n",
    "encoder.eval()\n",
    "print(sum([np.prod(p.size()) for p in encoder.parameters()]))"
   ]
  },
  {
   "cell_type": "code",
   "execution_count": null,
   "id": "6597db7e-9b07-4d6f-af87-31ef7e4355ba",
   "metadata": {},
   "outputs": [],
   "source": [
    "for batch_idx, (x,label) in enumerate(val_data_loader): \n",
    "    c_hat = encoder(x.to(device))\n",
    "    if batch_idx==0:\n",
    "        features = c_hat\n",
    "        label_list = label\n",
    "    else:\n",
    "        features = torch.cat((features,c_hat),axis = 0)\n",
    "        label_list = torch.cat((label_list,label),axis = 0)\n",
    "print(features.shape,label_list.shape)\n",
    "\n",
    "features = features.detach().cpu().numpy()\n",
    "label_list = label_list.detach().cpu().numpy()"
   ]
  },
  {
   "cell_type": "code",
   "execution_count": null,
   "id": "4b457fa5-4b24-4279-9d3b-b332770de89e",
   "metadata": {},
   "outputs": [],
   "source": [
    "tsne = TSNE(random_state = 42, n_components=2,verbose=0, perplexity=40, n_iter=300).fit_transform(features)"
   ]
  },
  {
   "cell_type": "code",
   "execution_count": null,
   "id": "26ee60ae-1413-4ead-a10c-5d458f2b1a5b",
   "metadata": {},
   "outputs": [],
   "source": [
    "plt.figure()\n",
    "plt.scatter(tsne[:, 0], tsne[:, 1], s= 5, c=label_list, cmap='Spectral')\n",
    "plt.gca().set_aspect('equal', 'datalim')\n",
    "plt.colorbar(boundaries=np.arange(11)-0.5).set_ticks(np.arange(10))\n",
    "plt.title('Visualizing MNIST latent space through t-SNE', fontsize=24);"
   ]
  },
  {
   "cell_type": "code",
   "execution_count": null,
   "id": "92b233f8-2b17-4934-a30c-c0f68df90c91",
   "metadata": {},
   "outputs": [],
   "source": []
  }
 ],
 "metadata": {
  "kernelspec": {
   "display_name": "Python 3 (ipykernel)",
   "language": "python",
   "name": "python3"
  },
  "language_info": {
   "codemirror_mode": {
    "name": "ipython",
    "version": 3
   },
   "file_extension": ".py",
   "mimetype": "text/x-python",
   "name": "python",
   "nbconvert_exporter": "python",
   "pygments_lexer": "ipython3",
   "version": "3.7.11"
  }
 },
 "nbformat": 4,
 "nbformat_minor": 5
}
