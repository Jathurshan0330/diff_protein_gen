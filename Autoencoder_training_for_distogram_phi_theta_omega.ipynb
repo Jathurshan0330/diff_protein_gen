{
 "cells": [
  {
   "cell_type": "code",
   "execution_count": 1,
   "id": "d244d992-03d7-41f5-b7d7-2b2958d40058",
   "metadata": {},
   "outputs": [
    {
     "name": "stdout",
     "output_type": "stream",
     "text": [
      "0 1 0\n"
     ]
    }
   ],
   "source": [
    "import os\n",
    "os.environ[\"CUDA_DEVICE_ORDER\"] = \"PCI_BUS_ID\"\n",
    "os.environ[\"CUDA_VISIBLE_DEVICES\"] = \"0\"\n",
    "import torch\n",
    "device = torch.device(\"cuda\" if torch.cuda.is_available() else \"cpu\")\n",
    "print(os.environ[\"CUDA_VISIBLE_DEVICES\"],torch.cuda.device_count(), torch.cuda.current_device())"
   ]
  },
  {
   "cell_type": "code",
   "execution_count": 2,
   "id": "245aa7f6-07e6-4e46-b932-69e6725f58d4",
   "metadata": {},
   "outputs": [
    {
     "name": "stdout",
     "output_type": "stream",
     "text": [
      "1.12.0+cu102\n"
     ]
    }
   ],
   "source": [
    "import torch\n",
    "import torchvision\n",
    "from torchvision import transforms, datasets\n",
    "import torch.nn as nn\n",
    "from torch.nn import init\n",
    "import torch.nn.functional as F\n",
    "from torch import optim as optim\n",
    "from torch.utils.data import Dataset, DataLoader\n",
    "import numpy as np\n",
    "import matplotlib.pyplot as plt\n",
    "import glob\n",
    "import os\n",
    "from mpl_toolkits.axes_grid1 import make_axes_locatable\n",
    "import time\n",
    "import math\n",
    "\n",
    "print(torch.__version__)\n",
    "torch.cuda.is_available()\n",
    "\n",
    "import h5py\n"
   ]
  },
  {
   "cell_type": "markdown",
   "id": "3f039492-6add-4cb4-a4f4-cd9bea34fb8f",
   "metadata": {},
   "source": [
    "## Data loading"
   ]
  },
  {
   "cell_type": "code",
   "execution_count": null,
   "id": "1cc23a05-1371-42b0-9690-72ec8d2d27a6",
   "metadata": {},
   "outputs": [
    {
     "name": "stdout",
     "output_type": "stream",
     "text": [
      "9058\n",
      "6109\n",
      "0.0 309.6966314479636\n"
     ]
    }
   ],
   "source": [
    "file_list = glob.glob(\"/ssd/Protein_extracted_data/*.h5\")\n",
    "file_list.sort()\n",
    "print(len(file_list))\n",
    "\n",
    "\n",
    "new_list = []\n",
    "for i in file_list:\n",
    "    with h5py.File(i, \"r\") as f:\n",
    "            # dist_ref = np.array(f.get('dist_ref'))\n",
    "            sse = np.array(f.get('sse'))\n",
    "            # seq = np.array(f.get('seq'))\n",
    "            # mask = np.array(f.get('mask'))\n",
    "            f.close()\n",
    "    if len(sse.shape)!=0:\n",
    "        if sse.shape[-1]!=0:\n",
    "            new_list.append(i)\n",
    "print(len(new_list))#,error_list)\n",
    "\n",
    "\n",
    "c = 0\n",
    "max_value = 0\n",
    "min_value = 100000\n",
    "\n",
    "for i in new_list:\n",
    "    with h5py.File(i, \"r\") as f:\n",
    "            dist_ref = np.expand_dims(np.array(f.get('dist_ref')),axis=0)\n",
    "    if dist_ref.max()>max_value:\n",
    "        max_value = dist_ref.max()\n",
    "    if dist_ref.min()<min_value:\n",
    "        min_value = dist_ref.min()\n",
    "print(min_value,max_value)"
   ]
  },
  {
   "cell_type": "code",
   "execution_count": 7,
   "id": "327a5d68-1ac3-496d-9247-8136a422bd83",
   "metadata": {},
   "outputs": [
    {
     "name": "stdout",
     "output_type": "stream",
     "text": [
      "4887 611 611\n"
     ]
    }
   ],
   "source": [
    "#15051\n",
    "file_list = new_list#glob.glob(\"/home/jupyter-jathurshan/Protein_extracted_data/*.h5\")\n",
    "# file_list.sort()\n",
    "# print(len(file_list))\n",
    "\n",
    "train_file_list = file_list[:int(len(file_list)*0.8)]\n",
    "val_file_list = file_list[int(len(file_list)*0.8):int(len(file_list)*0.9)]\n",
    "test_file_list = file_list[int(len(file_list)*0.9):]\n",
    "\n",
    "print(len(train_file_list),len(val_file_list),len(test_file_list))"
   ]
  },
  {
   "cell_type": "code",
   "execution_count": 8,
   "id": "35fe3671-949f-4d82-833f-90b2a8cdd23e",
   "metadata": {},
   "outputs": [],
   "source": [
    "def plot_sub_plots(rows,columns,img_list,title_list,cmap = 'inferno'):\n",
    "    fig, axs = plt.subplots(rows, columns, figsize = (columns*10,rows*10))\n",
    "    if rows == 1:\n",
    "        for i in range(len(img_list)):\n",
    "            im1 = axs[i].imshow(img_list[i],cmap=cmap)\n",
    "            axs[i].set_title(f\"{title_list[i]}\")\n",
    "            plt.colorbar(im1, ax=axs[i])#,shrink = 0.3\n",
    "    else:\n",
    "        for i in range(len(img_list)):\n",
    "            im1 = axs[i//columns][i%columns].imshow(img_list[i],cmap=cmap)\n",
    "            axs[i//columns][i%columns].set_title(f\"{title_list[i]}\")\n",
    "            plt.colorbar(im1, ax=axs[i//columns][i%columns])#,shrink = 0.3)\n",
    "    # plt.show()\n",
    "    return fig\n"
   ]
  },
  {
   "cell_type": "markdown",
   "id": "897cdd62-36c8-42d5-abcf-40244bf27c6e",
   "metadata": {
    "jp-MarkdownHeadingCollapsed": true,
    "tags": []
   },
   "source": [
    "## Disto ref"
   ]
  },
  {
   "cell_type": "code",
   "execution_count": 6,
   "id": "87ac07a5-190f-4539-a9af-8eced1362364",
   "metadata": {},
   "outputs": [],
   "source": [
    "# import h5py\n",
    "# ### Using Distant Ref\n",
    "# class Protein_Dataset(Dataset):\n",
    "#     def __init__(self,file_list, device,pro_len = 64):\n",
    "      \n",
    "#         self.file_list = file_list\n",
    "#         self.pro_len = pro_len\n",
    "#         self.device = device\n",
    "        \n",
    "#         self.device = device\n",
    "        \n",
    "#         print(f\"Data_size : {len(self.file_list)}\") \n",
    "        \n",
    "#     def __len__(self):\n",
    "#         return len(self.file_list )\n",
    "\n",
    "#     def __getitem__(self, idx):\n",
    "        \n",
    "#         with h5py.File(self.file_list[idx], \"r\") as f:\n",
    "#             dist_ref = np.array(f.get('dist_ref'))\n",
    "#             dist_ref[np.isnan(dist_ref)] = 0\n",
    "#             sse = np.array(f.get('sse'))\n",
    "#             # seq = np.array(f.get('seq'))\n",
    "#             mask = np.array(f.get('mask'))\n",
    "#             f.close()\n",
    "        \n",
    "       \n",
    "        \n",
    "#         dist_ref = torch.from_numpy(dist_ref).unsqueeze(0).clamp(max=50)\n",
    "#         dist_ref =dist_ref/50\n",
    "#         sse = torch.from_numpy(sse).unsqueeze(0).float()\n",
    "#         # seq = np.array(f.get('seq'))\n",
    "#         mask = torch.from_numpy(mask).squeeze().unsqueeze(0)\n",
    "#         ref_len = dist_ref.shape[-1]\n",
    "#         # print(self.file_list[idx],dist_ref.shape,sse.shape)\n",
    "        \n",
    "#         # print(self.file_list[idx],dist_ref.shape,mask.shape,sse.shape)\n",
    "        \n",
    "# #         if dist_ref.shape[-1]<self.pro_len:\n",
    "# #             pad = ((self.pro_len-dist_ref.shape[-1])//2,(self.pro_len-dist_ref.shape[-1])//2,(self.pro_len-dist_ref.shape[-1])//2,(self.pro_len-dist_ref.shape[-1])//2)\n",
    "# #             dist_ref =  F.pad(dist_ref, pad, mode='reflect')\n",
    "# #             mask =  F.pad(mask, pad, mode='constant')\n",
    "            \n",
    "# #             pad = ((self.pro_len-sse.shape[-1])//2,(self.pro_len-sse.shape[-1])//2)\n",
    "# #             sse =  F.pad(sse, pad, mode='reflect')\n",
    "# #         elif dist_ref.shape[-1]>self.pro_len:\n",
    "# #             crop = transforms.CenterCrop(self.pro_len)\n",
    "# #             dist_ref = crop(dist_ref)\n",
    "# #             mask = crop(mask)\n",
    "# #             crop = transforms.CenterCrop((3,self.pro_len))\n",
    "# #             sse = crop(sse)\n",
    "         \n",
    "#         if dist_ref.shape[-1]!=self.pro_len:\n",
    "#             crop = transforms.CenterCrop(self.pro_len)\n",
    "#             dist_ref = crop(dist_ref)\n",
    "#             mask = crop(mask)\n",
    "#             crop = transforms.CenterCrop((3,self.pro_len))\n",
    "#             sse = crop(sse)\n",
    "           \n",
    "        \n",
    "# #         \n",
    "#         return dist_ref.to(self.device).float(), mask.to(self.device).float(), sse.to(self.device).float(),ref_len"
   ]
  },
  {
   "cell_type": "markdown",
   "id": "3b97f6f3-25b7-4b50-9d40-0f15d499a38f",
   "metadata": {},
   "source": [
    "## Disto binned"
   ]
  },
  {
   "cell_type": "code",
   "execution_count": 9,
   "id": "4b9cc106-823d-446e-9dbd-9093f6f178fa",
   "metadata": {},
   "outputs": [],
   "source": [
    "import h5py\n",
    "### Using Distant binned\n",
    "def mtx2bins(x_ref, start, end, nbins, mask):\n",
    "    bins = np.linspace(start, end, nbins)\n",
    "    x_true = np.digitize(x_ref, bins).astype(np.uint8)\n",
    "    x_true[mask] = 0\n",
    "    return np.eye(nbins+1)[x_true][...,:-1]\n",
    "class Protein_Dataset(Dataset):\n",
    "    def __init__(self,file_list, device,pro_len = 64):\n",
    "      \n",
    "        self.file_list = file_list\n",
    "        self.pro_len = pro_len\n",
    "        self.device = device\n",
    "        \n",
    "        self.device = device\n",
    "        \n",
    "        print(f\"Data_size : {len(self.file_list)}\") \n",
    "        \n",
    "    def __len__(self):\n",
    "        return len(self.file_list )\n",
    "\n",
    "    def __getitem__(self, idx):\n",
    "        \n",
    "        with h5py.File(self.file_list[idx], \"r\") as f:\n",
    "            # print(f.keys())\n",
    "            dist_ref = np.array(f.get('dist_ref'))\n",
    "            dist_ref[np.isnan(dist_ref)] = 0\n",
    "            \n",
    "            omega_ref = np.array(f.get('omega_ref'))\n",
    "            # omega_ref[np.isnan(omega_ref)] = 0\n",
    "            \n",
    "            phi_ref = np.array(f.get('phi_ref'))\n",
    "            # phi_ref[np.isnan(phi_ref)] = 0\n",
    "            \n",
    "            theta_ref = np.array(f.get('theta_ref'))\n",
    "            # theta_ref[np.isnan(theta_ref)] = 0\n",
    "            \n",
    "            sse = np.array(f.get('sse'))\n",
    "            # seq = np.array(f.get('seq'))\n",
    "            mask = np.array(f.get('mask'))\n",
    "            f.close()\n",
    "        \n",
    "       \n",
    "        \n",
    "        # dist_ref = torch.from_numpy(dist_ref).unsqueeze(0)#.clamp(max=50)\n",
    "        # dist_ref =dist_ref/50\n",
    "        dist_ref  = mtx2bins(dist_ref,2.0,  20.0, 37, mask=(dist_ref > 20))#),-1,0)\n",
    "        omega_ref  = torch.moveaxis(torch.from_numpy(mtx2bins(omega_ref, -np.pi, np.pi, 25, mask=(dist_ref[...,0]==1))),-1,0)\n",
    "        theta_ref  = torch.moveaxis(torch.from_numpy(mtx2bins(theta_ref, -np.pi, np.pi, 25, mask=(dist_ref[...,0]==1))),-1,0)\n",
    "        phi_ref  = torch.moveaxis(torch.from_numpy(mtx2bins(phi_ref,0.0, np.pi, 13, mask=(dist_ref[...,0]==1))),-1,0)\n",
    "        \n",
    "        dist_ref = torch.moveaxis(torch.from_numpy(dist_ref),-1,0)\n",
    "        \n",
    "        # print(dist_ref.shape)\n",
    "        sse = torch.from_numpy(sse).unsqueeze(0).float()\n",
    "        # seq = np.array(f.get('seq'))\n",
    "        mask = torch.from_numpy(mask).squeeze().unsqueeze(0)\n",
    "        ref_len = dist_ref.shape[-1]\n",
    "    \n",
    "         \n",
    "        if dist_ref.shape[-1]!=self.pro_len:\n",
    "            crop = transforms.CenterCrop(self.pro_len)\n",
    "            dist_ref = crop(dist_ref)\n",
    "            omega_ref = crop(omega_ref)\n",
    "            theta_ref = crop(theta_ref)\n",
    "            phi_ref = crop(phi_ref)\n",
    "            mask = crop(mask)\n",
    "            crop = transforms.CenterCrop((3,self.pro_len))\n",
    "            sse = crop(sse)\n",
    "           \n",
    "        \n",
    "#         \n",
    "        return [dist_ref.to(self.device).float(),omega_ref.to(self.device).float(),theta_ref.to(self.device).float(),phi_ref.to(self.device).float()], mask.to(self.device).float(), sse.to(self.device).float(),ref_len"
   ]
  },
  {
   "cell_type": "code",
   "execution_count": 10,
   "id": "d0970a4e-56bc-4b0a-92d9-88bb63347979",
   "metadata": {},
   "outputs": [
    {
     "name": "stdout",
     "output_type": "stream",
     "text": [
      "Data_size : 4887\n",
      "Data_size : 611\n"
     ]
    }
   ],
   "source": [
    "train_dataset = Protein_Dataset(train_file_list, device = device) \n",
    "val_dataset = Protein_Dataset(val_file_list, device = device)"
   ]
  },
  {
   "cell_type": "code",
   "execution_count": 11,
   "id": "d3c42423-9902-4f36-9621-bc8c73106038",
   "metadata": {},
   "outputs": [],
   "source": [
    "train_data_loader = torch.utils.data.DataLoader(train_dataset, batch_size=32, shuffle=True)\n",
    "val_data_loader = torch.utils.data.DataLoader(val_dataset, batch_size=32, shuffle=False)"
   ]
  },
  {
   "cell_type": "code",
   "execution_count": 14,
   "id": "068a31d5-14cb-451b-8d8a-cbb61d1224e0",
   "metadata": {},
   "outputs": [
    {
     "name": "stdout",
     "output_type": "stream",
     "text": [
      "torch.Size([32, 37, 64, 64]) torch.Size([32, 25, 64, 64]) torch.Size([32, 25, 64, 64]) torch.Size([32, 13, 64, 64]) torch.Size([32, 1, 64, 64]) torch.Size([32, 1, 3, 64]) tensor([128, 499, 291, 680, 165, 291, 182, 116, 575, 391, 116, 332, 228, 525,\n",
      "        125, 241, 251, 123, 311, 231, 258, 208, 164, 237, 562, 216, 642, 315,\n",
      "        293,  96, 108, 104])\n",
      "\n"
     ]
    },
    {
     "data": {
      "image/png": "[encoded data removed]",
      "text/plain": [
       "<Figure size 4320x720 with 12 Axes>"
      ]
     },
     "metadata": {
      "needs_background": "light"
     },
     "output_type": "display_data"
    }
   ],
   "source": [
    "[dist_ref,omega_ref,theta_ref,phi_ref],mask,sse,ref_len   = next(iter(train_data_loader))\n",
    "\n",
    "print(dist_ref.shape,omega_ref.shape,theta_ref.shape,phi_ref.shape,mask.shape,sse.shape,ref_len) \n",
    "ind = 0\n",
    "img_list = [dist_ref[ind].argmax(0).squeeze().detach().cpu().numpy(),\n",
    "            omega_ref[ind].argmax(0).squeeze().detach().cpu().numpy(),\n",
    "            theta_ref[ind].argmax(0).squeeze().detach().cpu().numpy(),\n",
    "            phi_ref[ind].argmax(0).squeeze().detach().cpu().numpy(),\n",
    "           mask[ind].squeeze().detach().cpu().numpy(),\n",
    "           sse[ind].squeeze().detach().cpu().numpy(),\n",
    "           ]\n",
    "\n",
    "title_list = ['dist_ref','omega_ref','theta_ref','phi_ref','Mask','sse']\n",
    "plot_sub_plots(1,6,img_list,title_list,cmap = 'inferno')\n",
    "print('')"
   ]
  },
  {
   "cell_type": "markdown",
   "id": "a5ed5348-e87b-45b8-831e-d11736079a53",
   "metadata": {},
   "source": [
    "## Model"
   ]
  },
  {
   "cell_type": "code",
   "execution_count": 15,
   "id": "3eb4e74b-bfff-40b5-a37d-b00261b33248",
   "metadata": {},
   "outputs": [],
   "source": [
    "class CNN_Encoder(nn.Module):\n",
    "    \n",
    "    def __init__(self, input_nc=1, ngf = 16):\n",
    "        super(CNN_Encoder, self).__init__()\n",
    "        self.enc1 = self.enc_block(in_ch = input_nc, out_ch = ngf, kernel_size=4, stride=2, padding = 1,bias = True, innermost = False  )\n",
    "        self.enc2 = self.enc_block(in_ch = ngf, out_ch = ngf*2, kernel_size=4, stride=2, padding = 1,bias = True, innermost = False  )\n",
    "        # self.enc3 = self.enc_block(in_ch = ngf*2, out_ch = ngf*4, kernel_size=4, stride=2, padding = 1,bias = True, innermost = False  )\n",
    "        # self.enc4 = self.enc_block(in_ch = ngf*4, out_ch = ngf*8, kernel_size=4, stride=2, padding = 1,bias = True, innermost = False  )\n",
    "        # self.enc5 = self.enc_block(in_ch = ngf*8, out_ch = ngf*16, kernel_size=4, stride=2, padding = 1,bias = True, innermost = False  )\n",
    "        \n",
    "        \n",
    "    def enc_block(self, in_ch, out_ch, kernel_size=4, stride=2, padding = 1,bias = True, innermost = False):\n",
    "            return nn.Sequential(\n",
    "                nn.Conv2d(in_ch, out_ch, kernel_size=kernel_size,stride=stride, padding=padding, bias=bias),\n",
    "                # nn.ReLU()\n",
    "                )\n",
    "      \n",
    "            \n",
    "    def forward(self, x):\n",
    "        x = self.enc1(x)\n",
    "        x = self.enc2(x)\n",
    "        # x = self.enc3(x)\n",
    "        # x = self.enc4(x)\n",
    "        # x = self.enc5(x)\n",
    "        return x\n",
    "    \n",
    "\n",
    "class CNN_Decoder(nn.Module):\n",
    "    \n",
    "    def __init__(self, lat_chan=128,out_ch = 1, ngf = 16 ):\n",
    "        super(CNN_Decoder, self).__init__()\n",
    "        self.dec1 = self.conv_up_block(in_ch = lat_chan , out_ch = ngf*8, \n",
    "                                       kernel_size=4, stride=2, padding = 1,bias = True)\n",
    "        self.dec2 = self.conv_up_block(in_ch = ngf*8 , out_ch = out_ch, \n",
    "                                       kernel_size=4, stride=2, padding = 1,bias = True)\n",
    "        # self.dec3 = self.conv_up_block(in_ch = ngf*4 , out_ch = ngf*2, \n",
    "        #                                kernel_size=4, stride=2, padding = 1,bias = True)\n",
    "        # self.dec4 = self.conv_up_block(in_ch = ngf*2 , out_ch = 1, \n",
    "        #                                kernel_size=4, stride=2, padding = 1,bias = True)\n",
    "        # self.dec5 = self.conv_up_block(in_ch = ngf , out_ch = 1, \n",
    "                                       # kernel_size=4, stride=2, padding = 1,bias = True)\n",
    "        # self.final = nn.Linear(16,out_ch)\n",
    "        \n",
    "        \n",
    "    def conv_up_block(self,  in_ch, out_ch, kernel_size=4, stride=2, padding = 1,bias = True,outermost = False):\n",
    "            return nn.Sequential(\n",
    "                nn.ConvTranspose2d( in_ch, out_ch, kernel_size=kernel_size, stride=stride, padding = padding,bias = bias),\n",
    "                # nn.ReLU()\n",
    "                )\n",
    "        \n",
    "    def forward(self,x): \n",
    "        x = self.dec1(x)\n",
    "        \n",
    "        x = self.dec2(x)\n",
    "        \n",
    "        \n",
    "#         x = self.dec3(x)\n",
    "        \n",
    "#         x = self.dec4(x)\n",
    "        # x = self.dec5(x)\n",
    "        # x = self.final(x)\n",
    "        # x = torch.moveaxis(x,-1,1)\n",
    "        return x"
   ]
  },
  {
   "cell_type": "code",
   "execution_count": 16,
   "id": "7c7efc65-b5ff-43de-b6bd-3dc83afb951a",
   "metadata": {},
   "outputs": [],
   "source": [
    "class Multi_CNN_Encoder(nn.Module):\n",
    "    \n",
    "    def __init__(self, input_nc=1, ngf = 16):\n",
    "        super(Multi_CNN_Encoder, self).__init__()\n",
    "        self.dist_enc = CNN_Encoder(input_nc = 37,ngf = 16)#.to(device)\n",
    "        self.omega_enc = CNN_Encoder(input_nc = 25,ngf = 16)#.to(device)\n",
    "        self.theta_enc = CNN_Encoder(input_nc = 25,ngf = 16)#.to(device)\n",
    "        self.phi_enc = CNN_Encoder(input_nc = 13,ngf = 16)#.to(device)\n",
    "        \n",
    "    def forward(self,x):\n",
    "        dist_1 = self.dist_enc(x[0])\n",
    "        omega_1 = self.omega_enc(x[1])\n",
    "        theta_1 = self.theta_enc(x[2])\n",
    "        phi_1 = self.phi_enc(x[3])\n",
    "        \n",
    "        lat_c = dist_1+omega_1+theta_1+phi_1\n",
    "        return lat_c\n",
    "    \n",
    "    \n",
    "class Multi_CNN_Decoder(nn.Module):\n",
    "    \n",
    "    def __init__(self, lat_chan=32):\n",
    "        super(Multi_CNN_Decoder, self).__init__()\n",
    "        self.dist_dec = CNN_Decoder(lat_chan=32,out_ch=37)#.to(device)\n",
    "        self.omega_dec = CNN_Decoder(lat_chan=32,out_ch=25)\n",
    "        self.theta_dec = CNN_Decoder(lat_chan=32,out_ch=25)\n",
    "        self.phi_dec =CNN_Decoder(lat_chan=32,out_ch=13)\n",
    "        \n",
    "    def forward(self,x):\n",
    "        dist_1 = self.dist_dec(x)\n",
    "        omega_1 = self.omega_dec(x)\n",
    "        theta_1 = self.theta_dec(x)\n",
    "        phi_1 = self.phi_dec(x)\n",
    "        \n",
    "\n",
    "        return [dist_1,omega_1,theta_1,phi_1]"
   ]
  },
  {
   "cell_type": "code",
   "execution_count": 17,
   "id": "b9307203-44eb-40e7-bb5e-75b9d6123bbd",
   "metadata": {},
   "outputs": [
    {
     "name": "stdout",
     "output_type": "stream",
     "text": [
      "torch.Size([32, 32, 16, 16])\n",
      "torch.Size([32, 37, 64, 64])\n",
      "torch.Size([32, 25, 64, 64])\n",
      "torch.Size([32, 25, 64, 64])\n",
      "torch.Size([32, 13, 64, 64])\n"
     ]
    }
   ],
   "source": [
    "x,mask,sse,ref_len   = next(iter(train_data_loader))\n",
    "\n",
    "encoder = Multi_CNN_Encoder(input_nc = 37,ngf = 16).to(device)\n",
    "decoder = Multi_CNN_Decoder(lat_chan=32).to(device)\n",
    "\n",
    "lat_c = encoder(x)\n",
    "out = decoder(lat_c)\n",
    "print(lat_c.shape)\n",
    "# for i in x:\n",
    "#     print(i.shape)\n",
    "    \n",
    "for i in out:\n",
    "    print(i.shape)\n",
    "#,out.shape)"
   ]
  },
  {
   "cell_type": "code",
   "execution_count": 18,
   "id": "d3e57a01-452e-4732-8be6-a93b5862d74b",
   "metadata": {},
   "outputs": [],
   "source": [
    "criterion = nn.CrossEntropyLoss()\n",
    "lr  = 0.001   \n",
    "beta_1 = 0.9\n",
    "beta_2 = 0.999\n",
    "n_epochs = 500 \n",
    "opt =  torch.optim.Adam(list(encoder.parameters()) + list(decoder.parameters()), lr=lr, betas=(beta_1, beta_2))"
   ]
  },
  {
   "cell_type": "code",
   "execution_count": 19,
   "id": "a3a18301-bd8b-4361-b421-5475fae41ec6",
   "metadata": {},
   "outputs": [
    {
     "name": "stderr",
     "output_type": "stream",
     "text": [
      "Failed to detect the name of this notebook, you can set it manually with the WANDB_NOTEBOOK_NAME environment variable to enable code saving.\n",
      "\u001b[34m\u001b[1mwandb\u001b[0m: Currently logged in as: \u001b[33mjathurshan_0330\u001b[0m. Use \u001b[1m`wandb login --relogin`\u001b[0m to force relogin\n",
      "/usr/bin/nvidia-modprobe: unrecognized option: \"-s\"\n",
      "\n",
      "ERROR: Invalid commandline, please run `/usr/bin/nvidia-modprobe --help` for usage information.\n",
      "\n",
      "\n",
      "/usr/bin/nvidia-modprobe: unrecognized option: \"-s\"\n",
      "\n",
      "ERROR: Invalid commandline, please run `/usr/bin/nvidia-modprobe --help` for usage information.\n",
      "\n",
      "\n"
     ]
    },
    {
     "data": {
      "text/html": [
       "wandb version 0.14.0 is available!  To upgrade, please run:\n",
       " $ pip install wandb --upgrade"
      ],
      "text/plain": [
       "<IPython.core.display.HTML object>"
      ]
     },
     "metadata": {},
     "output_type": "display_data"
    },
    {
     "data": {
      "text/html": [
       "Tracking run with wandb version 0.13.1"
      ],
      "text/plain": [
       "<IPython.core.display.HTML object>"
      ]
     },
     "metadata": {},
     "output_type": "display_data"
    },
    {
     "data": {
      "text/html": [
       "Run data is saved locally in <code>/home/jupyter-jathurshan/diff_protein_gen/wandb/run-20230320_151506-87c7ehtf</code>"
      ],
      "text/plain": [
       "<IPython.core.display.HTML object>"
      ]
     },
     "metadata": {},
     "output_type": "display_data"
    },
    {
     "data": {
      "text/html": [
       "Syncing run <strong><a href=\"https://wandb.ai/jathurshan_0330/diff_protein_gen/runs/87c7ehtf\" target=\"_blank\">skilled-star-48</a></strong> to <a href=\"https://wandb.ai/jathurshan_0330/diff_protein_gen\" target=\"_blank\">Weights & Biases</a> (<a href=\"https://wandb.me/run\" target=\"_blank\">docs</a>)<br/>"
      ],
      "text/plain": [
       "<IPython.core.display.HTML object>"
      ]
     },
     "metadata": {},
     "output_type": "display_data"
    },
    {
     "name": "stderr",
     "output_type": "stream",
     "text": [
      "\u001b[34m\u001b[1mwandb\u001b[0m: \u001b[33mWARNING\u001b[0m Calling wandb.run.save without any arguments is deprecated.Changes to attributes are automatically persisted.\n"
     ]
    }
   ],
   "source": [
    "is_wandb = True\n",
    "if is_wandb:\n",
    "    import wandb\n",
    "    wandb.init(project=\"diff_protein_gen\", entity=\"jathurshan_0330\")\n",
    "    wandb.run.name = \"Autoencoder Training Using All Binned Distograms+Angles (Only ones without Masks)\"\n",
    "    wandb.run.save()\n",
    "    # \"Finetuning only classification head Ki67 using SIMCLR Pretrained Model\"\n",
    "    exp_path = f\"./model_checkpoints/{wandb.run.name}\"\n",
    "    if not os.path.exists(exp_path):\n",
    "        os.mkdir(exp_path)"
   ]
  },
  {
   "cell_type": "code",
   "execution_count": 20,
   "id": "cd61d7dc-0235-4423-96aa-0d7d9eee096c",
   "metadata": {},
   "outputs": [],
   "source": [
    "def recon_loss(x_hat,x):\n",
    "    criterion = nn.L1Loss()\n",
    "    return criterion(x_hat,x)\n",
    "\n",
    "def recon_loss_binned(x_hat,x):\n",
    "    criterion = nn.CrossEntropyLoss()\n",
    "    return criterion(x_hat,x)\n",
    "\n",
    "class AverageMeter(object):\n",
    "    \"\"\"Computes and stores the average and current value\"\"\"\n",
    "    def __init__(self):\n",
    "        self.reset()\n",
    "\n",
    "    def reset(self):\n",
    "        self.val = 0\n",
    "        self.avg = 0\n",
    "        self.sum = 0\n",
    "        self.count = 0\n",
    "\n",
    "    def update(self, val, n=1):\n",
    "        self.val = val\n",
    "        self.sum += val * n\n",
    "        self.count += n\n",
    "        self.avg = self.sum / self.count if self.count != 0 else 0"
   ]
  },
  {
   "cell_type": "code",
   "execution_count": 21,
   "id": "41ad5f37-8df1-4275-b47d-140ac4cb66a4",
   "metadata": {},
   "outputs": [],
   "source": [
    "def train(encoder,decoder,opt,data_loader,is_wandb=False,verbose_freq = 500,is_verbose = False):\n",
    "    encoder.train()\n",
    "    decoder.train()\n",
    "    \n",
    "    batch_time = AverageMeter()\n",
    "    data_time = AverageMeter()\n",
    "    train_losses = AverageMeter()\n",
    "    end = time.time()\n",
    "    \n",
    "    for batch_idx, (x,m,_,_ ) in enumerate(data_loader): \n",
    "        data_time.update(time.time() - end)\n",
    "        \n",
    "        opt.zero_grad()\n",
    "        c_hat = encoder(x)\n",
    "        x_hat = decoder(c_hat)\n",
    "        # print((x.argmax(1).unsqueeze(1)*m).shape)\n",
    "        loss = recon_loss_binned(x_hat[0]*m,(x[0].argmax(1).unsqueeze(1)*m).squeeze().type(torch.cuda.LongTensor))\n",
    "        loss += recon_loss_binned(x_hat[1]*m,(x[1].argmax(1).unsqueeze(1)*m).squeeze().type(torch.cuda.LongTensor))\n",
    "        loss += recon_loss_binned(x_hat[2]*m,(x[2].argmax(1).unsqueeze(1)*m).squeeze().type(torch.cuda.LongTensor))\n",
    "        loss += recon_loss_binned(x_hat[3]*m,(x[3].argmax(1).unsqueeze(1)*m).squeeze().type(torch.cuda.LongTensor))\n",
    "        \n",
    "        \n",
    "        loss.backward()\n",
    "        opt.step()\n",
    "        \n",
    "        train_losses.update(loss.data.item())\n",
    "        batch_time.update(time.time() - end)\n",
    "        end = time.time()\n",
    "        \n",
    "        if is_verbose:\n",
    "            if (batch_idx+1) % verbose_freq == 0:\n",
    "                msg = 'Epoch: [{0}/{3}][{1}/{2}]\\t' \\\n",
    "                      'Time {batch_time.val:.3f}s ({batch_time.avg:.3f}s)\\t' \\\n",
    "                      'Speed {speed:.1f} samples/s\\t' \\\n",
    "                      'Data {data_time.val:.3f}s ({data_time.avg:.3f}s)\\t' \\\n",
    "                      'Loss {train_loss.val:.5f} ({train_loss.avg:.5f})\\t'.format(\n",
    "                          epoch_idx+1, batch_idx,len(data_loader), n_epochs , batch_time=batch_time,\n",
    "                          speed=x.size(0)/batch_time.val,\n",
    "                          data_time=data_time, train_loss=train_losses)\n",
    "                print(msg)\n",
    "        \n",
    "        if is_wandb:\n",
    "            wandb.log({\"batch_loss\": loss.data.item()})\n",
    "    \n",
    "    \n",
    "    if is_wandb:\n",
    "            wandb.log({\"train_epoch_loss\": train_losses.avg})\n",
    "            wandb.log({\"training time/Iter\": batch_time.sum/len(data_loader)})\n",
    "    \n",
    "    \n",
    "    # print(f\"Evaluation   Epoch : {epoch_idx+1}  =====================>\")\n",
    "    if is_verbose:\n",
    "        print(f\"Training Epoch Loss: {train_losses.avg}\")\n",
    "    return train_losses.avg\n",
    "        \n",
    "        \n",
    "def validate(encoder,decoder,data_loader,is_wandb=False,is_verbose = False):\n",
    "    encoder.eval()\n",
    "    decoder.eval()\n",
    "    \n",
    "    val_losses = AverageMeter()\n",
    "    \n",
    "    \n",
    "    with torch.no_grad():\n",
    "        for batch_idx, (x,m,_,_ ) in enumerate(data_loader): \n",
    "            c_hat = encoder(x)\n",
    "            x_hat = decoder(c_hat)\n",
    "\n",
    "            loss = recon_loss_binned(x_hat[0]*m,(x[0].argmax(1).unsqueeze(1)*m).squeeze().type(torch.cuda.LongTensor))\n",
    "            loss += recon_loss_binned(x_hat[1]*m,(x[1].argmax(1).unsqueeze(1)*m).squeeze().type(torch.cuda.LongTensor))\n",
    "            loss += recon_loss_binned(x_hat[2]*m,(x[2].argmax(1).unsqueeze(1)*m).squeeze().type(torch.cuda.LongTensor))\n",
    "            loss += recon_loss_binned(x_hat[3]*m,(x[3].argmax(1).unsqueeze(1)*m).squeeze().type(torch.cuda.LongTensor))\n",
    "        \n",
    "            val_losses.update(loss.data.item())\n",
    "            \n",
    "            \n",
    "    x,mask,sse,ref_len   = next(iter(data_loader))\n",
    "    with torch.no_grad():\n",
    "        c_hat = encoder(x)\n",
    "        x_hat = decoder(c_hat)\n",
    "    # print(dist_ref.shape,mask.shape,sse.shape,ref_len) \n",
    "    # ind = 0\n",
    "    img_list = [x[0][1].argmax(0).squeeze().detach().cpu().numpy(),\n",
    "                x[1][1].argmax(0).squeeze().detach().cpu().numpy(),\n",
    "                x[2][1].argmax(0).squeeze().detach().cpu().numpy(),\n",
    "                x[3][1].argmax(0).squeeze().detach().cpu().numpy(),\n",
    "                x_hat[0][1].argmax(0).squeeze().detach().cpu().numpy(),\n",
    "                x_hat[1][1].argmax(0).squeeze().detach().cpu().numpy(),\n",
    "                x_hat[2][1].argmax(0).squeeze().detach().cpu().numpy(),\n",
    "                x_hat[3][1].argmax(0).squeeze().detach().cpu().numpy(),\n",
    "                x[0][2].argmax(0).squeeze().detach().cpu().numpy(),\n",
    "                x[1][2].argmax(0).squeeze().detach().cpu().numpy(),\n",
    "                x[2][2].argmax(0).squeeze().detach().cpu().numpy(),\n",
    "                x[3][2].argmax(0).squeeze().detach().cpu().numpy(),\n",
    "                x_hat[0][2].argmax(0).squeeze().detach().cpu().numpy(),\n",
    "                x_hat[1][2].argmax(0).squeeze().detach().cpu().numpy(),\n",
    "                x_hat[2][2].argmax(0).squeeze().detach().cpu().numpy(),\n",
    "                x_hat[3][2].argmax(0).squeeze().detach().cpu().numpy(),\n",
    "                ]\n",
    "                \n",
    "    title_list = ['dist_ref','omega_ref','theta_ref','phi_ref',\n",
    "                  'Pred_dist','Pred_omega','Pred_theta','Pred_phi',\n",
    "                  'dist_ref','omega_ref','theta_ref','phi_ref',\n",
    "                  'Pred_dist','Pred_omega','Pred_theta','Pred_phi']\n",
    "    fig = plot_sub_plots(4,4,img_list,title_list,cmap = 'inferno')\n",
    "    if is_wandb:\n",
    "            wandb.log({\"examples\": wandb.Image(fig)})\n",
    "            \n",
    "    if is_wandb:\n",
    "            wandb.log({\"val_epoch_loss\": val_losses.avg})\n",
    "    \n",
    "    \n",
    "    # print(f\"Evaluation   Epoch : {epoch_idx+1}  =====================>\")\n",
    "    if is_verbose:\n",
    "        print(f\"Val Epoch Loss: {val_losses.avg}\")\n",
    "    return val_losses.avg"
   ]
  },
  {
   "cell_type": "code",
   "execution_count": 22,
   "id": "f5a52cfb-cbbb-4882-af95-fcb2beb23602",
   "metadata": {},
   "outputs": [],
   "source": [
    "# exp_path = \"./model_checkpoints/autoencoder_MNIST/\"\n",
    "# if not os.path.exists(exp_path):\n",
    "#     os.mkdir(exp_path)"
   ]
  },
  {
   "cell_type": "code",
   "execution_count": null,
   "id": "a31c393e-c8f2-4d5b-b5cf-3bc1616bdaef",
   "metadata": {},
   "outputs": [
    {
     "name": "stdout",
     "output_type": "stream",
     "text": [
      "Training ====================="
     ]
    },
    {
     "name": "stderr",
     "output_type": "stream",
     "text": [
      "/opt/tljh/user/lib/python3.7/site-packages/ipykernel_launcher.py:2: RuntimeWarning: More than 20 figures have been opened. Figures created through the pyplot interface (`matplotlib.pyplot.figure`) are retained until explicitly closed and may consume too much memory. (To control this warning, see the rcParam `figure.max_open_warning`).\n",
      "  \n"
     ]
    },
    {
     "name": "stdout",
     "output_type": "stream",
     "text": [
      "================================================"
     ]
    }
   ],
   "source": [
    "val_best_loss = 10000000\n",
    "train_loss_list = []\n",
    "val_loss_list = []\n",
    "\n",
    "# if not os.path.exists(exp_path):\n",
    "#     os.mkdir(exp_path)\n",
    "print(\"Training \", end='')\n",
    "for epoch_idx in range(n_epochs):\n",
    "    print('=', end='')\n",
    "    # print(f\"Training Epoch : [{epoch_idx+1}/{n_epochs}]===============================================================================\")\n",
    "    \n",
    "    train_loss = train(encoder,decoder,opt,train_data_loader,is_wandb=is_wandb)    \n",
    "    val_losses = validate(encoder,decoder,val_data_loader,is_wandb=is_wandb) \n",
    "\n",
    "    train_loss_list.append(train_loss)\n",
    "    val_loss_list.append(val_losses)\n",
    "    if (val_losses < val_best_loss): \n",
    "        val_best_loss = val_losses\n",
    "        # print(\"Saving Best Model =======================================>\")\n",
    "        torch.save(encoder, f'{exp_path}/encoder_dist.pth.tar')\n",
    "        torch.save(decoder, f'{exp_path}/decoder_dist.pth.tar')\n",
    "    \n",
    "    \n",
    "plt.figure()\n",
    "plt.plot(train_loss_list)\n",
    "plt.title(\"Train Loss\")\n",
    "\n",
    "plt.figure()\n",
    "plt.plot(val_loss_list)\n",
    "plt.title(\"Val Loss\")"
   ]
  },
  {
   "cell_type": "markdown",
   "id": "fe4efe74-ef3f-4354-986d-af766268efad",
   "metadata": {},
   "source": [
    "## Latent Space Visualization"
   ]
  },
  {
   "cell_type": "code",
   "execution_count": null,
   "id": "b1568024-8c87-45f0-b055-b35f96558419",
   "metadata": {},
   "outputs": [],
   "source": [
    "from sklearn.manifold import TSNE"
   ]
  },
  {
   "cell_type": "code",
   "execution_count": null,
   "id": "b329026b-a0a9-4ccf-9455-af95f6c6cce7",
   "metadata": {},
   "outputs": [],
   "source": [
    "enc_path = f'{exp_path}/encoder_2.pth.tar'\n",
    "encoder = torch.load(enc_path).to(device)\n",
    "encoder.eval()\n",
    "print(sum([np.prod(p.size()) for p in encoder.parameters()]))"
   ]
  },
  {
   "cell_type": "code",
   "execution_count": null,
   "id": "151848d9-d42f-4de6-9cc3-8d8ea782ad8c",
   "metadata": {},
   "outputs": [],
   "source": [
    "dec_path = f'{exp_path}/decoder_2.pth.tar'\n",
    "decoder = torch.load(dec_path).to(device)\n",
    "decoder.eval()\n",
    "print(sum([np.prod(p.size()) for p in decoder.parameters()]))"
   ]
  },
  {
   "cell_type": "code",
   "execution_count": null,
   "id": "0e2bd538-c48a-44f7-a2d6-1b7f83eb0cd6",
   "metadata": {},
   "outputs": [],
   "source": [
    "def plot_sub_plots(rows,columns,img_list,title_list,cmap = 'inferno'):\n",
    "    fig, axs = plt.subplots(rows, columns, figsize = (columns*10,rows*10))\n",
    "    if rows == 1:\n",
    "        for i in range(len(img_list)):\n",
    "            im1 = axs[i].imshow(img_list[i],cmap=cmap)\n",
    "            axs[i].set_title(f\"{title_list[i]}\")\n",
    "            plt.colorbar(im1, ax=axs[i])#,shrink = 0.3\n",
    "    else:\n",
    "        for i in range(len(img_list)):\n",
    "            im1 = axs[i//columns][i%columns].imshow(img_list[i],cmap=cmap)\n",
    "            axs[i//columns][i%columns].set_title(f\"{title_list[i]}\")\n",
    "            plt.colorbar(im1, ax=axs[i//columns][i%columns])#,shrink = 0.3)\n",
    "    plt.show()\n",
    "    # return fig\n",
    "\n",
    "for batch_idx, (x,label) in enumerate(val_data_loader): \n",
    "    c_hat = encoder(x.to(device))\n",
    "    x_hat = decoder(c_hat)\n",
    "    break\n",
    "    \n",
    "    \n",
    "plot_sub_plots(1,2,[x[2].detach().squeeze().cpu().numpy(),x_hat[2].detach().squeeze().cpu().numpy()],['GT','Gen'])"
   ]
  },
  {
   "cell_type": "code",
   "execution_count": null,
   "id": "6597db7e-9b07-4d6f-af87-31ef7e4355ba",
   "metadata": {},
   "outputs": [],
   "source": [
    "for batch_idx, (x,label) in enumerate(val_data_loader): \n",
    "    c_hat = encoder(x.to(device))\n",
    "    if batch_idx==0:\n",
    "        features = c_hat\n",
    "        label_list = label\n",
    "    else:\n",
    "        features = torch.cat((features,c_hat),axis = 0)\n",
    "        label_list = torch.cat((label_list,label),axis = 0)\n",
    "print(features.shape,label_list.shape)\n",
    "\n",
    "features = features.flatten(start_dim = 1).detach().cpu().numpy()\n",
    "label_list = label_list.detach().cpu().numpy()"
   ]
  },
  {
   "cell_type": "code",
   "execution_count": null,
   "id": "4b457fa5-4b24-4279-9d3b-b332770de89e",
   "metadata": {},
   "outputs": [],
   "source": [
    "tsne = TSNE(random_state = 42, n_components=2,verbose=0, perplexity=40, n_iter=300).fit_transform(features)"
   ]
  },
  {
   "cell_type": "code",
   "execution_count": null,
   "id": "26ee60ae-1413-4ead-a10c-5d458f2b1a5b",
   "metadata": {},
   "outputs": [],
   "source": [
    "plt.figure(figsize = (20,20))\n",
    "plt.scatter(tsne[:, 0], tsne[:, 1], s= 5, c=label_list, cmap='Spectral')\n",
    "plt.gca().set_aspect('equal', 'datalim')\n",
    "plt.colorbar(boundaries=np.arange(11)-0.5).set_ticks(np.arange(10))\n",
    "plt.title('Visualizing MNIST latent space through t-SNE', fontsize=24);"
   ]
  },
  {
   "cell_type": "code",
   "execution_count": null,
   "id": "92b233f8-2b17-4934-a30c-c0f68df90c91",
   "metadata": {},
   "outputs": [],
   "source": []
  }
 ],
 "metadata": {
  "kernelspec": {
   "display_name": "Python 3 (ipykernel)",
   "language": "python",
   "name": "python3"
  },
  "language_info": {
   "codemirror_mode": {
    "name": "ipython",
    "version": 3
   },
   "file_extension": ".py",
   "mimetype": "text/x-python",
   "name": "python",
   "nbconvert_exporter": "python",
   "pygments_lexer": "ipython3",
   "version": "3.7.11"
  }
 },
 "nbformat": 4,
 "nbformat_minor": 5
}
