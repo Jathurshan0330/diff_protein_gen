{
 "cells": [
  {
   "cell_type": "code",
   "execution_count": 1,
   "id": "f8094e0c-ff04-4fb0-8d81-84c248f47f5b",
   "metadata": {},
   "outputs": [
    {
     "name": "stdout",
     "output_type": "stream",
     "text": [
      "2 1 0\n"
     ]
    }
   ],
   "source": [
    "import os\n",
    "os.environ[\"CUDA_DEVICE_ORDER\"] = \"PCI_BUS_ID\"\n",
    "os.environ[\"CUDA_VISIBLE_DEVICES\"] = \"2\"\n",
    "import torch\n",
    "device = torch.device(\"cuda\" if torch.cuda.is_available() else \"cpu\")\n",
    "print(os.environ[\"CUDA_VISIBLE_DEVICES\"],torch.cuda.device_count(), torch.cuda.current_device())"
   ]
  },
  {
   "cell_type": "code",
   "execution_count": 2,
   "id": "1b6c8be6-f95d-4d49-89f7-5f9770665211",
   "metadata": {},
   "outputs": [
    {
     "name": "stdout",
     "output_type": "stream",
     "text": [
      "1.12.0+cu102\n"
     ]
    }
   ],
   "source": [
    "import os\n",
    "import torch\n",
    "import torch.nn as nn\n",
    "from matplotlib import pyplot as plt\n",
    "from tqdm import tqdm\n",
    "from torch import optim\n",
    "# from utils import *\n",
    "# from modules import UNet\n",
    "import logging\n",
    "from torch.utils.tensorboard import SummaryWriter\n",
    "\n",
    "import torch\n",
    "import torchvision\n",
    "from torchvision import transforms, datasets\n",
    "import torch.nn as nn\n",
    "from torch.nn import init\n",
    "import torch.nn.functional as F\n",
    "from torch import optim as optim\n",
    "from torch.utils.data import Dataset, DataLoader\n",
    "import numpy as np\n",
    "import matplotlib.pyplot as plt\n",
    "import glob\n",
    "import os\n",
    "from mpl_toolkits.axes_grid1 import make_axes_locatable\n",
    "import time\n",
    "import math\n",
    "from einops import rearrange, repeat\n",
    "from torch import nn, einsum\n",
    "from inspect import isfunction\n",
    "print(torch.__version__)\n",
    "torch.cuda.is_available()\n",
    "\n",
    "import h5py\n"
   ]
  },
  {
   "cell_type": "code",
   "execution_count": 42,
   "id": "4e256dc1-8ad0-41b7-9fbc-58bc72cdd62e",
   "metadata": {},
   "outputs": [],
   "source": [
    "class Diffusion:\n",
    "    def __init__(self, noise_steps=1000, beta_start=1e-4, beta_end=0.02, img_size=[32, 16, 16], device=\"cuda\"):\n",
    "        self.noise_steps = noise_steps\n",
    "        self.beta_start = beta_start\n",
    "        self.beta_end = beta_end\n",
    "        self.img_size = img_size\n",
    "        self.device = device\n",
    "\n",
    "        self.beta = self.prepare_noise_schedule().to(device)\n",
    "        self.alpha = 1. - self.beta\n",
    "        self.alpha_hat = torch.cumprod(self.alpha, dim=0)\n",
    "\n",
    "    def prepare_noise_schedule(self):\n",
    "        return torch.linspace(self.beta_start, self.beta_end, self.noise_steps)\n",
    "\n",
    "    def noise_images(self, x, t):\n",
    "        sqrt_alpha_hat = torch.sqrt(self.alpha_hat[t])[:, None, None, None]\n",
    "        sqrt_one_minus_alpha_hat = torch.sqrt(1 - self.alpha_hat[t])[:, None, None, None]\n",
    "        Ɛ = torch.randn_like(x)\n",
    "        return sqrt_alpha_hat * x + sqrt_one_minus_alpha_hat * Ɛ, Ɛ\n",
    "\n",
    "    def sample_timesteps(self, n):\n",
    "        return torch.randint(low=1, high=self.noise_steps, size=(n,))\n",
    "\n",
    "    # def sample(self, model, n):\n",
    "    #     logging.info(f\"Sampling {n} new images....\")\n",
    "    #     model.eval()\n",
    "    #     with torch.no_grad():\n",
    "    #         x = torch.randn((n, self.img_size[0], self.img_size[1],self.img_size[2])).to(self.device)\n",
    "    #         for i in tqdm(reversed(range(1, self.noise_steps)), position=0):\n",
    "    #             t = (torch.ones(n) * i).long().to(self.device)\n",
    "    #             predicted_noise = model(x, t)\n",
    "    #             alpha = self.alpha[t][:, None, None, None]\n",
    "    #             alpha_hat = self.alpha_hat[t][:, None, None, None]\n",
    "    #             beta = self.beta[t][:, None, None, None]\n",
    "    #             if i > 1:\n",
    "    #                 noise = torch.randn_like(x)\n",
    "    #             else:\n",
    "    #                 noise = torch.zeros_like(x)\n",
    "    #             x = 1 / torch.sqrt(alpha) * (x - ((1 - alpha) / (torch.sqrt(1 - alpha_hat))) * predicted_noise) + torch.sqrt(beta) * noise\n",
    "    #     model.train()\n",
    "    #     # x = (x.clamp(-1, 1) + 1) / 2\n",
    "    #     x = x.clamp(0, 1)\n",
    "    #     # x = (x * 255).type(torch.uint8)\n",
    "    #     return x\n",
    "    \n",
    "    def sample(self, model, n, labels, cfg_scale=0):\n",
    "        logging.info(f\"Sampling {n} new images....\")\n",
    "        model.eval()\n",
    "        with torch.no_grad():\n",
    "            x = torch.randn((n, self.img_size[0], self.img_size[1],self.img_size[2])).to(self.device)\n",
    "            for i in tqdm(reversed(range(1, self.noise_steps)), position=0):\n",
    "                t = (torch.ones(n) * i).long().to(self.device)\n",
    "                predicted_noise = model(x, t, labels)\n",
    "                if cfg_scale > 0:\n",
    "                    uncond_predicted_noise = model(x, t, None)\n",
    "                    predicted_noise = torch.lerp(uncond_predicted_noise, predicted_noise, cfg_scale)\n",
    "                alpha = self.alpha[t][:, None, None, None]\n",
    "                alpha_hat = self.alpha_hat[t][:, None, None, None]\n",
    "                beta = self.beta[t][:, None, None, None]\n",
    "                if i > 1:\n",
    "                    noise = torch.randn_like(x)\n",
    "                else:\n",
    "                    noise = torch.zeros_like(x)\n",
    "                x = 1 / torch.sqrt(alpha) * (x - ((1 - alpha) / (torch.sqrt(1 - alpha_hat))) * predicted_noise) + torch.sqrt(beta) * noise\n",
    "        model.train()\n",
    "        # x = (x.clamp(-1, 1) + 1) / 2\n",
    "        # x = (x * 255).type(torch.uint8)\n",
    "        # x = x.clamp(0, 1)\n",
    "        return x"
   ]
  },
  {
   "cell_type": "code",
   "execution_count": 5,
   "id": "e70221c9-1bd6-47c6-920c-9d630dd35254",
   "metadata": {},
   "outputs": [
    {
     "name": "stderr",
     "output_type": "stream",
     "text": [
      "Failed to detect the name of this notebook, you can set it manually with the WANDB_NOTEBOOK_NAME environment variable to enable code saving.\n",
      "\u001b[34m\u001b[1mwandb\u001b[0m: Currently logged in as: \u001b[33mjathurshan_0330\u001b[0m. Use \u001b[1m`wandb login --relogin`\u001b[0m to force relogin\n",
      "/usr/bin/nvidia-modprobe: unrecognized option: \"-s\"\n",
      "\n",
      "ERROR: Invalid commandline, please run `/usr/bin/nvidia-modprobe --help` for usage information.\n",
      "\n",
      "\n",
      "/usr/bin/nvidia-modprobe: unrecognized option: \"-s\"\n",
      "\n",
      "ERROR: Invalid commandline, please run `/usr/bin/nvidia-modprobe --help` for usage information.\n",
      "\n",
      "\n"
     ]
    },
    {
     "data": {
      "text/html": [
       "wandb version 0.13.10 is available!  To upgrade, please run:\n",
       " $ pip install wandb --upgrade"
      ],
      "text/plain": [
       "<IPython.core.display.HTML object>"
      ]
     },
     "metadata": {},
     "output_type": "display_data"
    },
    {
     "data": {
      "text/html": [
       "Tracking run with wandb version 0.13.1"
      ],
      "text/plain": [
       "<IPython.core.display.HTML object>"
      ]
     },
     "metadata": {},
     "output_type": "display_data"
    },
    {
     "data": {
      "text/html": [
       "Run data is saved locally in <code>/home/jupyter-jathurshan/diff_protein_gen/wandb/run-20230221_224105-3d1swpwp</code>"
      ],
      "text/plain": [
       "<IPython.core.display.HTML object>"
      ]
     },
     "metadata": {},
     "output_type": "display_data"
    },
    {
     "data": {
      "text/html": [
       "Syncing run <strong><a href=\"https://wandb.ai/jathurshan_0330/diff_protein_gen/runs/3d1swpwp\" target=\"_blank\">lunar-voice-26</a></strong> to <a href=\"https://wandb.ai/jathurshan_0330/diff_protein_gen\" target=\"_blank\">Weights & Biases</a> (<a href=\"https://wandb.me/run\" target=\"_blank\">docs</a>)<br/>"
      ],
      "text/plain": [
       "<IPython.core.display.HTML object>"
      ]
     },
     "metadata": {},
     "output_type": "display_data"
    },
    {
     "name": "stderr",
     "output_type": "stream",
     "text": [
      "\u001b[34m\u001b[1mwandb\u001b[0m: \u001b[33mWARNING\u001b[0m Calling wandb.run.save without any arguments is deprecated.Changes to attributes are automatically persisted.\n"
     ]
    }
   ],
   "source": [
    "is_wandb = True\n",
    "if is_wandb:\n",
    "    import wandb\n",
    "    wandb.init(project=\"diff_protein_gen\", entity=\"jathurshan_0330\")\n",
    "    wandb.run.name = \"CA_dist_ref_generation_conditioned_SSE_5000\"\n",
    "    wandb.run.save()\n",
    "    # \"Finetuning only classification head Ki67 using SIMCLR Pretrained Model\"\n",
    "    exp_path = f\"./model_checkpoints/{wandb.run.name}\"\n",
    "    if not os.path.exists(exp_path):\n",
    "        os.mkdir(exp_path)"
   ]
  },
  {
   "cell_type": "markdown",
   "id": "221b7ca6-6580-490b-b96d-175577ef6765",
   "metadata": {},
   "source": [
    "## Data Loading"
   ]
  },
  {
   "cell_type": "code",
   "execution_count": 43,
   "id": "6efbba38-3994-4839-adbc-a47bca4d786e",
   "metadata": {},
   "outputs": [
    {
     "name": "stdout",
     "output_type": "stream",
     "text": [
      "7555\n",
      "4918\n",
      "0.0 227.59543138843227\n"
     ]
    }
   ],
   "source": [
    "file_list = glob.glob(\"/home/jupyter-jathurshan/Protein_extracted_data/*.h5\")\n",
    "file_list.sort()\n",
    "print(len(file_list))\n",
    "\n",
    "\n",
    "new_list = []\n",
    "for i in file_list:\n",
    "    with h5py.File(i, \"r\") as f:\n",
    "            # dist_ref = np.array(f.get('dist_ref'))\n",
    "            sse = np.array(f.get('sse'))\n",
    "            # seq = np.array(f.get('seq'))\n",
    "            # mask = np.array(f.get('mask'))\n",
    "            f.close()\n",
    "    if len(sse.shape)!=0:\n",
    "        if sse.shape[-1]!=0:\n",
    "            new_list.append(i)\n",
    "print(len(new_list))#,error_list)\n",
    "\n",
    "\n",
    "c = 0\n",
    "max_value = 0\n",
    "min_value = 100000\n",
    "\n",
    "for i in new_list:\n",
    "    with h5py.File(i, \"r\") as f:\n",
    "            dist_ref = np.expand_dims(np.array(f.get('dist_ref')),axis=0)\n",
    "    if dist_ref.max()>max_value:\n",
    "        max_value = dist_ref.max()\n",
    "    if dist_ref.min()<min_value:\n",
    "        min_value = dist_ref.min()\n",
    "print(min_value,max_value)"
   ]
  },
  {
   "cell_type": "code",
   "execution_count": 44,
   "id": "75a4b351-d802-4643-8048-4644fb63e1bc",
   "metadata": {},
   "outputs": [
    {
     "name": "stdout",
     "output_type": "stream",
     "text": [
      "3934 492 492\n"
     ]
    }
   ],
   "source": [
    "#15051\n",
    "file_list = new_list#glob.glob(\"/home/jupyter-jathurshan/Protein_extracted_data/*.h5\")\n",
    "# file_list.sort()\n",
    "# print(len(file_list))\n",
    "\n",
    "train_file_list = file_list[:int(len(file_list)*0.8)]\n",
    "val_file_list = file_list[int(len(file_list)*0.8):int(len(file_list)*0.9)]\n",
    "test_file_list = file_list[int(len(file_list)*0.9):]\n",
    "\n",
    "print(len(train_file_list),len(val_file_list),len(test_file_list))"
   ]
  },
  {
   "cell_type": "code",
   "execution_count": 45,
   "id": "ae364b80-ae98-4de7-a512-08358d45df71",
   "metadata": {},
   "outputs": [],
   "source": [
    "def plot_sub_plots(rows,columns,img_list,title_list,cmap = 'inferno'):\n",
    "    fig, axs = plt.subplots(rows, columns, figsize = (columns*10,rows*10))\n",
    "    if rows == 1:\n",
    "        for i in range(len(img_list)):\n",
    "            im1 = axs[i].imshow(img_list[i],cmap=cmap)\n",
    "            axs[i].set_title(f\"{title_list[i]}\")\n",
    "            plt.colorbar(im1, ax=axs[i])#,shrink = 0.3\n",
    "    else:\n",
    "        for i in range(len(img_list)):\n",
    "            im1 = axs[i//columns][i%columns].imshow(img_list[i],cmap=cmap)\n",
    "            axs[i//columns][i%columns].set_title(f\"{title_list[i]}\")\n",
    "            plt.colorbar(im1, ax=axs[i//columns][i%columns])#,shrink = 0.3)\n",
    "    # plt.show()\n",
    "    return fig\n"
   ]
  },
  {
   "cell_type": "code",
   "execution_count": 46,
   "id": "73a90348-5a4d-48c3-a9d4-0634d06eaac1",
   "metadata": {},
   "outputs": [],
   "source": [
    "import h5py\n",
    "### Using Distant Ref\n",
    "class Protein_Dataset(Dataset):\n",
    "    def __init__(self,file_list, device,pro_len = 64):\n",
    "      \n",
    "        self.file_list = file_list\n",
    "        self.pro_len = pro_len\n",
    "        self.device = device\n",
    "        \n",
    "        self.device = device\n",
    "        \n",
    "        print(f\"Data_size : {len(self.file_list)}\") \n",
    "        \n",
    "    def __len__(self):\n",
    "        return len(self.file_list )\n",
    "\n",
    "    def __getitem__(self, idx):\n",
    "        \n",
    "        with h5py.File(self.file_list[idx], \"r\") as f:\n",
    "            dist_ref = np.array(f.get('dist_ref'))\n",
    "            dist_ref[np.isnan(dist_ref)] = 0\n",
    "            sse = np.array(f.get('sse'))\n",
    "            # seq = np.array(f.get('seq'))\n",
    "            mask = np.array(f.get('mask'))\n",
    "            f.close()\n",
    "        \n",
    "       \n",
    "        \n",
    "        dist_ref = torch.from_numpy(dist_ref).unsqueeze(0).clamp(max=50)\n",
    "        dist_ref =dist_ref/50\n",
    "        sse = torch.from_numpy(sse).unsqueeze(0).float()\n",
    "        # seq = np.array(f.get('seq'))\n",
    "        mask = torch.from_numpy(mask).squeeze().unsqueeze(0)\n",
    "        ref_len = dist_ref.shape[-1]\n",
    "        # print(self.file_list[idx],dist_ref.shape,sse.shape)\n",
    "        \n",
    "        # print(self.file_list[idx],dist_ref.shape,mask.shape,sse.shape)\n",
    "        \n",
    "#         if dist_ref.shape[-1]<self.pro_len:\n",
    "#             pad = ((self.pro_len-dist_ref.shape[-1])//2,(self.pro_len-dist_ref.shape[-1])//2,(self.pro_len-dist_ref.shape[-1])//2,(self.pro_len-dist_ref.shape[-1])//2)\n",
    "#             dist_ref =  F.pad(dist_ref, pad, mode='reflect')\n",
    "#             mask =  F.pad(mask, pad, mode='constant')\n",
    "            \n",
    "#             pad = ((self.pro_len-sse.shape[-1])//2,(self.pro_len-sse.shape[-1])//2)\n",
    "#             sse =  F.pad(sse, pad, mode='reflect')\n",
    "#         elif dist_ref.shape[-1]>self.pro_len:\n",
    "#             crop = transforms.CenterCrop(self.pro_len)\n",
    "#             dist_ref = crop(dist_ref)\n",
    "#             mask = crop(mask)\n",
    "#             crop = transforms.CenterCrop((3,self.pro_len))\n",
    "#             sse = crop(sse)\n",
    "         \n",
    "        if dist_ref.shape[-1]!=self.pro_len:\n",
    "            crop = transforms.CenterCrop(self.pro_len)\n",
    "            dist_ref = crop(dist_ref)\n",
    "            mask = crop(mask)\n",
    "            crop = transforms.CenterCrop((3,self.pro_len))\n",
    "            sse = crop(sse)\n",
    "           \n",
    "        \n",
    "#         \n",
    "        return dist_ref.to(self.device).float(), mask.to(self.device).float(), sse.to(self.device).float(),ref_len"
   ]
  },
  {
   "cell_type": "code",
   "execution_count": 47,
   "id": "672c935d-e085-4e56-8a15-ea4322806f39",
   "metadata": {},
   "outputs": [
    {
     "name": "stdout",
     "output_type": "stream",
     "text": [
      "Data_size : 3934\n",
      "Data_size : 492\n"
     ]
    }
   ],
   "source": [
    "train_dataset = Protein_Dataset(train_file_list, device = device) \n",
    "val_dataset = Protein_Dataset(val_file_list, device = device)"
   ]
  },
  {
   "cell_type": "code",
   "execution_count": 48,
   "id": "0b251823-566a-4012-b9d0-2598f3a2a950",
   "metadata": {},
   "outputs": [],
   "source": [
    "train_data_loader = torch.utils.data.DataLoader(train_dataset, batch_size=32, shuffle=True)\n",
    "val_data_loader = torch.utils.data.DataLoader(val_dataset, batch_size=32, shuffle=False)"
   ]
  },
  {
   "cell_type": "code",
   "execution_count": 49,
   "id": "396cf7a7-d4fe-41d0-898b-b5eb457bd7b0",
   "metadata": {},
   "outputs": [
    {
     "name": "stdout",
     "output_type": "stream",
     "text": [
      "torch.Size([32, 1, 64, 64]) torch.Size([32, 1, 64, 64]) torch.Size([32, 1, 3, 64]) tensor([103, 178, 190, 195, 339, 148, 376, 139, 131, 321, 196, 765, 372, 197,\n",
      "        199, 480, 211, 200, 171, 123, 189, 150, 171, 255, 516, 138, 365, 221,\n",
      "        490, 232, 498, 380])\n",
      "\n"
     ]
    },
    {
     "data": {
      "image/png": "[encoded data removed]",
      "text/plain": [
       "<Figure size 2160x720 with 6 Axes>"
      ]
     },
     "metadata": {
      "needs_background": "light"
     },
     "output_type": "display_data"
    }
   ],
   "source": [
    "dist_ref,mask,sse,ref_len   = next(iter(train_data_loader))\n",
    "\n",
    "print(dist_ref.shape,mask.shape,sse.shape,ref_len) \n",
    "ind = 0\n",
    "img_list = [dist_ref[ind].squeeze().detach().cpu().numpy(),\n",
    "           mask[ind].squeeze().detach().cpu().numpy(),\n",
    "           sse[ind].squeeze().detach().cpu().numpy(),\n",
    "           ]\n",
    "\n",
    "title_list = ['dist_ref','Mask','sse']\n",
    "plot_sub_plots(1,3,img_list,title_list,cmap = 'inferno')\n",
    "print('')"
   ]
  },
  {
   "cell_type": "markdown",
   "id": "f1595d6c-e2eb-4964-8fc0-830b2f88e371",
   "metadata": {},
   "source": [
    "## Autoencoder Model"
   ]
  },
  {
   "cell_type": "code",
   "execution_count": 50,
   "id": "e1672a25-3732-4fed-8a7d-6e750afce067",
   "metadata": {},
   "outputs": [],
   "source": [
    "class CNN_Encoder(nn.Module):\n",
    "    \n",
    "    def __init__(self, input_nc=1, ngf = 16):\n",
    "        super(CNN_Encoder, self).__init__()\n",
    "        self.enc1 = self.enc_block(in_ch = input_nc, out_ch = ngf, kernel_size=4, stride=2, padding = 1,bias = True, innermost = False  )\n",
    "        self.enc2 = self.enc_block(in_ch = ngf, out_ch = ngf*2, kernel_size=4, stride=2, padding = 1,bias = True, innermost = False  )\n",
    "        # self.enc3 = self.enc_block(in_ch = ngf*2, out_ch = ngf*4, kernel_size=4, stride=2, padding = 1,bias = True, innermost = False  )\n",
    "        # self.enc4 = self.enc_block(in_ch = ngf*4, out_ch = ngf*8, kernel_size=4, stride=2, padding = 1,bias = True, innermost = False  )\n",
    "        # self.enc5 = self.enc_block(in_ch = ngf*8, out_ch = ngf*16, kernel_size=4, stride=2, padding = 1,bias = True, innermost = False  )\n",
    "        \n",
    "        \n",
    "    def enc_block(self, in_ch, out_ch, kernel_size=4, stride=2, padding = 1,bias = True, innermost = False):\n",
    "            return nn.Sequential(\n",
    "                nn.Conv2d(in_ch, out_ch, kernel_size=kernel_size,stride=stride, padding=padding, bias=bias),\n",
    "                # nn.ReLU()\n",
    "                )\n",
    "      \n",
    "            \n",
    "    def forward(self, x):\n",
    "        x = self.enc1(x)\n",
    "        x = self.enc2(x)\n",
    "        # x = self.enc3(x)\n",
    "        # x = self.enc4(x)\n",
    "        # x = self.enc5(x)\n",
    "        return x\n",
    "    \n",
    "\n",
    "class CNN_Decoder(nn.Module):\n",
    "    \n",
    "    def __init__(self, lat_chan=128,out_ch = 1, ngf = 16 ):\n",
    "        super(CNN_Decoder, self).__init__()\n",
    "        self.dec1 = self.conv_up_block(in_ch = lat_chan , out_ch = ngf*8, \n",
    "                                       kernel_size=4, stride=2, padding = 1,bias = True)\n",
    "        self.dec2 = self.conv_up_block(in_ch = ngf*8 , out_ch = 1, \n",
    "                                       kernel_size=4, stride=2, padding = 1,bias = True)\n",
    "        # self.dec3 = self.conv_up_block(in_ch = ngf*4 , out_ch = ngf*2, \n",
    "        #                                kernel_size=4, stride=2, padding = 1,bias = True)\n",
    "        # self.dec4 = self.conv_up_block(in_ch = ngf*2 , out_ch = 1, \n",
    "        #                                kernel_size=4, stride=2, padding = 1,bias = True)\n",
    "        # self.dec5 = self.conv_up_block(in_ch = ngf , out_ch = 1, \n",
    "                                       # kernel_size=4, stride=2, padding = 1,bias = True)\n",
    "        # self.final = nn.Linear(16,out_ch)\n",
    "        \n",
    "        \n",
    "    def conv_up_block(self,  in_ch, out_ch, kernel_size=4, stride=2, padding = 1,bias = True,outermost = False):\n",
    "            return nn.Sequential(\n",
    "                nn.ConvTranspose2d( in_ch, out_ch, kernel_size=kernel_size, stride=stride, padding = padding,bias = bias),\n",
    "                # nn.ReLU()\n",
    "                )\n",
    "        \n",
    "    def forward(self,x): \n",
    "        x = self.dec1(x)\n",
    "        \n",
    "        x = self.dec2(x)\n",
    "        \n",
    "        \n",
    "#         x = self.dec3(x)\n",
    "        \n",
    "#         x = self.dec4(x)\n",
    "        # x = self.dec5(x)\n",
    "        # x = self.final(x)\n",
    "        # x = torch.moveaxis(x,-1,1)\n",
    "        return x"
   ]
  },
  {
   "cell_type": "code",
   "execution_count": 51,
   "id": "58a1c9a0-6218-4535-8a18-974c4e40d09d",
   "metadata": {},
   "outputs": [
    {
     "name": "stdout",
     "output_type": "stream",
     "text": [
      "8496\n",
      "67713\n"
     ]
    }
   ],
   "source": [
    "enc_path = f'./model_checkpoints/Autoencoder Training Using Distoref/encoder_dist.pth.tar'\n",
    "encoder = torch.load(enc_path).to(device)#CNN_Encoder(ngf = 16).to(device)#torch.load(enc_path).to(device)\n",
    "encoder.eval()\n",
    "print(sum([np.prod(p.size()) for p in encoder.parameters()]))\n",
    "\n",
    "dec_path = f'./model_checkpoints/Autoencoder Training Using Distoref/decoder_dist.pth.tar'\n",
    "decoder = torch.load(dec_path).to(device)#CNN_Decoder(lat_chan=32).to(device)#torch.load(dec_path).to(device)\n",
    "decoder.eval()\n",
    "print(sum([np.prod(p.size()) for p in decoder.parameters()]))"
   ]
  },
  {
   "cell_type": "markdown",
   "id": "622b341e-63eb-4777-969d-3586f3974058",
   "metadata": {
    "tags": []
   },
   "source": [
    "## Encoder for SSE"
   ]
  },
  {
   "cell_type": "code",
   "execution_count": 52,
   "id": "83b10adb-8347-49a6-b38f-f423453f62c9",
   "metadata": {},
   "outputs": [],
   "source": [
    "class CNN_1D_Encoder(nn.Module):\n",
    "    \n",
    "    def __init__(self, input_nc=3, ngf = 16):\n",
    "        super(CNN_1D_Encoder, self).__init__()\n",
    "        self.enc1 = self.enc_block(in_ch = input_nc, out_ch = ngf, kernel_size=4, stride=2, padding = 1,bias = True, innermost = False  )\n",
    "        self.enc2 = self.enc_block(in_ch = ngf, out_ch = ngf*2, kernel_size=4, stride=2, padding = 1,bias = True, innermost = False  )\n",
    "        self.enc3 = self.enc_block(in_ch = ngf*2, out_ch = ngf*4, kernel_size=4, stride=2, padding = 1,bias = True, innermost = False  )\n",
    "        self.enc4 = self.enc_block(in_ch = ngf*4, out_ch = ngf*8, kernel_size=4, stride=2, padding = 1,bias = True, innermost = False  )\n",
    "        self.enc5 = self.enc_block(in_ch = ngf*8, out_ch = ngf*16, kernel_size=4, stride=2, padding = 1,bias = True, innermost = False  )\n",
    "        self.enc6 = self.enc_block(in_ch = ngf*16, out_ch = ngf*32, kernel_size=4, stride=2, padding = 1,bias = True, innermost = False  )\n",
    "\n",
    "        \n",
    "    def enc_block(self, in_ch, out_ch, kernel_size=4, stride=2, padding = 1,bias = True, innermost = False):\n",
    "            return nn.Sequential(\n",
    "                nn.Conv1d(in_ch, out_ch, kernel_size=kernel_size,stride=stride, padding=padding, bias=bias),\n",
    "                # nn.ReLU()\n",
    "                )\n",
    "      \n",
    "            \n",
    "    def forward(self, x):\n",
    "        x = self.enc1(x)\n",
    "        x = self.enc2(x)\n",
    "        x = self.enc3(x)\n",
    "        x = self.enc4(x)\n",
    "        x = self.enc5(x)\n",
    "        x = self.enc6(x)\n",
    "        return x\n",
    "    \n",
    "\n"
   ]
  },
  {
   "cell_type": "code",
   "execution_count": 53,
   "id": "4a740706-4094-44ac-bff9-897e796f7125",
   "metadata": {},
   "outputs": [
    {
     "name": "stdout",
     "output_type": "stream",
     "text": [
      "8496\n"
     ]
    }
   ],
   "source": [
    "enc_sse_path = f'./model_checkpoints/Autoencoder Training Using SSE/encoder_sse.pth.tar'\n",
    "encoder_sse = torch.load(enc_sse_path).to(device)#CNN_Encoder(ngf = 16).to(device)#torch.load(enc_path).to(device)\n",
    "encoder_sse.eval()\n",
    "print(sum([np.prod(p.size()) for p in encoder.parameters()]))"
   ]
  },
  {
   "cell_type": "markdown",
   "id": "4ceda76a-cd41-4fab-bf3a-c436e39b7456",
   "metadata": {},
   "source": [
    "## UNet"
   ]
  },
  {
   "cell_type": "code",
   "execution_count": 54,
   "id": "b70d752f-24dc-409b-bf0b-902eb0f42d0b",
   "metadata": {},
   "outputs": [],
   "source": [
    "class EMA:\n",
    "    def __init__(self, beta):\n",
    "        super().__init__()\n",
    "        self.beta = beta\n",
    "        self.step = 0\n",
    "\n",
    "    def update_model_average(self, ma_model, current_model):\n",
    "        for current_params, ma_params in zip(current_model.parameters(), ma_model.parameters()):\n",
    "            old_weight, up_weight = ma_params.data, current_params.data\n",
    "            ma_params.data = self.update_average(old_weight, up_weight)\n",
    "\n",
    "    def update_average(self, old, new):\n",
    "        if old is None:\n",
    "            return new\n",
    "        return old * self.beta + (1 - self.beta) * new\n",
    "\n",
    "    def step_ema(self, ema_model, model, step_start_ema=2000):\n",
    "        if self.step < step_start_ema:\n",
    "            self.reset_parameters(ema_model, model)\n",
    "            self.step += 1\n",
    "            return\n",
    "        self.update_model_average(ema_model, model)\n",
    "        self.step += 1\n",
    "\n",
    "    def reset_parameters(self, ema_model, model):\n",
    "        ema_model.load_state_dict(model.state_dict())\n",
    "\n",
    "\n",
    "class SelfAttention(nn.Module):\n",
    "    def __init__(self, channels, size):\n",
    "        super(SelfAttention, self).__init__()\n",
    "        self.channels = channels\n",
    "        self.size = size\n",
    "        self.mha = nn.MultiheadAttention(channels, 4, batch_first=True)\n",
    "        self.ln = nn.LayerNorm([channels])\n",
    "        self.ff_self = nn.Sequential(\n",
    "            nn.LayerNorm([channels]),\n",
    "            nn.Linear(channels, channels),\n",
    "            nn.GELU(),\n",
    "            nn.Linear(channels, channels),\n",
    "        )\n",
    "\n",
    "    def forward(self, x,label):\n",
    "        # label = label.view(-1, self.channels, self.size * self.size).swapaxes(1, 2)\n",
    "        x = x.view(-1, self.channels, self.size * self.size).swapaxes(1, 2)\n",
    "        x_ln = self.ln(x)\n",
    "        print(x_ln.shape,label.shape)\n",
    "        # attention_value, _ = self.mha(x_ln, x_ln, x_ln)\n",
    "        attention_value, _ = self.mha(x_ln, label, x_ln)\n",
    "        attention_value = attention_value + x\n",
    "        attention_value = self.ff_self(attention_value) + attention_value\n",
    "        return attention_value.swapaxes(2, 1).view(-1, self.channels, self.size, self.size)\n",
    "\n",
    "\n",
    "#Crosss\n",
    "def default(val, d):\n",
    "    if exists(val):\n",
    "        return val\n",
    "    return d() if isfunction(d) else d\n",
    "\n",
    "def exists(val):\n",
    "    return val is not None\n",
    "\n",
    "class CrossAttention(nn.Module):\n",
    "    def __init__(self, query_dim, context_dim=None, heads=8, dim_head=64, dropout=0.):\n",
    "        super().__init__()\n",
    "        inner_dim = dim_head * heads\n",
    "        context_dim = default(context_dim, query_dim)\n",
    "\n",
    "        self.scale = dim_head ** -0.5\n",
    "        self.heads = heads\n",
    "\n",
    "        self.to_q = nn.Linear(query_dim, inner_dim, bias=False)\n",
    "        self.to_k = nn.Linear(context_dim, inner_dim, bias=False)\n",
    "        self.to_v = nn.Linear(context_dim, inner_dim, bias=False)\n",
    "\n",
    "        self.to_out = nn.Sequential(\n",
    "            nn.Linear(inner_dim, query_dim),\n",
    "            nn.Dropout(dropout)\n",
    "        )\n",
    "\n",
    "    def forward(self, x, context=None, mask=None):\n",
    "        h = self.heads\n",
    "        \n",
    "        q = self.to_q(x)\n",
    "        context = default(context, x)\n",
    "        k = self.to_k(context)\n",
    "        v = self.to_v(context)\n",
    "\n",
    "        q, k, v = map(lambda t: rearrange(t, 'b n (h d) -> (b h) n d', h=h), (q, k, v))\n",
    "\n",
    "        sim = einsum('b i d, b j d -> b i j', q, k) * self.scale\n",
    "\n",
    "        if exists(mask):\n",
    "            mask = rearrange(mask, 'b ... -> b (...)')\n",
    "            max_neg_value = -torch.finfo(sim.dtype).max\n",
    "            mask = repeat(mask, 'b j -> (b h) () j', h=h)\n",
    "            sim.masked_fill_(~mask, max_neg_value)\n",
    "\n",
    "        # attention, what we cannot get enough of\n",
    "        attn = sim.softmax(dim=-1)\n",
    "\n",
    "        out = einsum('b i j, b j d -> b i d', attn, v)\n",
    "        out = rearrange(out, '(b h) n d -> b n (h d)', h=h)\n",
    "        return self.to_out(out)\n",
    "\n",
    "class DoubleConv(nn.Module):\n",
    "    def __init__(self, in_channels, out_channels, mid_channels=None, residual=False):\n",
    "        super().__init__()\n",
    "        self.residual = residual\n",
    "        if not mid_channels:\n",
    "            mid_channels = out_channels\n",
    "        self.double_conv = nn.Sequential(\n",
    "            nn.Conv2d(in_channels, mid_channels, kernel_size=3, padding=1, bias=False),\n",
    "            nn.GroupNorm(1, mid_channels),\n",
    "            nn.GELU(),\n",
    "            nn.Conv2d(mid_channels, out_channels, kernel_size=3, padding=1, bias=False),\n",
    "            nn.GroupNorm(1, out_channels),\n",
    "        )\n",
    "\n",
    "    def forward(self, x):\n",
    "        if self.residual:\n",
    "            return F.gelu(x + self.double_conv(x))\n",
    "        else:\n",
    "            return self.double_conv(x)\n",
    "\n",
    "\n",
    "class Down(nn.Module):\n",
    "    def __init__(self, in_channels, out_channels, emb_dim=256):\n",
    "        super().__init__()\n",
    "        self.maxpool_conv = nn.Sequential(\n",
    "            nn.MaxPool2d(2),\n",
    "            DoubleConv(in_channels, in_channels, residual=True),\n",
    "            DoubleConv(in_channels, out_channels),\n",
    "        )\n",
    "\n",
    "        self.emb_layer = nn.Sequential(\n",
    "            nn.SiLU(),\n",
    "            nn.Linear(\n",
    "                emb_dim,\n",
    "                out_channels\n",
    "            ),\n",
    "        )\n",
    "\n",
    "    def forward(self, x, t):\n",
    "        x = self.maxpool_conv(x)\n",
    "        emb = self.emb_layer(t)[:, :, None, None].repeat(1, 1, x.shape[-2], x.shape[-1])\n",
    "        return x + emb\n",
    "\n",
    "\n",
    "class Up(nn.Module):\n",
    "    def __init__(self, in_channels, out_channels, emb_dim=256):\n",
    "        super().__init__()\n",
    "\n",
    "        self.up = nn.Upsample(scale_factor=2, mode=\"bilinear\", align_corners=True)\n",
    "        self.conv = nn.Sequential(\n",
    "            DoubleConv(in_channels, in_channels, residual=True),\n",
    "            DoubleConv(in_channels, out_channels, in_channels // 2),\n",
    "        )\n",
    "\n",
    "        self.emb_layer = nn.Sequential(\n",
    "            nn.SiLU(),\n",
    "            nn.Linear(\n",
    "                emb_dim,\n",
    "                out_channels\n",
    "            ),\n",
    "        )\n",
    "\n",
    "    def forward(self, x, skip_x, t):\n",
    "        x = self.up(x)\n",
    "        x = torch.cat([skip_x, x], dim=1)\n",
    "        x = self.conv(x)\n",
    "        emb = self.emb_layer(t)[:, :, None, None].repeat(1, 1, x.shape[-2], x.shape[-1])\n",
    "        return x + emb\n",
    "\n",
    "\n",
    "# class UNet(nn.Module):\n",
    "#     def __init__(self, c_in=3, c_out=3, time_dim=256, device=\"cuda\"):\n",
    "#         super().__init__()\n",
    "#         self.device = device\n",
    "#         self.time_dim = time_dim\n",
    "#         self.inc = DoubleConv(c_in, 64)\n",
    "#         self.down1 = Down(64, 128)\n",
    "#         self.sa1 = SelfAttention(128, 4)\n",
    "#         self.down2 = Down(128, 256)\n",
    "#         self.sa2 = SelfAttention(256, 2)\n",
    "#         self.down3 = Down(256, 256)\n",
    "#         self.sa3 = SelfAttention(256, 1)\n",
    "\n",
    "#         self.bot1 = DoubleConv(256, 512)\n",
    "#         self.bot2 = DoubleConv(512, 512)\n",
    "#         self.bot3 = DoubleConv(512, 256)\n",
    "\n",
    "#         self.up1 = Up(512, 128)\n",
    "#         self.sa4 = SelfAttention(128, 2)\n",
    "#         self.up2 = Up(256, 64)\n",
    "#         self.sa5 = SelfAttention(64, 4)\n",
    "#         self.up3 = Up(128, 64)\n",
    "#         self.sa6 = SelfAttention(64, 8)\n",
    "#         self.outc = nn.Conv2d(64, c_out, kernel_size=1)\n",
    "\n",
    "#     def pos_encoding(self, t, channels):\n",
    "#         inv_freq = 1.0 / (\n",
    "#             10000\n",
    "#             ** (torch.arange(0, channels, 2, device=self.device).float() / channels)\n",
    "#         )\n",
    "#         pos_enc_a = torch.sin(t.repeat(1, channels // 2) * inv_freq)\n",
    "#         pos_enc_b = torch.cos(t.repeat(1, channels // 2) * inv_freq)\n",
    "#         pos_enc = torch.cat([pos_enc_a, pos_enc_b], dim=-1)\n",
    "#         return pos_enc\n",
    "\n",
    "#     def forward(self, x, t):\n",
    "#         t = t.unsqueeze(-1).type(torch.float)\n",
    "#         t = self.pos_encoding(t, self.time_dim)\n",
    "\n",
    "#         x1 = self.inc(x)\n",
    "#         x2 = self.down1(x1, t)\n",
    "#         # print(f\"x2: {x2.shape}\")\n",
    "#         x2 = self.sa1(x2)\n",
    "#         x3 = self.down2(x2, t)\n",
    "#         # print(f\"x3: {x3.shape}\")\n",
    "#         x3 = self.sa2(x3)\n",
    "#         x4 = self.down3(x3, t)\n",
    "#         # print(f\"x4: {x4.shape}\")\n",
    "#         x4 = self.sa3(x4)\n",
    "        \n",
    "#         # print(f\"x4: {x4.shape}\")\n",
    "#         x4 = self.bot1(x4)\n",
    "#         x4 = self.bot2(x4)\n",
    "#         x4 = self.bot3(x4)\n",
    "        \n",
    "#         # print(f\"x4: {x4.shape}\")\n",
    "#         x = self.up1(x4, x3, t)\n",
    "#         # print(f\"x: {x.shape}\")\n",
    "#         x = self.sa4(x)\n",
    "#         # print(f\"x: {x.shape}\")\n",
    "#         x = self.up2(x, x2, t)\n",
    "#         x = self.sa5(x)\n",
    "#         x = self.up3(x, x1, t)\n",
    "#         x = self.sa6(x)\n",
    "#         output = self.outc(x)\n",
    "#         return output\n",
    "    \n",
    "    \n",
    "class UNet_Conditional(nn.Module):\n",
    "    def __init__(self, c_in=3, c_out=3, time_dim=256, device=\"cuda\"):#,num_classes = None):\n",
    "        super().__init__()\n",
    "        self.device = device\n",
    "        self.time_dim = time_dim\n",
    "        self.inc = DoubleConv(c_in, 64)\n",
    "        self.down1 = Down(64, 128)\n",
    "        self.sa1 = CrossAttention(128, 256)\n",
    "        self.down2 = Down(128, 256)\n",
    "        self.sa2 = CrossAttention(256, 256)\n",
    "        self.down3 = Down(256, 256)\n",
    "        self.sa3 = CrossAttention(256, 256)\n",
    "\n",
    "        self.bot1 = DoubleConv(256, 512)\n",
    "        self.bot2 = DoubleConv(512, 512)\n",
    "        self.bot3 = DoubleConv(512, 256)\n",
    "\n",
    "        self.up1 = Up(512, 128)\n",
    "        self.sa4 = CrossAttention(128, 256)\n",
    "        self.up2 = Up(256, 64)\n",
    "        self.sa5 = CrossAttention(64, 256)\n",
    "        self.up3 = Up(128, 64)\n",
    "        self.sa6 = CrossAttention(64, 256)\n",
    "        self.outc = nn.Conv2d(64, c_out, kernel_size=1)\n",
    "        \n",
    "#         if num_classes is not None:\n",
    "#             self.label_emb = nn.Embedding(num_classes, time_dim)\n",
    "        \n",
    "\n",
    "    def pos_encoding(self, t, channels):\n",
    "        inv_freq = 1.0 / (\n",
    "            10000\n",
    "            ** (torch.arange(0, channels, 2, device=self.device).float() / channels)\n",
    "        )\n",
    "        pos_enc_a = torch.sin(t.repeat(1, channels // 2) * inv_freq)\n",
    "        pos_enc_b = torch.cos(t.repeat(1, channels // 2) * inv_freq)\n",
    "        pos_enc = torch.cat([pos_enc_a, pos_enc_b], dim=-1)\n",
    "        return pos_enc\n",
    "\n",
    "    def forward(self, x, t,labels):\n",
    "        t = t.unsqueeze(-1).type(torch.float)\n",
    "        t = self.pos_encoding(t, self.time_dim)\n",
    "        # print(f\"t:{t.shape}\")\n",
    "        # if labels!=None:\n",
    "        #     # print(self.label_emb(labels).shape)\n",
    "        #     t = t+ labels\n",
    "        \n",
    "        x1 = self.inc(x)\n",
    "        x2 = self.down1(x1, t)\n",
    "        x2 = x2.view(-1, 128, 8*8).swapaxes(1, 2)\n",
    "        # print(f\"x2: {x2.shape,labels.shape}\")\n",
    "        x2 = self.sa1(x2,labels).swapaxes(1, 2).view(-1,128,8,8)\n",
    "        # print(f\"x2: {x2.shape}\")\n",
    "        \n",
    "        \n",
    "        \n",
    "        x3 = self.down2(x2, t)\n",
    "        # print(f\"x3: {x3.shape}\")\n",
    "        x3 = x3.view(-1, 256, 4*4).swapaxes(1, 2)\n",
    "        x3 = self.sa2(x3,labels).swapaxes(1, 2).view(-1,256,4,4)\n",
    "        \n",
    "        \n",
    "        x4 = self.down3(x3, t)\n",
    "        # print(f\"x4: {x4.shape}\")\n",
    "        x4 = x4.view(-1, 256, 2*2).swapaxes(1, 2)\n",
    "        x4 = self.sa3(x4,labels).view(-1,256,2,2)\n",
    "        \n",
    "        # print(f\"x4: {x4.shape}\")\n",
    "        x4 = self.bot1(x4)\n",
    "        x4 = self.bot2(x4)\n",
    "        x4 = self.bot3(x4)\n",
    "        \n",
    "        # print(f\"x4: {x4.shape}\")\n",
    "        x = self.up1(x4, x3, t)\n",
    "        # print(f\"x: {x.shape}\")\n",
    "        x = x.view(-1, 128, 4*4).swapaxes(1, 2)\n",
    "        # print(x.shape)\n",
    "        x = self.sa4(x,labels).view(-1,128,4,4)\n",
    "        \n",
    "        # print(f\"x: {x.shape}\")\n",
    "        x = self.up2(x, x2, t)\n",
    "        x = x.view(-1, 64, 8*8).swapaxes(1, 2)\n",
    "        x = self.sa5(x,labels).view(-1,64,8,8)\n",
    "        \n",
    "        x = self.up3(x, x1, t)\n",
    "        x = x.view(-1, 64, 16*16).swapaxes(1, 2)\n",
    "        x = self.sa6(x,labels).view(-1,64,16,16)\n",
    "        output = self.outc(x)\n",
    "        return output"
   ]
  },
  {
   "cell_type": "code",
   "execution_count": 55,
   "id": "d6b0dc9e-1837-4a02-a7b5-3a6f9928667a",
   "metadata": {},
   "outputs": [
    {
     "name": "stdout",
     "output_type": "stream",
     "text": [
      "torch.Size([32, 32, 16, 16]) torch.Size([32]) torch.Size([32, 256, 1])\n",
      "torch.Size([32, 32, 16, 16])\n"
     ]
    }
   ],
   "source": [
    "model = UNet_Conditional(c_in=32, c_out=32, time_dim=256, device=\"cuda\").to(device)\n",
    "# cond_enc = Cond_Encoder().to(device)\n",
    "#testing\n",
    "dist_ref,mask,sse,ref_len   = next(iter(train_data_loader))\n",
    "# print(digit_labels.shape)\n",
    "\n",
    "lat_c = encoder(dist_ref)\n",
    "t = torch.randint(low=1, high=1000, size=(dist_ref.shape[0],)).to(device)\n",
    "labels = encoder_sse(sse.squeeze(1))\n",
    "print(lat_c.shape,t.shape,labels.shape)\n",
    "\n",
    "denoised_lat_c = model(lat_c,t,labels.swapaxes(1, 2))\n",
    "\n",
    "print(denoised_lat_c.shape)"
   ]
  },
  {
   "cell_type": "markdown",
   "id": "4146e97f-ce5b-446c-aaad-6ea6b61cd4f7",
   "metadata": {},
   "source": [
    "## Training"
   ]
  },
  {
   "cell_type": "code",
   "execution_count": 56,
   "id": "7ea208cb-1715-4c8e-8f83-6bde0824a67d",
   "metadata": {},
   "outputs": [],
   "source": [
    "# optimizer = optim.AdamW(list(model.parameters())+list(encoder_sse.parameters()), lr=3e-4)\n",
    "optimizer = optim.AdamW(model.parameters(), lr=3e-4)\n",
    "mse = nn.MSELoss()\n",
    "diffusion = Diffusion(img_size=[32,16,16], device=device)"
   ]
  },
  {
   "cell_type": "code",
   "execution_count": 57,
   "id": "db363e4d-8974-43ac-848d-c44604ad4ec5",
   "metadata": {},
   "outputs": [],
   "source": [
    "class AverageMeter(object):\n",
    "    \"\"\"Computes and stores the average and current value\"\"\"\n",
    "    def __init__(self):\n",
    "        self.reset()\n",
    "\n",
    "    def reset(self):\n",
    "        self.val = 0\n",
    "        self.avg = 0\n",
    "        self.sum = 0\n",
    "        self.count = 0\n",
    "\n",
    "    def update(self, val, n=1):\n",
    "        self.val = val\n",
    "        self.sum += val * n\n",
    "        self.count += n\n",
    "        self.avg = self.sum / self.count if self.count != 0 else 0\n",
    "        \n",
    "def plot_sub_plots(rows,columns,img_list,title_list,cmap = 'inferno'):\n",
    "    fig, axs = plt.subplots(rows, columns, figsize = (columns*10,rows*10))\n",
    "    if rows == 1:\n",
    "        for i in range(len(img_list)):\n",
    "            im1 = axs[i].imshow(img_list[i],cmap=cmap)\n",
    "            axs[i].set_title(f\"{title_list[i]}\")\n",
    "            plt.colorbar(im1, ax=axs[i])#,shrink = 0.3\n",
    "    else:\n",
    "        for i in range(len(img_list)):\n",
    "            im1 = axs[i//columns][i%columns].imshow(img_list[i],cmap=cmap)\n",
    "            axs[i//columns][i%columns].set_title(f\"{title_list[i]}\")\n",
    "            plt.colorbar(im1, ax=axs[i//columns][i%columns])#,shrink = 0.3)\n",
    "    # plt.show()\n",
    "    return fig"
   ]
  },
  {
   "cell_type": "code",
   "execution_count": 58,
   "id": "f3101d7f-4bac-4805-afdb-a39c3958159b",
   "metadata": {},
   "outputs": [],
   "source": [
    "def train(model,diffusion,encoder,decoder,encoder_sse,optimizer,data_loader,is_wandb=False,verbose_freq = 500,is_verbose = False):\n",
    "    encoder.eval()\n",
    "    decoder.eval()\n",
    "    encoder_sse.eval()\n",
    "    model.train()\n",
    "    # cond_enc.train()\n",
    "    train_losses = AverageMeter()\n",
    "    for batch_idx, (x,m,sse,_ ) in enumerate(data_loader):\n",
    "        x = encoder(x)\n",
    "        labels = encoder_sse(sse.squeeze(1))\n",
    "        \n",
    "        \n",
    "        t = diffusion.sample_timesteps(x.shape[0]).to(device)\n",
    "        x_t, noise = diffusion.noise_images(x, t)\n",
    "        predicted_noise = model(x_t, t,labels.swapaxes(1, 2))\n",
    "        loss = mse(noise, predicted_noise)\n",
    "\n",
    "        optimizer.zero_grad()\n",
    "        loss.backward()\n",
    "        optimizer.step()\n",
    "\n",
    "      \n",
    "        train_losses.update(loss.data.item())\n",
    "        if is_wandb:\n",
    "            wandb.log({\"batch_loss\": loss.data.item()})\n",
    "    \n",
    "    \n",
    "    if is_wandb:\n",
    "            wandb.log({\"train_epoch_loss\": train_losses.avg})\n",
    "            \n",
    "    if is_verbose:\n",
    "        print(f\"Training Epoch Loss: {train_losses.avg}\")\n",
    "    \n",
    "    x,m,sse,ref_len   = next(iter(data_loader))\n",
    "    labels = encoder_sse(sse.squeeze(1))\n",
    "    print(labels.shape)\n",
    "    # cond_enc.eval()\n",
    "    # digit_labels_2 = F.one_hot(digit_labels, num_classes=10).unsqueeze(1).float()\n",
    "    # cond_vec = cond_enc(digit_labels_2.to(device))\n",
    "    \n",
    "    sampled_images = diffusion.sample(model, n=x.shape[0],labels = labels.swapaxes(1, 2))\n",
    "    sampled_images = decoder(sampled_images.float())\n",
    "    sampled_images = sampled_images.squeeze().detach().cpu().numpy()\n",
    "    print(sampled_images.shape)\n",
    "    sse = sse.squeeze().detach().cpu().numpy()\n",
    "    x = x.squeeze().detach().cpu().numpy()\n",
    "    img_list = [sampled_images[0],sse[0],x[0],sampled_images[1],sse[1],x[1],\n",
    "                sampled_images[2],sse[2],x[2],sampled_images[3],sse[3],x[3],\n",
    "                sampled_images[4],sse[4],x[4],sampled_images[5],sse[5],x[5],\n",
    "                sampled_images[6],sse[6],x[6],sampled_images[7],sse[7],x[7],\n",
    "               ] \n",
    "    \n",
    "    title_list = [ref_len[0].item(),ref_len[0].item(),ref_len[0].item(),ref_len[1].item(),ref_len[1].item(),ref_len[1].item(),\n",
    "                  ref_len[2].item(),ref_len[2].item(),ref_len[2].item(),ref_len[3].item(),ref_len[3].item(),ref_len[3].item(),\n",
    "                  ref_len[4].item(),ref_len[4].item(),ref_len[4].item(),ref_len[5].item(),ref_len[5].item(),ref_len[5].item(),\n",
    "                  ref_len[6].item(),ref_len[6].item(),ref_len[6].item(),ref_len[7].item(),ref_len[7].item(),ref_len[7].item(),]\n",
    "    \n",
    "    fig = plot_sub_plots(4,6,img_list,title_list,cmap = 'inferno')\n",
    "    if is_wandb:\n",
    "            wandb.log({\"examples\": wandb.Image(fig)})\n",
    "    \n",
    "    return train_losses.avg\n",
    "\n",
    "\n",
    "\n",
    "\n",
    "\n",
    "    # sampled_images = diffusion.sample(model, n=images.shape[0])\n",
    "    # save_images(sampled_images, os.path.join(\"results\", args.run_name, f\"{epoch}.jpg\"))\n",
    "    # torch.save(model.state_dict(), os.path.join(\"models\", args.run_name, f\"ckpt.pt\"))\n"
   ]
  },
  {
   "cell_type": "code",
   "execution_count": null,
   "id": "23b30d82-2a67-447e-8ba8-81ebbc959f87",
   "metadata": {},
   "outputs": [
    {
     "name": "stdout",
     "output_type": "stream",
     "text": [
      "torch.Size([32, 256, 1])\n"
     ]
    },
    {
     "name": "stderr",
     "output_type": "stream",
     "text": [
      "999it [00:08, 120.15it/s]\n"
     ]
    },
    {
     "name": "stdout",
     "output_type": "stream",
     "text": [
      "(32, 64, 64)\n",
      "Epoch 1: 1.0070101861062088 \n",
      "torch.Size([32, 256, 1])\n"
     ]
    },
    {
     "name": "stderr",
     "output_type": "stream",
     "text": [
      "999it [00:08, 120.01it/s]\n"
     ]
    },
    {
     "name": "stdout",
     "output_type": "stream",
     "text": [
      "(32, 64, 64)\n",
      "Epoch 2: 1.0017369181160036 \n",
      "torch.Size([32, 256, 1])\n"
     ]
    },
    {
     "name": "stderr",
     "output_type": "stream",
     "text": [
      "999it [00:08, 118.85it/s]\n"
     ]
    },
    {
     "name": "stdout",
     "output_type": "stream",
     "text": [
      "(32, 64, 64)\n",
      "Epoch 3: 1.000819491661661 \n",
      "torch.Size([32, 256, 1])\n"
     ]
    },
    {
     "name": "stderr",
     "output_type": "stream",
     "text": [
      "999it [00:08, 121.43it/s]\n"
     ]
    },
    {
     "name": "stdout",
     "output_type": "stream",
     "text": [
      "(32, 64, 64)\n",
      "Epoch 4: 0.9998964958074616 \n",
      "torch.Size([32, 256, 1])\n"
     ]
    },
    {
     "name": "stderr",
     "output_type": "stream",
     "text": [
      "999it [00:08, 121.50it/s]\n"
     ]
    },
    {
     "name": "stdout",
     "output_type": "stream",
     "text": [
      "(32, 64, 64)\n",
      "Epoch 5: 1.0003498361362675 \n",
      "torch.Size([32, 256, 1])\n"
     ]
    },
    {
     "name": "stderr",
     "output_type": "stream",
     "text": [
      "999it [00:08, 120.27it/s]\n"
     ]
    },
    {
     "name": "stdout",
     "output_type": "stream",
     "text": [
      "(32, 64, 64)\n",
      "Epoch 6: 0.9999067977191957 \n",
      "torch.Size([32, 256, 1])\n"
     ]
    },
    {
     "name": "stderr",
     "output_type": "stream",
     "text": [
      "999it [00:08, 119.71it/s]\n"
     ]
    },
    {
     "name": "stdout",
     "output_type": "stream",
     "text": [
      "(32, 64, 64)\n",
      "Epoch 7: 1.0002147090144273 \n",
      "torch.Size([32, 256, 1])\n"
     ]
    },
    {
     "name": "stderr",
     "output_type": "stream",
     "text": [
      "999it [00:08, 121.20it/s]\n"
     ]
    },
    {
     "name": "stdout",
     "output_type": "stream",
     "text": [
      "(32, 64, 64)\n",
      "Epoch 8: 1.0001150742778933 \n",
      "torch.Size([32, 256, 1])\n"
     ]
    },
    {
     "name": "stderr",
     "output_type": "stream",
     "text": [
      "999it [00:08, 119.98it/s]\n"
     ]
    },
    {
     "name": "stdout",
     "output_type": "stream",
     "text": [
      "(32, 64, 64)\n",
      "Epoch 9: 1.0002878347063453 \n",
      "torch.Size([32, 256, 1])\n"
     ]
    },
    {
     "name": "stderr",
     "output_type": "stream",
     "text": [
      "999it [00:08, 118.27it/s]\n"
     ]
    },
    {
     "name": "stdout",
     "output_type": "stream",
     "text": [
      "(32, 64, 64)\n",
      "Epoch 10: 1.000191067777029 \n",
      "torch.Size([32, 256, 1])\n"
     ]
    },
    {
     "name": "stderr",
     "output_type": "stream",
     "text": [
      "999it [00:08, 121.69it/s]\n"
     ]
    },
    {
     "name": "stdout",
     "output_type": "stream",
     "text": [
      "(32, 64, 64)\n",
      "Epoch 11: 1.0002393121641826 \n",
      "torch.Size([32, 256, 1])\n"
     ]
    },
    {
     "name": "stderr",
     "output_type": "stream",
     "text": [
      "999it [00:08, 120.90it/s]\n"
     ]
    },
    {
     "name": "stdout",
     "output_type": "stream",
     "text": [
      "(32, 64, 64)\n",
      "Epoch 12: 0.9999268006503097 \n",
      "torch.Size([32, 256, 1])\n"
     ]
    },
    {
     "name": "stderr",
     "output_type": "stream",
     "text": [
      "999it [00:08, 119.51it/s]\n"
     ]
    },
    {
     "name": "stdout",
     "output_type": "stream",
     "text": [
      "(32, 64, 64)\n",
      "Epoch 13: 0.9995967532561078 \n",
      "torch.Size([32, 256, 1])\n"
     ]
    },
    {
     "name": "stderr",
     "output_type": "stream",
     "text": [
      "999it [00:08, 119.10it/s]\n"
     ]
    },
    {
     "name": "stdout",
     "output_type": "stream",
     "text": [
      "(32, 64, 64)\n",
      "Epoch 14: 0.9996244941300493 \n",
      "torch.Size([32, 256, 1])\n"
     ]
    },
    {
     "name": "stderr",
     "output_type": "stream",
     "text": [
      "999it [00:08, 121.04it/s]\n"
     ]
    },
    {
     "name": "stdout",
     "output_type": "stream",
     "text": [
      "(32, 64, 64)\n",
      "Epoch 15: 1.0000578683566272 \n",
      "torch.Size([32, 256, 1])\n"
     ]
    },
    {
     "name": "stderr",
     "output_type": "stream",
     "text": [
      "999it [00:08, 121.83it/s]\n"
     ]
    },
    {
     "name": "stdout",
     "output_type": "stream",
     "text": [
      "(32, 64, 64)\n",
      "Epoch 16: 1.0000640444639253 \n",
      "torch.Size([32, 256, 1])\n"
     ]
    },
    {
     "name": "stderr",
     "output_type": "stream",
     "text": [
      "999it [00:08, 119.39it/s]\n"
     ]
    },
    {
     "name": "stdout",
     "output_type": "stream",
     "text": [
      "(32, 64, 64)\n",
      "Epoch 17: 0.9999810743138073 \n",
      "torch.Size([32, 256, 1])\n"
     ]
    },
    {
     "name": "stderr",
     "output_type": "stream",
     "text": [
      "999it [00:08, 119.04it/s]\n"
     ]
    },
    {
     "name": "stdout",
     "output_type": "stream",
     "text": [
      "(32, 64, 64)\n",
      "Epoch 18: 1.0002737306967013 \n",
      "torch.Size([32, 256, 1])\n"
     ]
    },
    {
     "name": "stderr",
     "output_type": "stream",
     "text": [
      "999it [00:08, 120.46it/s]\n"
     ]
    },
    {
     "name": "stdout",
     "output_type": "stream",
     "text": [
      "(32, 64, 64)\n",
      "Epoch 19: 1.0003163116734202 \n",
      "torch.Size([32, 256, 1])\n"
     ]
    },
    {
     "name": "stderr",
     "output_type": "stream",
     "text": [
      "999it [00:08, 121.80it/s]\n"
     ]
    },
    {
     "name": "stdout",
     "output_type": "stream",
     "text": [
      "(32, 64, 64)\n",
      "Epoch 20: 1.0003629365587623 \n",
      "torch.Size([32, 256, 1])\n"
     ]
    },
    {
     "name": "stderr",
     "output_type": "stream",
     "text": [
      "999it [00:08, 119.07it/s]\n",
      "/opt/tljh/user/lib/python3.7/site-packages/ipykernel_launcher.py:19: RuntimeWarning: More than 20 figures have been opened. Figures created through the pyplot interface (`matplotlib.pyplot.figure`) are retained until explicitly closed and may consume too much memory. (To control this warning, see the rcParam `figure.max_open_warning`).\n"
     ]
    },
    {
     "name": "stdout",
     "output_type": "stream",
     "text": [
      "(32, 64, 64)\n",
      "Epoch 21: 1.0001222442805282 \n",
      "torch.Size([32, 256, 1])\n"
     ]
    },
    {
     "name": "stderr",
     "output_type": "stream",
     "text": [
      "999it [00:08, 120.04it/s]\n"
     ]
    },
    {
     "name": "stdout",
     "output_type": "stream",
     "text": [
      "(32, 64, 64)\n",
      "Epoch 22: 0.9995513035029899 \n",
      "torch.Size([32, 256, 1])\n"
     ]
    },
    {
     "name": "stderr",
     "output_type": "stream",
     "text": [
      "999it [00:08, 122.41it/s]\n"
     ]
    },
    {
     "name": "stdout",
     "output_type": "stream",
     "text": [
      "(32, 64, 64)\n",
      "Epoch 23: 0.9999528469108954 \n",
      "torch.Size([32, 256, 1])\n"
     ]
    },
    {
     "name": "stderr",
     "output_type": "stream",
     "text": [
      "999it [00:08, 120.99it/s]\n"
     ]
    },
    {
     "name": "stdout",
     "output_type": "stream",
     "text": [
      "(32, 64, 64)\n",
      "Epoch 24: 1.0000614044142933 \n",
      "torch.Size([32, 256, 1])\n"
     ]
    },
    {
     "name": "stderr",
     "output_type": "stream",
     "text": [
      "999it [00:08, 118.65it/s]\n"
     ]
    },
    {
     "name": "stdout",
     "output_type": "stream",
     "text": [
      "(32, 64, 64)\n",
      "Epoch 25: 1.0001010429568407 \n",
      "torch.Size([32, 256, 1])\n"
     ]
    },
    {
     "name": "stderr",
     "output_type": "stream",
     "text": [
      "999it [00:08, 119.51it/s]\n"
     ]
    },
    {
     "name": "stdout",
     "output_type": "stream",
     "text": [
      "(32, 64, 64)\n",
      "Epoch 26: 1.0000437052269293 \n",
      "torch.Size([32, 256, 1])\n"
     ]
    },
    {
     "name": "stderr",
     "output_type": "stream",
     "text": [
      "999it [00:08, 120.00it/s]\n"
     ]
    },
    {
     "name": "stdout",
     "output_type": "stream",
     "text": [
      "(32, 64, 64)\n",
      "Epoch 27: 0.9997736491808077 \n",
      "torch.Size([32, 256, 1])\n"
     ]
    },
    {
     "name": "stderr",
     "output_type": "stream",
     "text": [
      "999it [00:08, 120.20it/s]\n"
     ]
    },
    {
     "name": "stdout",
     "output_type": "stream",
     "text": [
      "(32, 64, 64)\n",
      "Epoch 28: 1.0002305464046757 \n",
      "torch.Size([32, 256, 1])\n"
     ]
    },
    {
     "name": "stderr",
     "output_type": "stream",
     "text": [
      "999it [00:08, 119.27it/s]\n"
     ]
    },
    {
     "name": "stdout",
     "output_type": "stream",
     "text": [
      "(32, 64, 64)\n",
      "Epoch 29: 1.000104992854886 \n",
      "torch.Size([32, 256, 1])\n"
     ]
    },
    {
     "name": "stderr",
     "output_type": "stream",
     "text": [
      "999it [00:08, 120.38it/s]\n"
     ]
    },
    {
     "name": "stdout",
     "output_type": "stream",
     "text": [
      "(32, 64, 64)\n",
      "Epoch 30: 1.0003510374363844 \n",
      "torch.Size([32, 256, 1])\n"
     ]
    },
    {
     "name": "stderr",
     "output_type": "stream",
     "text": [
      "999it [00:08, 120.48it/s]\n"
     ]
    },
    {
     "name": "stdout",
     "output_type": "stream",
     "text": [
      "(32, 64, 64)\n",
      "Epoch 31: 0.9998388348556146 \n",
      "torch.Size([32, 256, 1])\n"
     ]
    },
    {
     "name": "stderr",
     "output_type": "stream",
     "text": [
      "999it [00:08, 120.20it/s]\n"
     ]
    },
    {
     "name": "stdout",
     "output_type": "stream",
     "text": [
      "(32, 64, 64)\n",
      "Epoch 32: 1.0002057048363415 \n",
      "torch.Size([32, 256, 1])\n"
     ]
    },
    {
     "name": "stderr",
     "output_type": "stream",
     "text": [
      "999it [00:08, 118.91it/s]\n"
     ]
    },
    {
     "name": "stdout",
     "output_type": "stream",
     "text": [
      "(32, 64, 64)\n",
      "Epoch 33: 1.0003832932410202 \n",
      "torch.Size([32, 256, 1])\n"
     ]
    },
    {
     "name": "stderr",
     "output_type": "stream",
     "text": [
      "999it [00:08, 122.16it/s]\n"
     ]
    },
    {
     "name": "stdout",
     "output_type": "stream",
     "text": [
      "(32, 64, 64)\n",
      "Epoch 34: 1.0000948372895155 \n",
      "torch.Size([32, 256, 1])\n"
     ]
    },
    {
     "name": "stderr",
     "output_type": "stream",
     "text": [
      "999it [00:08, 122.73it/s]\n"
     ]
    },
    {
     "name": "stdout",
     "output_type": "stream",
     "text": [
      "(32, 64, 64)\n",
      "Epoch 35: 1.000098653440553 \n",
      "torch.Size([32, 256, 1])\n"
     ]
    },
    {
     "name": "stderr",
     "output_type": "stream",
     "text": [
      "999it [00:08, 118.91it/s]\n"
     ]
    },
    {
     "name": "stdout",
     "output_type": "stream",
     "text": [
      "(32, 64, 64)\n",
      "Epoch 36: 1.00005906626461 \n",
      "torch.Size([32, 256, 1])\n"
     ]
    },
    {
     "name": "stderr",
     "output_type": "stream",
     "text": [
      "999it [00:08, 121.10it/s]\n"
     ]
    },
    {
     "name": "stdout",
     "output_type": "stream",
     "text": [
      "(32, 64, 64)\n",
      "Epoch 37: 1.0000672180478165 \n",
      "torch.Size([32, 256, 1])\n"
     ]
    },
    {
     "name": "stderr",
     "output_type": "stream",
     "text": [
      "999it [00:08, 121.49it/s]\n"
     ]
    },
    {
     "name": "stdout",
     "output_type": "stream",
     "text": [
      "(32, 64, 64)\n",
      "Epoch 38: 1.000157351416301 \n",
      "torch.Size([32, 256, 1])\n"
     ]
    },
    {
     "name": "stderr",
     "output_type": "stream",
     "text": [
      "999it [00:08, 120.38it/s]\n"
     ]
    },
    {
     "name": "stdout",
     "output_type": "stream",
     "text": [
      "(32, 64, 64)\n",
      "Epoch 39: 0.9999801128860412 \n",
      "torch.Size([32, 256, 1])\n"
     ]
    },
    {
     "name": "stderr",
     "output_type": "stream",
     "text": [
      "999it [00:08, 119.03it/s]\n"
     ]
    },
    {
     "name": "stdout",
     "output_type": "stream",
     "text": [
      "(32, 64, 64)\n",
      "Epoch 40: 0.9998610727186126 \n",
      "torch.Size([32, 256, 1])\n"
     ]
    },
    {
     "name": "stderr",
     "output_type": "stream",
     "text": [
      "999it [00:08, 121.17it/s]\n"
     ]
    },
    {
     "name": "stdout",
     "output_type": "stream",
     "text": [
      "(32, 64, 64)\n",
      "Epoch 41: 1.0003691213886912 \n",
      "torch.Size([32, 256, 1])\n"
     ]
    },
    {
     "name": "stderr",
     "output_type": "stream",
     "text": [
      "999it [00:08, 120.96it/s]\n"
     ]
    },
    {
     "name": "stdout",
     "output_type": "stream",
     "text": [
      "(32, 64, 64)\n",
      "Epoch 42: 1.0003244329274186 \n",
      "torch.Size([32, 256, 1])\n"
     ]
    },
    {
     "name": "stderr",
     "output_type": "stream",
     "text": [
      "999it [00:08, 118.17it/s]\n"
     ]
    },
    {
     "name": "stdout",
     "output_type": "stream",
     "text": [
      "(32, 64, 64)\n",
      "Epoch 43: 1.000133781413722 \n",
      "torch.Size([32, 256, 1])\n"
     ]
    },
    {
     "name": "stderr",
     "output_type": "stream",
     "text": [
      "999it [00:08, 120.00it/s]\n"
     ]
    },
    {
     "name": "stdout",
     "output_type": "stream",
     "text": [
      "(32, 64, 64)\n",
      "Epoch 44: 0.9999812371362515 \n",
      "torch.Size([32, 256, 1])\n"
     ]
    },
    {
     "name": "stderr",
     "output_type": "stream",
     "text": [
      "999it [00:08, 121.72it/s]\n"
     ]
    },
    {
     "name": "stdout",
     "output_type": "stream",
     "text": [
      "(32, 64, 64)\n",
      "Epoch 45: 1.0000615997043083 \n",
      "torch.Size([32, 256, 1])\n"
     ]
    },
    {
     "name": "stderr",
     "output_type": "stream",
     "text": [
      "999it [00:08, 120.03it/s]\n"
     ]
    },
    {
     "name": "stdout",
     "output_type": "stream",
     "text": [
      "(32, 64, 64)\n",
      "Epoch 46: 0.9996993890622767 \n",
      "torch.Size([32, 256, 1])\n"
     ]
    },
    {
     "name": "stderr",
     "output_type": "stream",
     "text": [
      "999it [00:08, 119.70it/s]\n"
     ]
    },
    {
     "name": "stdout",
     "output_type": "stream",
     "text": [
      "(32, 64, 64)\n",
      "Epoch 50: 1.0002600991629003 \n",
      "torch.Size([32, 256, 1])\n"
     ]
    },
    {
     "name": "stderr",
     "output_type": "stream",
     "text": [
      "999it [00:08, 118.96it/s]\n"
     ]
    },
    {
     "name": "stdout",
     "output_type": "stream",
     "text": [
      "(32, 64, 64)\n",
      "Epoch 51: 1.000132817078412 \n",
      "torch.Size([32, 256, 1])\n"
     ]
    },
    {
     "name": "stderr",
     "output_type": "stream",
     "text": [
      "999it [00:08, 120.09it/s]\n"
     ]
    },
    {
     "name": "stdout",
     "output_type": "stream",
     "text": [
      "(32, 64, 64)\n",
      "Epoch 52: 0.9992720639802576 \n",
      "torch.Size([32, 256, 1])\n"
     ]
    },
    {
     "name": "stderr",
     "output_type": "stream",
     "text": [
      "999it [00:08, 121.36it/s]\n"
     ]
    },
    {
     "name": "stdout",
     "output_type": "stream",
     "text": [
      "(32, 64, 64)\n",
      "Epoch 53: 1.000214213762826 \n",
      "torch.Size([32, 256, 1])\n"
     ]
    },
    {
     "name": "stderr",
     "output_type": "stream",
     "text": [
      "999it [00:08, 119.50it/s]\n"
     ]
    },
    {
     "name": "stdout",
     "output_type": "stream",
     "text": [
      "(32, 64, 64)\n",
      "Epoch 54: 0.999968528262968 \n",
      "torch.Size([32, 256, 1])\n"
     ]
    },
    {
     "name": "stderr",
     "output_type": "stream",
     "text": [
      "999it [00:08, 118.75it/s]\n"
     ]
    },
    {
     "name": "stdout",
     "output_type": "stream",
     "text": [
      "(32, 64, 64)\n",
      "Epoch 55: 1.0001203505004324 \n",
      "torch.Size([32, 256, 1])\n"
     ]
    },
    {
     "name": "stderr",
     "output_type": "stream",
     "text": [
      "999it [00:08, 120.48it/s]\n"
     ]
    },
    {
     "name": "stdout",
     "output_type": "stream",
     "text": [
      "(32, 64, 64)\n",
      "Epoch 56: 0.999795565275642 \n",
      "torch.Size([32, 256, 1])\n"
     ]
    },
    {
     "name": "stderr",
     "output_type": "stream",
     "text": [
      "999it [00:08, 121.20it/s]\n"
     ]
    },
    {
     "name": "stdout",
     "output_type": "stream",
     "text": [
      "(32, 64, 64)\n",
      "Epoch 57: 1.0000005345034406 \n",
      "torch.Size([32, 256, 1])\n"
     ]
    },
    {
     "name": "stderr",
     "output_type": "stream",
     "text": [
      "999it [00:08, 119.39it/s]\n"
     ]
    },
    {
     "name": "stdout",
     "output_type": "stream",
     "text": [
      "(32, 64, 64)\n",
      "Epoch 58: 0.9996572519705548 \n",
      "torch.Size([32, 256, 1])\n"
     ]
    },
    {
     "name": "stderr",
     "output_type": "stream",
     "text": [
      "999it [00:08, 118.42it/s]\n"
     ]
    },
    {
     "name": "stdout",
     "output_type": "stream",
     "text": [
      "(32, 64, 64)\n",
      "Epoch 59: 1.0001092819663566 \n",
      "torch.Size([32, 256, 1])\n"
     ]
    },
    {
     "name": "stderr",
     "output_type": "stream",
     "text": [
      "999it [00:08, 120.64it/s]\n"
     ]
    },
    {
     "name": "stdout",
     "output_type": "stream",
     "text": [
      "(32, 64, 64)\n",
      "Epoch 60: 0.999907426233214 \n",
      "torch.Size([32, 256, 1])\n"
     ]
    },
    {
     "name": "stderr",
     "output_type": "stream",
     "text": [
      "999it [00:08, 122.00it/s]\n"
     ]
    },
    {
     "name": "stdout",
     "output_type": "stream",
     "text": [
      "(32, 64, 64)\n",
      "Epoch 61: 1.0001312552428827 \n",
      "torch.Size([32, 256, 1])\n"
     ]
    },
    {
     "name": "stderr",
     "output_type": "stream",
     "text": [
      "999it [00:08, 120.97it/s]\n"
     ]
    },
    {
     "name": "stdout",
     "output_type": "stream",
     "text": [
      "(32, 64, 64)\n",
      "Epoch 62: 0.9998409738385581 \n",
      "torch.Size([32, 256, 1])\n"
     ]
    },
    {
     "name": "stderr",
     "output_type": "stream",
     "text": [
      "999it [00:08, 118.60it/s]\n"
     ]
    },
    {
     "name": "stdout",
     "output_type": "stream",
     "text": [
      "(32, 64, 64)\n",
      "Epoch 63: 1.000161857624364 \n",
      "torch.Size([32, 256, 1])\n"
     ]
    },
    {
     "name": "stderr",
     "output_type": "stream",
     "text": [
      "999it [00:08, 121.20it/s]\n"
     ]
    },
    {
     "name": "stdout",
     "output_type": "stream",
     "text": [
      "(32, 64, 64)\n",
      "Epoch 64: 1.0000297514403738 \n",
      "torch.Size([32, 256, 1])\n"
     ]
    },
    {
     "name": "stderr",
     "output_type": "stream",
     "text": [
      "999it [00:08, 120.92it/s]\n"
     ]
    },
    {
     "name": "stdout",
     "output_type": "stream",
     "text": [
      "(32, 64, 64)\n",
      "Epoch 65: 0.9998198902703882 \n",
      "torch.Size([32, 256, 1])\n"
     ]
    },
    {
     "name": "stderr",
     "output_type": "stream",
     "text": [
      "999it [00:08, 119.00it/s]\n"
     ]
    },
    {
     "name": "stdout",
     "output_type": "stream",
     "text": [
      "(32, 64, 64)\n",
      "Epoch 66: 0.9999228652899828 \n",
      "torch.Size([32, 256, 1])\n"
     ]
    },
    {
     "name": "stderr",
     "output_type": "stream",
     "text": [
      "999it [00:08, 119.61it/s]\n"
     ]
    },
    {
     "name": "stdout",
     "output_type": "stream",
     "text": [
      "(32, 64, 64)\n",
      "Epoch 67: 0.9999901565109811 \n",
      "torch.Size([32, 256, 1])\n"
     ]
    },
    {
     "name": "stderr",
     "output_type": "stream",
     "text": [
      "999it [00:08, 117.00it/s]\n"
     ]
    },
    {
     "name": "stdout",
     "output_type": "stream",
     "text": [
      "(32, 64, 64)\n",
      "Epoch 68: 1.0002087354660034 \n",
      "torch.Size([32, 256, 1])\n"
     ]
    },
    {
     "name": "stderr",
     "output_type": "stream",
     "text": [
      "999it [00:08, 119.42it/s]\n"
     ]
    },
    {
     "name": "stdout",
     "output_type": "stream",
     "text": [
      "(32, 64, 64)\n",
      "Epoch 69: 1.0001152177167132 \n",
      "torch.Size([32, 256, 1])\n"
     ]
    },
    {
     "name": "stderr",
     "output_type": "stream",
     "text": [
      "999it [00:08, 119.50it/s]\n"
     ]
    },
    {
     "name": "stdout",
     "output_type": "stream",
     "text": [
      "(32, 64, 64)\n",
      "Epoch 70: 1.0001835866672237 \n",
      "torch.Size([32, 256, 1])\n"
     ]
    },
    {
     "name": "stderr",
     "output_type": "stream",
     "text": [
      "999it [00:08, 120.56it/s]\n"
     ]
    },
    {
     "name": "stdout",
     "output_type": "stream",
     "text": [
      "(32, 64, 64)\n",
      "Epoch 71: 1.0000039702508507 \n",
      "torch.Size([32, 256, 1])\n"
     ]
    },
    {
     "name": "stderr",
     "output_type": "stream",
     "text": [
      "999it [00:08, 120.70it/s]\n"
     ]
    },
    {
     "name": "stdout",
     "output_type": "stream",
     "text": [
      "(32, 64, 64)\n",
      "Epoch 72: 1.0003902800684052 \n",
      "torch.Size([32, 256, 1])\n"
     ]
    },
    {
     "name": "stderr",
     "output_type": "stream",
     "text": [
      "999it [00:08, 118.53it/s]\n"
     ]
    },
    {
     "name": "stdout",
     "output_type": "stream",
     "text": [
      "(32, 64, 64)\n",
      "Epoch 73: 1.0003828963613122 \n",
      "torch.Size([32, 256, 1])\n"
     ]
    },
    {
     "name": "stderr",
     "output_type": "stream",
     "text": [
      "999it [00:08, 120.21it/s]\n"
     ]
    },
    {
     "name": "stdout",
     "output_type": "stream",
     "text": [
      "(32, 64, 64)\n",
      "Epoch 74: 0.9998536420062305 \n",
      "torch.Size([32, 256, 1])\n"
     ]
    },
    {
     "name": "stderr",
     "output_type": "stream",
     "text": [
      "999it [00:08, 121.06it/s]\n"
     ]
    },
    {
     "name": "stdout",
     "output_type": "stream",
     "text": [
      "(32, 64, 64)\n",
      "Epoch 75: 1.0005621934324744 \n",
      "torch.Size([32, 256, 1])\n"
     ]
    },
    {
     "name": "stderr",
     "output_type": "stream",
     "text": [
      "999it [00:08, 120.77it/s]\n"
     ]
    },
    {
     "name": "stdout",
     "output_type": "stream",
     "text": [
      "(32, 64, 64)\n",
      "Epoch 76: 0.9998471116631981 \n",
      "torch.Size([32, 256, 1])\n"
     ]
    },
    {
     "name": "stderr",
     "output_type": "stream",
     "text": [
      "999it [00:08, 119.18it/s]\n"
     ]
    },
    {
     "name": "stdout",
     "output_type": "stream",
     "text": [
      "(32, 64, 64)\n",
      "Epoch 77: 0.9996878650130295 \n",
      "torch.Size([32, 256, 1])\n"
     ]
    },
    {
     "name": "stderr",
     "output_type": "stream",
     "text": [
      "999it [00:08, 121.36it/s]\n"
     ]
    },
    {
     "name": "stdout",
     "output_type": "stream",
     "text": [
      "(32, 64, 64)\n",
      "Epoch 78: 1.000436659266309 \n",
      "torch.Size([32, 256, 1])\n"
     ]
    },
    {
     "name": "stderr",
     "output_type": "stream",
     "text": [
      "999it [00:08, 121.30it/s]\n"
     ]
    },
    {
     "name": "stdout",
     "output_type": "stream",
     "text": [
      "(32, 64, 64)\n",
      "Epoch 79: 0.9999209177203294 \n",
      "torch.Size([32, 256, 1])\n"
     ]
    },
    {
     "name": "stderr",
     "output_type": "stream",
     "text": [
      "999it [00:08, 119.65it/s]\n"
     ]
    },
    {
     "name": "stdout",
     "output_type": "stream",
     "text": [
      "(32, 64, 64)\n",
      "Epoch 80: 1.000040662482502 \n",
      "torch.Size([32, 256, 1])\n"
     ]
    },
    {
     "name": "stderr",
     "output_type": "stream",
     "text": [
      "999it [00:08, 119.13it/s]\n"
     ]
    },
    {
     "name": "stdout",
     "output_type": "stream",
     "text": [
      "(32, 64, 64)\n",
      "Epoch 81: 0.9994783740702683 \n",
      "torch.Size([32, 256, 1])\n"
     ]
    },
    {
     "name": "stderr",
     "output_type": "stream",
     "text": [
      "999it [00:08, 121.21it/s]\n"
     ]
    },
    {
     "name": "stdout",
     "output_type": "stream",
     "text": [
      "(32, 64, 64)\n",
      "Epoch 82: 0.9998433037502009 \n",
      "torch.Size([32, 256, 1])\n"
     ]
    },
    {
     "name": "stderr",
     "output_type": "stream",
     "text": [
      "999it [00:08, 121.57it/s]\n"
     ]
    },
    {
     "name": "stdout",
     "output_type": "stream",
     "text": [
      "(32, 64, 64)\n",
      "Epoch 83: 1.0000635051145785 \n",
      "torch.Size([32, 256, 1])\n"
     ]
    },
    {
     "name": "stderr",
     "output_type": "stream",
     "text": [
      "999it [00:08, 119.25it/s]\n"
     ]
    },
    {
     "name": "stdout",
     "output_type": "stream",
     "text": [
      "(32, 64, 64)\n",
      "Epoch 84: 1.0002532577126977 \n",
      "torch.Size([32, 256, 1])\n"
     ]
    },
    {
     "name": "stderr",
     "output_type": "stream",
     "text": [
      "778it [00:06, 119.70it/s]IOPub message rate exceeded.\n",
      "The notebook server will temporarily stop sending output\n",
      "to the client in order to avoid crashing it.\n",
      "To change this limit, set the config variable\n",
      "`--NotebookApp.iopub_msg_rate_limit`.\n",
      "\n",
      "Current values:\n",
      "NotebookApp.iopub_msg_rate_limit=1000.0 (msgs/sec)\n",
      "NotebookApp.rate_limit_window=3.0 (secs)\n",
      "\n",
      "492it [00:04, 122.98it/s]"
     ]
    },
    {
     "name": "stdout",
     "output_type": "stream",
     "text": [
      "torch.Size([32, 256, 1])\n"
     ]
    },
    {
     "name": "stderr",
     "output_type": "stream",
     "text": [
      "999it [00:08, 122.20it/s]\n"
     ]
    },
    {
     "name": "stdout",
     "output_type": "stream",
     "text": [
      "(32, 64, 64)\n",
      "Epoch 198: 0.9998011215915524 \n",
      "torch.Size([32, 256, 1])\n"
     ]
    },
    {
     "name": "stderr",
     "output_type": "stream",
     "text": [
      "999it [00:08, 122.18it/s]\n"
     ]
    },
    {
     "name": "stdout",
     "output_type": "stream",
     "text": [
      "(32, 64, 64)\n",
      "Epoch 199: 1.0003097837533408 \n",
      "torch.Size([32, 256, 1])\n"
     ]
    },
    {
     "name": "stderr",
     "output_type": "stream",
     "text": [
      "999it [00:08, 119.29it/s]\n"
     ]
    },
    {
     "name": "stdout",
     "output_type": "stream",
     "text": [
      "(32, 64, 64)\n",
      "Epoch 200: 0.9996581673622131 \n",
      "torch.Size([32, 256, 1])\n"
     ]
    },
    {
     "name": "stderr",
     "output_type": "stream",
     "text": [
      "999it [00:08, 119.33it/s]\n"
     ]
    },
    {
     "name": "stdout",
     "output_type": "stream",
     "text": [
      "(32, 64, 64)\n",
      "Epoch 201: 1.0001601082522695 \n",
      "torch.Size([32, 256, 1])\n"
     ]
    },
    {
     "name": "stderr",
     "output_type": "stream",
     "text": [
      "999it [00:08, 119.96it/s]\n"
     ]
    },
    {
     "name": "stdout",
     "output_type": "stream",
     "text": [
      "(32, 64, 64)\n",
      "Epoch 202: 0.9998007668712274 \n",
      "torch.Size([32, 256, 1])\n"
     ]
    },
    {
     "name": "stderr",
     "output_type": "stream",
     "text": [
      "999it [00:08, 121.33it/s]\n"
     ]
    },
    {
     "name": "stdout",
     "output_type": "stream",
     "text": [
      "(32, 64, 64)\n",
      "Epoch 203: 0.9997846537489232 \n",
      "torch.Size([32, 256, 1])\n"
     ]
    },
    {
     "name": "stderr",
     "output_type": "stream",
     "text": [
      "999it [00:08, 118.81it/s]\n"
     ]
    },
    {
     "name": "stdout",
     "output_type": "stream",
     "text": [
      "(32, 64, 64)\n",
      "Epoch 204: 0.999905515492447 \n",
      "torch.Size([32, 256, 1])\n"
     ]
    },
    {
     "name": "stderr",
     "output_type": "stream",
     "text": [
      "999it [00:08, 120.30it/s]\n"
     ]
    },
    {
     "name": "stdout",
     "output_type": "stream",
     "text": [
      "(32, 64, 64)\n",
      "Epoch 205: 1.0002257823944092 \n",
      "torch.Size([32, 256, 1])\n"
     ]
    },
    {
     "name": "stderr",
     "output_type": "stream",
     "text": [
      "999it [00:08, 121.30it/s]\n"
     ]
    },
    {
     "name": "stdout",
     "output_type": "stream",
     "text": [
      "(32, 64, 64)\n",
      "Epoch 206: 0.9998489618301392 \n",
      "torch.Size([32, 256, 1])\n"
     ]
    },
    {
     "name": "stderr",
     "output_type": "stream",
     "text": [
      "999it [00:08, 120.29it/s]\n"
     ]
    },
    {
     "name": "stdout",
     "output_type": "stream",
     "text": [
      "(32, 64, 64)\n",
      "Epoch 207: 1.0004105398325416 \n",
      "torch.Size([32, 256, 1])\n"
     ]
    },
    {
     "name": "stderr",
     "output_type": "stream",
     "text": [
      "999it [00:08, 119.79it/s]\n"
     ]
    },
    {
     "name": "stdout",
     "output_type": "stream",
     "text": [
      "(32, 64, 64)\n",
      "Epoch 208: 0.9999302368823105 \n",
      "torch.Size([32, 256, 1])\n"
     ]
    },
    {
     "name": "stderr",
     "output_type": "stream",
     "text": [
      "999it [00:08, 120.38it/s]\n"
     ]
    },
    {
     "name": "stdout",
     "output_type": "stream",
     "text": [
      "(32, 64, 64)\n",
      "Epoch 209: 1.0004250024392354 \n",
      "torch.Size([32, 256, 1])\n"
     ]
    },
    {
     "name": "stderr",
     "output_type": "stream",
     "text": [
      "999it [00:08, 121.05it/s]\n"
     ]
    },
    {
     "name": "stdout",
     "output_type": "stream",
     "text": [
      "(32, 64, 64)\n",
      "Epoch 210: 1.0001720689176543 \n",
      "torch.Size([32, 256, 1])\n"
     ]
    },
    {
     "name": "stderr",
     "output_type": "stream",
     "text": [
      "999it [00:08, 119.86it/s]\n"
     ]
    },
    {
     "name": "stdout",
     "output_type": "stream",
     "text": [
      "(32, 64, 64)\n",
      "Epoch 211: 1.000016433436696 \n",
      "torch.Size([32, 256, 1])\n"
     ]
    },
    {
     "name": "stderr",
     "output_type": "stream",
     "text": [
      "999it [00:08, 119.07it/s]\n"
     ]
    },
    {
     "name": "stdout",
     "output_type": "stream",
     "text": [
      "(32, 64, 64)\n",
      "Epoch 212: 0.9999237545137483 \n",
      "torch.Size([32, 256, 1])\n"
     ]
    },
    {
     "name": "stderr",
     "output_type": "stream",
     "text": [
      "999it [00:08, 120.79it/s]\n"
     ]
    },
    {
     "name": "stdout",
     "output_type": "stream",
     "text": [
      "(32, 64, 64)\n",
      "Epoch 213: 1.0003491431716982 \n",
      "torch.Size([32, 256, 1])\n"
     ]
    },
    {
     "name": "stderr",
     "output_type": "stream",
     "text": [
      "999it [00:08, 120.98it/s]\n"
     ]
    },
    {
     "name": "stdout",
     "output_type": "stream",
     "text": [
      "(32, 64, 64)\n",
      "Epoch 214: 0.9997006267066894 \n",
      "torch.Size([32, 256, 1])\n"
     ]
    },
    {
     "name": "stderr",
     "output_type": "stream",
     "text": [
      "999it [00:08, 118.78it/s]\n"
     ]
    },
    {
     "name": "stdout",
     "output_type": "stream",
     "text": [
      "(32, 64, 64)\n",
      "Epoch 215: 1.0001785803616532 \n",
      "torch.Size([32, 256, 1])\n"
     ]
    },
    {
     "name": "stderr",
     "output_type": "stream",
     "text": [
      "999it [00:08, 120.22it/s]\n"
     ]
    },
    {
     "name": "stdout",
     "output_type": "stream",
     "text": [
      "(32, 64, 64)\n",
      "Epoch 216: 0.9997055409400444 \n",
      "torch.Size([32, 256, 1])\n"
     ]
    },
    {
     "name": "stderr",
     "output_type": "stream",
     "text": [
      "999it [00:08, 121.77it/s]\n"
     ]
    },
    {
     "name": "stdout",
     "output_type": "stream",
     "text": [
      "(32, 64, 64)\n",
      "Epoch 217: 1.0001501092096654 \n",
      "torch.Size([32, 256, 1])\n"
     ]
    },
    {
     "name": "stderr",
     "output_type": "stream",
     "text": [
      "999it [00:08, 119.28it/s]\n"
     ]
    },
    {
     "name": "stdout",
     "output_type": "stream",
     "text": [
      "(32, 64, 64)\n",
      "Epoch 218: 0.9996419771900021 \n",
      "torch.Size([32, 256, 1])\n"
     ]
    },
    {
     "name": "stderr",
     "output_type": "stream",
     "text": [
      "999it [00:08, 119.17it/s]\n"
     ]
    },
    {
     "name": "stdout",
     "output_type": "stream",
     "text": [
      "(32, 64, 64)\n",
      "Epoch 219: 1.0003134671265517 \n",
      "torch.Size([32, 256, 1])\n"
     ]
    },
    {
     "name": "stderr",
     "output_type": "stream",
     "text": [
      "999it [00:08, 121.17it/s]\n"
     ]
    },
    {
     "name": "stdout",
     "output_type": "stream",
     "text": [
      "(32, 64, 64)\n",
      "Epoch 220: 1.0001105171878164 \n",
      "torch.Size([32, 256, 1])\n"
     ]
    },
    {
     "name": "stderr",
     "output_type": "stream",
     "text": [
      "999it [00:08, 119.13it/s]\n"
     ]
    },
    {
     "name": "stdout",
     "output_type": "stream",
     "text": [
      "(32, 64, 64)\n",
      "Epoch 221: 0.999850566309642 \n",
      "torch.Size([32, 256, 1])\n"
     ]
    },
    {
     "name": "stderr",
     "output_type": "stream",
     "text": [
      "999it [00:08, 121.76it/s]\n"
     ]
    },
    {
     "name": "stdout",
     "output_type": "stream",
     "text": [
      "(32, 64, 64)\n",
      "Epoch 222: 1.0002148102938644 \n",
      "torch.Size([32, 256, 1])\n"
     ]
    },
    {
     "name": "stderr",
     "output_type": "stream",
     "text": [
      "999it [00:08, 121.31it/s]\n"
     ]
    },
    {
     "name": "stdout",
     "output_type": "stream",
     "text": [
      "(32, 64, 64)\n",
      "Epoch 223: 0.9995892774767992 \n",
      "torch.Size([32, 256, 1])\n"
     ]
    },
    {
     "name": "stderr",
     "output_type": "stream",
     "text": [
      "999it [00:08, 119.43it/s]\n"
     ]
    },
    {
     "name": "stdout",
     "output_type": "stream",
     "text": [
      "(32, 64, 64)\n",
      "Epoch 224: 0.9998590592446366 \n",
      "torch.Size([32, 256, 1])\n"
     ]
    },
    {
     "name": "stderr",
     "output_type": "stream",
     "text": [
      "999it [00:08, 119.74it/s]\n"
     ]
    },
    {
     "name": "stdout",
     "output_type": "stream",
     "text": [
      "(32, 64, 64)\n",
      "Epoch 225: 0.9996121176859227 \n",
      "torch.Size([32, 256, 1])\n"
     ]
    },
    {
     "name": "stderr",
     "output_type": "stream",
     "text": [
      "999it [00:08, 121.09it/s]\n"
     ]
    },
    {
     "name": "stdout",
     "output_type": "stream",
     "text": [
      "(32, 64, 64)\n",
      "Epoch 226: 0.9998937535092114 \n",
      "torch.Size([32, 256, 1])\n"
     ]
    },
    {
     "name": "stderr",
     "output_type": "stream",
     "text": [
      "999it [00:08, 121.23it/s]\n"
     ]
    },
    {
     "name": "stdout",
     "output_type": "stream",
     "text": [
      "(32, 64, 64)\n",
      "Epoch 227: 1.0000061891912444 \n",
      "torch.Size([32, 256, 1])\n"
     ]
    },
    {
     "name": "stderr",
     "output_type": "stream",
     "text": [
      "999it [00:08, 118.37it/s]\n"
     ]
    },
    {
     "name": "stdout",
     "output_type": "stream",
     "text": [
      "(32, 64, 64)\n",
      "Epoch 228: 1.0000933990245913 \n",
      "torch.Size([32, 256, 1])\n"
     ]
    },
    {
     "name": "stderr",
     "output_type": "stream",
     "text": [
      "999it [00:08, 121.06it/s]\n"
     ]
    },
    {
     "name": "stdout",
     "output_type": "stream",
     "text": [
      "(32, 64, 64)\n",
      "Epoch 229: 0.9998220205307007 \n",
      "torch.Size([32, 256, 1])\n"
     ]
    },
    {
     "name": "stderr",
     "output_type": "stream",
     "text": [
      "999it [00:08, 121.42it/s]\n"
     ]
    },
    {
     "name": "stdout",
     "output_type": "stream",
     "text": [
      "(32, 64, 64)\n",
      "Epoch 230: 0.9996865760020124 \n",
      "torch.Size([32, 256, 1])\n"
     ]
    },
    {
     "name": "stderr",
     "output_type": "stream",
     "text": [
      "999it [00:08, 119.92it/s]\n"
     ]
    },
    {
     "name": "stdout",
     "output_type": "stream",
     "text": [
      "(32, 64, 64)\n",
      "Epoch 231: 1.000342466482302 \n",
      "torch.Size([32, 256, 1])\n"
     ]
    },
    {
     "name": "stderr",
     "output_type": "stream",
     "text": [
      "999it [00:08, 119.42it/s]\n"
     ]
    },
    {
     "name": "stdout",
     "output_type": "stream",
     "text": [
      "(32, 64, 64)\n",
      "Epoch 232: 0.9996921076038019 \n",
      "torch.Size([32, 256, 1])\n"
     ]
    },
    {
     "name": "stderr",
     "output_type": "stream",
     "text": [
      "823it [00:06, 122.27it/s]IOPub message rate exceeded.\n",
      "The notebook server will temporarily stop sending output\n",
      "to the client in order to avoid crashing it.\n",
      "To change this limit, set the config variable\n",
      "`--NotebookApp.iopub_msg_rate_limit`.\n",
      "\n",
      "Current values:\n",
      "NotebookApp.iopub_msg_rate_limit=1000.0 (msgs/sec)\n",
      "NotebookApp.rate_limit_window=3.0 (secs)\n",
      "\n",
      "999it [00:08, 119.47it/s]\n"
     ]
    },
    {
     "name": "stdout",
     "output_type": "stream",
     "text": [
      "(32, 64, 64)\n",
      "Epoch 397: 1.0002595990653929 \n",
      "torch.Size([32, 256, 1])\n"
     ]
    },
    {
     "name": "stderr",
     "output_type": "stream",
     "text": [
      "999it [00:08, 120.19it/s]\n"
     ]
    },
    {
     "name": "stdout",
     "output_type": "stream",
     "text": [
      "(32, 64, 64)\n",
      "Epoch 488: 0.9997567931811014 \n",
      "torch.Size([32, 256, 1])\n"
     ]
    },
    {
     "name": "stderr",
     "output_type": "stream",
     "text": [
      "999it [00:08, 120.12it/s]\n"
     ]
    },
    {
     "name": "stdout",
     "output_type": "stream",
     "text": [
      "(32, 64, 64)\n",
      "Epoch 489: 0.9997967326544165 \n",
      "torch.Size([32, 256, 1])\n"
     ]
    },
    {
     "name": "stderr",
     "output_type": "stream",
     "text": [
      "999it [00:08, 121.32it/s]\n"
     ]
    },
    {
     "name": "stdout",
     "output_type": "stream",
     "text": [
      "(32, 64, 64)\n",
      "Epoch 490: 0.9999566155720533 \n",
      "torch.Size([32, 256, 1])\n"
     ]
    },
    {
     "name": "stderr",
     "output_type": "stream",
     "text": [
      "999it [00:08, 120.66it/s]\n"
     ]
    },
    {
     "name": "stdout",
     "output_type": "stream",
     "text": [
      "(32, 64, 64)\n",
      "Epoch 491: 1.0002174639120334 \n",
      "torch.Size([32, 256, 1])\n"
     ]
    },
    {
     "name": "stderr",
     "output_type": "stream",
     "text": [
      "999it [00:08, 118.70it/s]\n"
     ]
    },
    {
     "name": "stdout",
     "output_type": "stream",
     "text": [
      "(32, 64, 64)\n",
      "Epoch 492: 1.0001702890163515 \n",
      "torch.Size([32, 256, 1])\n"
     ]
    },
    {
     "name": "stderr",
     "output_type": "stream",
     "text": [
      "999it [00:08, 121.02it/s]\n"
     ]
    },
    {
     "name": "stdout",
     "output_type": "stream",
     "text": [
      "(32, 64, 64)\n",
      "Epoch 493: 1.0001635309157333 \n",
      "torch.Size([32, 256, 1])\n"
     ]
    },
    {
     "name": "stderr",
     "output_type": "stream",
     "text": [
      "999it [00:08, 121.49it/s]\n"
     ]
    },
    {
     "name": "stdout",
     "output_type": "stream",
     "text": [
      "(32, 64, 64)\n",
      "Epoch 494: 1.0000125586501951 \n",
      "torch.Size([32, 256, 1])\n"
     ]
    },
    {
     "name": "stderr",
     "output_type": "stream",
     "text": [
      "999it [00:08, 120.37it/s]\n"
     ]
    },
    {
     "name": "stdout",
     "output_type": "stream",
     "text": [
      "(32, 64, 64)\n",
      "Epoch 495: 0.9997852590025925 \n",
      "torch.Size([32, 256, 1])\n"
     ]
    },
    {
     "name": "stderr",
     "output_type": "stream",
     "text": [
      "999it [00:08, 119.66it/s]\n"
     ]
    },
    {
     "name": "stdout",
     "output_type": "stream",
     "text": [
      "(32, 64, 64)\n",
      "Epoch 496: 0.9997376518520883 \n",
      "torch.Size([32, 256, 1])\n"
     ]
    },
    {
     "name": "stderr",
     "output_type": "stream",
     "text": [
      "999it [00:08, 121.65it/s]\n"
     ]
    },
    {
     "name": "stdout",
     "output_type": "stream",
     "text": [
      "(32, 64, 64)\n",
      "Epoch 497: 0.9999120855719094 \n",
      "torch.Size([32, 256, 1])\n"
     ]
    },
    {
     "name": "stderr",
     "output_type": "stream",
     "text": [
      "999it [00:08, 120.88it/s]\n"
     ]
    },
    {
     "name": "stdout",
     "output_type": "stream",
     "text": [
      "(32, 64, 64)\n",
      "Epoch 498: 0.9997649454488987 \n",
      "torch.Size([32, 256, 1])\n"
     ]
    },
    {
     "name": "stderr",
     "output_type": "stream",
     "text": [
      "999it [00:08, 119.68it/s]\n"
     ]
    },
    {
     "name": "stdout",
     "output_type": "stream",
     "text": [
      "(32, 64, 64)\n",
      "Epoch 499: 0.9995653663224321 \n",
      "torch.Size([32, 256, 1])\n"
     ]
    },
    {
     "name": "stderr",
     "output_type": "stream",
     "text": [
      "999it [00:08, 118.89it/s]\n"
     ]
    },
    {
     "name": "stdout",
     "output_type": "stream",
     "text": [
      "(32, 64, 64)\n",
      "Epoch 500: 1.0003300047502286 \n",
      "torch.Size([32, 256, 1])\n"
     ]
    },
    {
     "name": "stderr",
     "output_type": "stream",
     "text": [
      "999it [00:08, 121.19it/s]\n"
     ]
    },
    {
     "name": "stdout",
     "output_type": "stream",
     "text": [
      "(32, 64, 64)\n",
      "Epoch 501: 1.0001687485028088 \n",
      "torch.Size([32, 256, 1])\n"
     ]
    },
    {
     "name": "stderr",
     "output_type": "stream",
     "text": [
      "999it [00:08, 120.99it/s]\n"
     ]
    },
    {
     "name": "stdout",
     "output_type": "stream",
     "text": [
      "(32, 64, 64)\n",
      "Epoch 502: 1.0002438750693468 \n",
      "torch.Size([32, 256, 1])\n"
     ]
    },
    {
     "name": "stderr",
     "output_type": "stream",
     "text": [
      "999it [00:08, 118.96it/s]\n"
     ]
    },
    {
     "name": "stdout",
     "output_type": "stream",
     "text": [
      "(32, 64, 64)\n",
      "Epoch 503: 1.000053407700081 \n",
      "torch.Size([32, 256, 1])\n"
     ]
    },
    {
     "name": "stderr",
     "output_type": "stream",
     "text": [
      "999it [00:08, 120.65it/s]\n"
     ]
    },
    {
     "name": "stdout",
     "output_type": "stream",
     "text": [
      "(32, 64, 64)\n",
      "Epoch 504: 1.0005405385319779 \n",
      "torch.Size([32, 256, 1])\n"
     ]
    },
    {
     "name": "stderr",
     "output_type": "stream",
     "text": [
      "999it [00:08, 118.46it/s]\n"
     ]
    },
    {
     "name": "stdout",
     "output_type": "stream",
     "text": [
      "(32, 64, 64)\n",
      "Epoch 505: 1.0001526949851494 \n",
      "torch.Size([32, 256, 1])\n"
     ]
    },
    {
     "name": "stderr",
     "output_type": "stream",
     "text": [
      "999it [00:08, 120.79it/s]\n"
     ]
    },
    {
     "name": "stdout",
     "output_type": "stream",
     "text": [
      "(32, 64, 64)\n",
      "Epoch 506: 0.9997970011176133 \n",
      "torch.Size([32, 256, 1])\n"
     ]
    },
    {
     "name": "stderr",
     "output_type": "stream",
     "text": [
      "999it [00:08, 119.27it/s]\n"
     ]
    },
    {
     "name": "stdout",
     "output_type": "stream",
     "text": [
      "(32, 64, 64)\n",
      "Epoch 507: 0.9999208183792548 \n",
      "torch.Size([32, 256, 1])\n"
     ]
    },
    {
     "name": "stderr",
     "output_type": "stream",
     "text": [
      "999it [00:08, 121.23it/s]\n"
     ]
    },
    {
     "name": "stdout",
     "output_type": "stream",
     "text": [
      "(32, 64, 64)\n",
      "Epoch 508: 1.0001385759531967 \n",
      "torch.Size([32, 256, 1])\n"
     ]
    },
    {
     "name": "stderr",
     "output_type": "stream",
     "text": [
      "999it [00:08, 121.39it/s]\n"
     ]
    },
    {
     "name": "stdout",
     "output_type": "stream",
     "text": [
      "(32, 64, 64)\n",
      "Epoch 509: 0.9996419844588613 \n",
      "torch.Size([32, 256, 1])\n"
     ]
    },
    {
     "name": "stderr",
     "output_type": "stream",
     "text": [
      "999it [00:08, 118.33it/s]\n"
     ]
    },
    {
     "name": "stdout",
     "output_type": "stream",
     "text": [
      "(32, 64, 64)\n",
      "Epoch 510: 1.0000568623465251 \n",
      "torch.Size([32, 256, 1])\n"
     ]
    },
    {
     "name": "stderr",
     "output_type": "stream",
     "text": [
      "999it [00:08, 119.41it/s]\n"
     ]
    },
    {
     "name": "stdout",
     "output_type": "stream",
     "text": [
      "(32, 64, 64)\n",
      "Epoch 511: 0.9998572115006485 \n",
      "torch.Size([32, 256, 1])\n"
     ]
    },
    {
     "name": "stderr",
     "output_type": "stream",
     "text": [
      "999it [00:08, 121.06it/s]\n"
     ]
    },
    {
     "name": "stdout",
     "output_type": "stream",
     "text": [
      "(32, 64, 64)\n",
      "Epoch 512: 0.9998668388622564 \n",
      "torch.Size([32, 256, 1])\n"
     ]
    },
    {
     "name": "stderr",
     "output_type": "stream",
     "text": [
      "999it [00:08, 121.70it/s]\n"
     ]
    },
    {
     "name": "stdout",
     "output_type": "stream",
     "text": [
      "(32, 64, 64)\n",
      "Epoch 513: 1.0001713807989911 \n",
      "torch.Size([32, 256, 1])\n"
     ]
    },
    {
     "name": "stderr",
     "output_type": "stream",
     "text": [
      "999it [00:08, 118.40it/s]\n"
     ]
    },
    {
     "name": "stdout",
     "output_type": "stream",
     "text": [
      "(32, 64, 64)\n",
      "Epoch 514: 1.000264729426159 \n",
      "torch.Size([32, 256, 1])\n"
     ]
    },
    {
     "name": "stderr",
     "output_type": "stream",
     "text": [
      "999it [00:08, 121.11it/s]\n"
     ]
    },
    {
     "name": "stdout",
     "output_type": "stream",
     "text": [
      "(32, 64, 64)\n",
      "Epoch 515: 0.9996211145951496 \n",
      "torch.Size([32, 256, 1])\n"
     ]
    },
    {
     "name": "stderr",
     "output_type": "stream",
     "text": [
      "999it [00:08, 121.72it/s]\n"
     ]
    },
    {
     "name": "stdout",
     "output_type": "stream",
     "text": [
      "(32, 64, 64)\n",
      "Epoch 516: 1.0000237347633858 \n",
      "torch.Size([32, 256, 1])\n"
     ]
    },
    {
     "name": "stderr",
     "output_type": "stream",
     "text": [
      "999it [00:08, 120.66it/s]\n"
     ]
    },
    {
     "name": "stdout",
     "output_type": "stream",
     "text": [
      "(32, 64, 64)\n",
      "Epoch 517: 1.0000670954463928 \n",
      "torch.Size([32, 256, 1])\n"
     ]
    },
    {
     "name": "stderr",
     "output_type": "stream",
     "text": [
      "999it [00:08, 118.52it/s]\n"
     ]
    },
    {
     "name": "stdout",
     "output_type": "stream",
     "text": [
      "(32, 64, 64)\n",
      "Epoch 518: 1.0001289292079647 \n",
      "torch.Size([32, 256, 1])\n"
     ]
    },
    {
     "name": "stderr",
     "output_type": "stream",
     "text": [
      "999it [00:08, 119.89it/s]\n"
     ]
    },
    {
     "name": "stdout",
     "output_type": "stream",
     "text": [
      "(32, 64, 64)\n",
      "Epoch 519: 0.9999036721097745 \n",
      "torch.Size([32, 256, 1])\n"
     ]
    },
    {
     "name": "stderr",
     "output_type": "stream",
     "text": [
      "999it [00:08, 121.23it/s]\n"
     ]
    },
    {
     "name": "stdout",
     "output_type": "stream",
     "text": [
      "(32, 64, 64)\n",
      "Epoch 520: 0.9999673138789045 \n",
      "torch.Size([32, 256, 1])\n"
     ]
    },
    {
     "name": "stderr",
     "output_type": "stream",
     "text": [
      "999it [00:08, 118.42it/s]\n"
     ]
    },
    {
     "name": "stdout",
     "output_type": "stream",
     "text": [
      "(32, 64, 64)\n",
      "Epoch 521: 0.9999693394676457 \n",
      "torch.Size([32, 256, 1])\n"
     ]
    },
    {
     "name": "stderr",
     "output_type": "stream",
     "text": [
      "999it [00:08, 116.76it/s]\n"
     ]
    },
    {
     "name": "stdout",
     "output_type": "stream",
     "text": [
      "(32, 64, 64)\n",
      "Epoch 522: 0.9995571379739094 \n",
      "torch.Size([32, 256, 1])\n"
     ]
    },
    {
     "name": "stderr",
     "output_type": "stream",
     "text": [
      "889it [00:07, 121.52it/s]IOPub message rate exceeded.\n",
      "The notebook server will temporarily stop sending output\n",
      "to the client in order to avoid crashing it.\n",
      "To change this limit, set the config variable\n",
      "`--NotebookApp.iopub_msg_rate_limit`.\n",
      "\n",
      "Current values:\n",
      "NotebookApp.iopub_msg_rate_limit=1000.0 (msgs/sec)\n",
      "NotebookApp.rate_limit_window=3.0 (secs)\n",
      "\n"
     ]
    },
    {
     "name": "stdout",
     "output_type": "stream",
     "text": [
      "torch.Size([32, 256, 1])\n"
     ]
    },
    {
     "name": "stderr",
     "output_type": "stream",
     "text": [
      "999it [00:08, 119.94it/s]\n"
     ]
    },
    {
     "name": "stdout",
     "output_type": "stream",
     "text": [
      "(32, 64, 64)\n",
      "Epoch 527: 1.0000901614747397 \n",
      "torch.Size([32, 256, 1])\n"
     ]
    },
    {
     "name": "stderr",
     "output_type": "stream",
     "text": [
      "999it [00:08, 120.85it/s]\n"
     ]
    },
    {
     "name": "stdout",
     "output_type": "stream",
     "text": [
      "(32, 64, 64)\n",
      "Epoch 528: 1.000302661725176 \n",
      "torch.Size([32, 256, 1])\n"
     ]
    },
    {
     "name": "stderr",
     "output_type": "stream",
     "text": [
      "999it [00:08, 117.23it/s]\n"
     ]
    },
    {
     "name": "stdout",
     "output_type": "stream",
     "text": [
      "(32, 64, 64)\n",
      "Epoch 529: 0.999919892326603 \n",
      "torch.Size([32, 256, 1])\n"
     ]
    },
    {
     "name": "stderr",
     "output_type": "stream",
     "text": [
      "999it [00:08, 115.47it/s]\n"
     ]
    },
    {
     "name": "stdout",
     "output_type": "stream",
     "text": [
      "(32, 64, 64)\n",
      "Epoch 530: 1.0000538176637355 \n",
      "torch.Size([32, 256, 1])\n"
     ]
    },
    {
     "name": "stderr",
     "output_type": "stream",
     "text": [
      "999it [00:08, 120.34it/s]\n"
     ]
    },
    {
     "name": "stdout",
     "output_type": "stream",
     "text": [
      "(32, 64, 64)\n",
      "Epoch 531: 0.9999748739769788 \n",
      "torch.Size([32, 256, 1])\n"
     ]
    },
    {
     "name": "stderr",
     "output_type": "stream",
     "text": [
      "999it [00:08, 122.14it/s]\n"
     ]
    },
    {
     "name": "stdout",
     "output_type": "stream",
     "text": [
      "(32, 64, 64)\n",
      "Epoch 532: 1.0005544075151769 \n",
      "torch.Size([32, 256, 1])\n"
     ]
    },
    {
     "name": "stderr",
     "output_type": "stream",
     "text": [
      "999it [00:08, 117.31it/s]\n"
     ]
    },
    {
     "name": "stdout",
     "output_type": "stream",
     "text": [
      "(32, 64, 64)\n",
      "Epoch 533: 1.000094269349323 \n",
      "torch.Size([32, 256, 1])\n"
     ]
    },
    {
     "name": "stderr",
     "output_type": "stream",
     "text": [
      "999it [00:08, 115.70it/s]\n"
     ]
    },
    {
     "name": "stdout",
     "output_type": "stream",
     "text": [
      "(32, 64, 64)\n",
      "Epoch 534: 1.0000026904470551 \n",
      "torch.Size([32, 256, 1])\n"
     ]
    },
    {
     "name": "stderr",
     "output_type": "stream",
     "text": [
      "999it [00:08, 119.77it/s]\n"
     ]
    },
    {
     "name": "stdout",
     "output_type": "stream",
     "text": [
      "(32, 64, 64)\n",
      "Epoch 535: 1.0002175976590413 \n",
      "torch.Size([32, 256, 1])\n"
     ]
    },
    {
     "name": "stderr",
     "output_type": "stream",
     "text": [
      "999it [00:08, 120.48it/s]\n"
     ]
    },
    {
     "name": "stdout",
     "output_type": "stream",
     "text": [
      "(32, 64, 64)\n",
      "Epoch 536: 0.9994802591277332 \n",
      "torch.Size([32, 256, 1])\n"
     ]
    },
    {
     "name": "stderr",
     "output_type": "stream",
     "text": [
      "999it [00:08, 117.53it/s]\n"
     ]
    },
    {
     "name": "stdout",
     "output_type": "stream",
     "text": [
      "(32, 64, 64)\n",
      "Epoch 537: 0.9997778525197409 \n",
      "torch.Size([32, 256, 1])\n"
     ]
    },
    {
     "name": "stderr",
     "output_type": "stream",
     "text": [
      "999it [00:08, 117.15it/s]\n"
     ]
    },
    {
     "name": "stdout",
     "output_type": "stream",
     "text": [
      "(32, 64, 64)\n",
      "Epoch 538: 1.0002111739259425 \n",
      "torch.Size([32, 256, 1])\n"
     ]
    },
    {
     "name": "stderr",
     "output_type": "stream",
     "text": [
      "999it [00:08, 115.76it/s]\n"
     ]
    },
    {
     "name": "stdout",
     "output_type": "stream",
     "text": [
      "(32, 64, 64)\n",
      "Epoch 539: 0.9998778070860762 \n",
      "torch.Size([32, 256, 1])\n"
     ]
    },
    {
     "name": "stderr",
     "output_type": "stream",
     "text": [
      "999it [00:08, 121.37it/s]\n"
     ]
    },
    {
     "name": "stdout",
     "output_type": "stream",
     "text": [
      "(32, 64, 64)\n",
      "Epoch 540: 0.9996400170209931 \n",
      "torch.Size([32, 256, 1])\n"
     ]
    },
    {
     "name": "stderr",
     "output_type": "stream",
     "text": [
      "999it [00:08, 120.40it/s]\n"
     ]
    },
    {
     "name": "stdout",
     "output_type": "stream",
     "text": [
      "(32, 64, 64)\n",
      "Epoch 541: 1.0002346499179438 \n",
      "torch.Size([32, 256, 1])\n"
     ]
    },
    {
     "name": "stderr",
     "output_type": "stream",
     "text": [
      "999it [00:08, 112.94it/s]\n"
     ]
    },
    {
     "name": "stdout",
     "output_type": "stream",
     "text": [
      "(32, 64, 64)\n",
      "Epoch 542: 1.000148463539961 \n",
      "torch.Size([32, 256, 1])\n"
     ]
    },
    {
     "name": "stderr",
     "output_type": "stream",
     "text": [
      "999it [00:08, 116.00it/s]\n"
     ]
    },
    {
     "name": "stdout",
     "output_type": "stream",
     "text": [
      "(32, 64, 64)\n",
      "Epoch 543: 1.0005066419035438 \n",
      "torch.Size([32, 256, 1])\n"
     ]
    },
    {
     "name": "stderr",
     "output_type": "stream",
     "text": [
      "999it [00:08, 119.66it/s]\n"
     ]
    },
    {
     "name": "stdout",
     "output_type": "stream",
     "text": [
      "(32, 64, 64)\n",
      "Epoch 544: 0.9998686924213316 \n",
      "torch.Size([32, 256, 1])\n"
     ]
    },
    {
     "name": "stderr",
     "output_type": "stream",
     "text": [
      "798it [00:06, 123.10it/s]"
     ]
    }
   ],
   "source": [
    "best_loss = 10000000\n",
    "train_loss_list = []\n",
    "n_epochs = 5000\n",
    "\n",
    "# if not os.path.exists(exp_path):\n",
    "#     os.mkdir(exp_path)\n",
    "# print(\"Training \", end='')\n",
    "for epoch_idx in range(n_epochs):\n",
    "    # print('=', end='')\n",
    "    \n",
    "    train_loss = train(model,diffusion,encoder,decoder,encoder_sse,optimizer,train_data_loader,is_wandb=is_wandb)     \n",
    "\n",
    "    train_loss_list.append(train_loss)\n",
    "    \n",
    "    \n",
    "    print(f\"Epoch {epoch_idx+1}: {train_loss} \")\n",
    "    if (train_loss < best_loss): \n",
    "        best_loss = train_loss\n",
    "        # print(\"Saving Best Model =======================================>\")\n",
    "        torch.save(model, f'{exp_path}/u_net_diff_best_loss.pth.tar')\n",
    "        # torch.save(cond_enc, f'{exp_path}/cond_enc_diff.pth.tar')\n",
    "    if (epoch_idx+1)%10 == 0:\n",
    "        torch.save(model, f'{exp_path}/u_net_diff_checkpoint.pth.tar')\n",
    "                       \n",
    "torch.save(model, f'{exp_path}/u_net_diff_final.pth.tar')    \n",
    "print('Training Completed')"
   ]
  },
  {
   "cell_type": "code",
   "execution_count": null,
   "id": "bec11e9a-af42-4dcd-b9e2-aff1d7291207",
   "metadata": {},
   "outputs": [],
   "source": []
  },
  {
   "cell_type": "code",
   "execution_count": null,
   "id": "96715009-70c7-4ec9-8553-9abe71af56ca",
   "metadata": {},
   "outputs": [],
   "source": []
  }
 ],
 "metadata": {
  "kernelspec": {
   "display_name": "Python 3 (ipykernel)",
   "language": "python",
   "name": "python3"
  },
  "language_info": {
   "codemirror_mode": {
    "name": "ipython",
    "version": 3
   },
   "file_extension": ".py",
   "mimetype": "text/x-python",
   "name": "python",
   "nbconvert_exporter": "python",
   "pygments_lexer": "ipython3",
   "version": "3.7.11"
  }
 },
 "nbformat": 4,
 "nbformat_minor": 5
}
