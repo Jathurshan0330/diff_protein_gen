{
 "cells": [
  {
   "cell_type": "code",
   "execution_count": 1,
   "id": "eab82be4-e026-4774-8924-4b11d8c58ba3",
   "metadata": {},
   "outputs": [],
   "source": [
    "import glob"
   ]
  },
  {
   "cell_type": "code",
   "execution_count": 13,
   "id": "dffebc5d-0b20-4792-bb9b-fda0a45daffb",
   "metadata": {},
   "outputs": [],
   "source": [
    "!cd /home/jupyter-jathurshan/diff_protein_gen"
   ]
  },
  {
   "cell_type": "code",
   "execution_count": 14,
   "id": "d123c8d9-82cc-4cf6-b3a0-c9953a0f956f",
   "metadata": {},
   "outputs": [],
   "source": [
    "file_list = glob.glob(\"./*.ipynb\")"
   ]
  },
  {
   "cell_type": "code",
   "execution_count": 15,
   "id": "34329da9-c114-4bc4-ae88-52655c20c10a",
   "metadata": {},
   "outputs": [
    {
     "data": {
      "text/plain": [
       "['./Diffusion_toy_experiment_distoref.ipynb',\n",
       " './Diffusion_toy_experiment_distogram_AF_conditioned_on_SSE.ipynb',\n",
       " './Autoencoder_with_SM_training_for_distogram_phi_theta_omega.ipynb',\n",
       " './Diffusion_toy_experiment_SSE_conditioned_distogram_phi_theta_omega.ipynb',\n",
       " './Diffusion_toy_experiment_distoref_condition_sse_CA.ipynb',\n",
       " './data_creation.ipynb',\n",
       " './Diffusion_toy_experiment.ipynb',\n",
       " './Autoencoder_training.ipynb',\n",
       " './Diffusion_toy_experiment_disogram_phi_theta_omega.ipynb',\n",
       " './Autoencoder_training_for_distogram_phi_theta_omega.ipynb',\n",
       " './Autoencoder_training_for_sse.ipynb',\n",
       " './Diffusion_toy_experiment_mnist_and_patterns.ipynb',\n",
       " './Untitled.ipynb',\n",
       " './Autoencoder_training_for_distogram.ipynb',\n",
       " './Diffusion_toy_experiment_distogram_AF_unconditional.ipynb',\n",
       " './Diffusion_toy_experiment_SSE_conditioned_distoref.ipynb',\n",
       " './VQVAE_training_for_distogram.ipynb',\n",
       " './data_creation_disto_alphafold.ipynb',\n",
       " './Autoencoder_training_for_AF_distogram_Sequence.ipynb',\n",
       " './Autoencoder_training_mnist.ipynb']"
      ]
     },
     "execution_count": 15,
     "metadata": {},
     "output_type": "execute_result"
    }
   ],
   "source": [
    "file_list"
   ]
  },
  {
   "cell_type": "code",
   "execution_count": 18,
   "id": "13575647-7f23-4278-886c-08b910063f3e",
   "metadata": {},
   "outputs": [
    {
     "name": "stdout",
     "output_type": "stream",
     "text": [
      "fatal: pathspec '[./Diffusion_toy_experiment_distoref.ipynb,' did not match any files\n"
     ]
    }
   ],
   "source": [
    "!git add $file_list[1]"
   ]
  },
  {
   "cell_type": "code",
   "execution_count": 12,
   "id": "60dfdc30-b1b5-4db8-8096-091084f1691a",
   "metadata": {},
   "outputs": [
    {
     "data": {
      "text/plain": [
       "'./Diffusion_toy_experiment_distoref.ipynb'"
      ]
     },
     "execution_count": 12,
     "metadata": {},
     "output_type": "execute_result"
    }
   ],
   "source": [
    "file_list[0]"
   ]
  },
  {
   "cell_type": "code",
   "execution_count": null,
   "id": "a064d67e-10b0-4990-8809-a88f52162e68",
   "metadata": {},
   "outputs": [],
   "source": []
  }
 ],
 "metadata": {
  "kernelspec": {
   "display_name": "Python 3 (ipykernel)",
   "language": "python",
   "name": "python3"
  },
  "language_info": {
   "codemirror_mode": {
    "name": "ipython",
    "version": 3
   },
   "file_extension": ".py",
   "mimetype": "text/x-python",
   "name": "python",
   "nbconvert_exporter": "python",
   "pygments_lexer": "ipython3",
   "version": "3.7.11"
  }
 },
 "nbformat": 4,
 "nbformat_minor": 5
}
